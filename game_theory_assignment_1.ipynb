{
  "nbformat": 4,
  "nbformat_minor": 0,
  "metadata": {
    "language_info": {
      "codemirror_mode": {
        "name": "ipython",
        "version": 3
      },
      "file_extension": ".py",
      "mimetype": "text/x-python",
      "name": "python",
      "nbconvert_exporter": "python",
      "pygments_lexer": "ipython3",
      "version": "3.7.4-final"
    },
    "orig_nbformat": 2,
    "kernelspec": {
      "name": "python3",
      "display_name": "Python 3",
      "language": "python"
    },
    "colab": {
      "name": "game_theory_assignment_1.ipynb",
      "provenance": [],
      "toc_visible": true,
      "include_colab_link": true
    }
  },
  "cells": [
    {
      "cell_type": "markdown",
      "metadata": {
        "id": "view-in-github",
        "colab_type": "text"
      },
      "source": [
        "<a href=\"https://colab.research.google.com/github/joyjixu/game_theory/blob/main/game_theory_assignment_1.ipynb\" target=\"_parent\"><img src=\"https://colab.research.google.com/assets/colab-badge.svg\" alt=\"Open In Colab\"/></a>"
      ]
    },
    {
      "cell_type": "markdown",
      "metadata": {
        "id": "0wBlyQDSMmAN"
      },
      "source": [
        "# BASC00017 Interdisciplinary Game Theory Assignment 1\r\n",
        "# Code appendix\r\n",
        "by Joy Xu\r\n",
        "\r\n",
        "---\r\n"
      ]
    },
    {
      "cell_type": "markdown",
      "metadata": {
        "id": "tEjPAEoDNJq3"
      },
      "source": [
        "First we install the necessary Python libraries and update dependencies:"
      ]
    },
    {
      "cell_type": "code",
      "metadata": {
        "colab": {
          "base_uri": "https://localhost:8080/",
          "height": 1000
        },
        "id": "ZXZ0j35YzTPw",
        "outputId": "4e37736f-d13b-47a1-dcdf-63217e72f5f6"
      },
      "source": [
        "! pip install nashpy\r\n",
        "! pip install axelrod\r\n",
        "\r\n",
        "! pip install -U PyYAML"
      ],
      "execution_count": null,
      "outputs": [
        {
          "output_type": "stream",
          "text": [
            "Collecting nashpy\n",
            "  Downloading https://files.pythonhosted.org/packages/ad/a2/5d36744511640db1869029d2ab324b55f6eaaa2a51f75a87408a7e8000f4/nashpy-0.0.19.tar.gz\n",
            "Requirement already satisfied: numpy>=1.12.1 in /usr/local/lib/python3.6/dist-packages (from nashpy) (1.19.5)\n",
            "Requirement already satisfied: scipy>=0.19.0 in /usr/local/lib/python3.6/dist-packages (from nashpy) (1.4.1)\n",
            "Building wheels for collected packages: nashpy\n",
            "  Building wheel for nashpy (setup.py) ... \u001b[?25l\u001b[?25hdone\n",
            "  Created wheel for nashpy: filename=nashpy-0.0.19-cp36-none-any.whl size=10814 sha256=391e5ee273404f1fd67e4ab3cc88d76e15a95c1f2b946d37451f53ff88e8852f\n",
            "  Stored in directory: /root/.cache/pip/wheels/18/e9/56/2d04d01a6969d167f86d3afcb3d128c0b43d0d73ea471c835b\n",
            "Successfully built nashpy\n",
            "Installing collected packages: nashpy\n",
            "Successfully installed nashpy-0.0.19\n",
            "Collecting axelrod\n",
            "\u001b[?25l  Downloading https://files.pythonhosted.org/packages/58/e1/00d31360eae2cacf2c2fbaf4af822aaf22a9059b97b78a696db8e55569cb/Axelrod-4.10.0-py2.py3-none-any.whl (193kB)\n",
            "\u001b[K     |████████████████████████████████| 194kB 7.2MB/s \n",
            "\u001b[?25hRequirement already satisfied: dask>=2.9.2 in /usr/local/lib/python3.6/dist-packages (from axelrod) (2.12.0)\n",
            "Requirement already satisfied: numpy>=1.17.4 in /usr/local/lib/python3.6/dist-packages (from axelrod) (1.19.5)\n",
            "Requirement already satisfied: pandas>=1.0.0 in /usr/local/lib/python3.6/dist-packages (from axelrod) (1.1.5)\n",
            "Requirement already satisfied: tqdm>=4.39.0 in /usr/local/lib/python3.6/dist-packages (from axelrod) (4.41.1)\n",
            "Requirement already satisfied: pyyaml>=3.01 in /usr/local/lib/python3.6/dist-packages (from axelrod) (3.13)\n",
            "Requirement already satisfied: scipy>=1.3.3 in /usr/local/lib/python3.6/dist-packages (from axelrod) (1.4.1)\n",
            "Collecting fsspec>=0.6.0\n",
            "\u001b[?25l  Downloading https://files.pythonhosted.org/packages/ec/80/72ac0982cc833945fada4b76c52f0f65435ba4d53bc9317d1c70b5f7e7d5/fsspec-0.8.5-py3-none-any.whl (98kB)\n",
            "\u001b[K     |████████████████████████████████| 102kB 6.0MB/s \n",
            "\u001b[?25hRequirement already satisfied: matplotlib>=3.0.3 in /usr/local/lib/python3.6/dist-packages (from axelrod) (3.2.2)\n",
            "Collecting prompt-toolkit>=3.0\n",
            "\u001b[?25l  Downloading https://files.pythonhosted.org/packages/a6/0b/c6de29441b29f8b54d5bbe29a8b223de6e400714ff50e85541bd4c783421/prompt_toolkit-3.0.16-py3-none-any.whl (366kB)\n",
            "\u001b[K     |████████████████████████████████| 368kB 11.5MB/s \n",
            "\u001b[?25hRequirement already satisfied: toolz>=0.8.2 in /usr/local/lib/python3.6/dist-packages (from axelrod) (0.11.1)\n",
            "Requirement already satisfied: cloudpickle>=0.2.2 in /usr/local/lib/python3.6/dist-packages (from axelrod) (1.3.0)\n",
            "Requirement already satisfied: pytz>=2017.2 in /usr/local/lib/python3.6/dist-packages (from pandas>=1.0.0->axelrod) (2018.9)\n",
            "Requirement already satisfied: python-dateutil>=2.7.3 in /usr/local/lib/python3.6/dist-packages (from pandas>=1.0.0->axelrod) (2.8.1)\n",
            "Requirement already satisfied: pyparsing!=2.0.4,!=2.1.2,!=2.1.6,>=2.0.1 in /usr/local/lib/python3.6/dist-packages (from matplotlib>=3.0.3->axelrod) (2.4.7)\n",
            "Requirement already satisfied: cycler>=0.10 in /usr/local/lib/python3.6/dist-packages (from matplotlib>=3.0.3->axelrod) (0.10.0)\n",
            "Requirement already satisfied: kiwisolver>=1.0.1 in /usr/local/lib/python3.6/dist-packages (from matplotlib>=3.0.3->axelrod) (1.3.1)\n",
            "Requirement already satisfied: wcwidth in /usr/local/lib/python3.6/dist-packages (from prompt-toolkit>=3.0->axelrod) (0.2.5)\n",
            "Requirement already satisfied: six>=1.5 in /usr/local/lib/python3.6/dist-packages (from python-dateutil>=2.7.3->pandas>=1.0.0->axelrod) (1.15.0)\n",
            "\u001b[31mERROR: jupyter-console 5.2.0 has requirement prompt-toolkit<2.0.0,>=1.0.0, but you'll have prompt-toolkit 3.0.16 which is incompatible.\u001b[0m\n",
            "\u001b[31mERROR: ipython 5.5.0 has requirement prompt-toolkit<2.0.0,>=1.0.4, but you'll have prompt-toolkit 3.0.16 which is incompatible.\u001b[0m\n",
            "Installing collected packages: fsspec, prompt-toolkit, axelrod\n",
            "  Found existing installation: prompt-toolkit 1.0.18\n",
            "    Uninstalling prompt-toolkit-1.0.18:\n",
            "      Successfully uninstalled prompt-toolkit-1.0.18\n",
            "Successfully installed axelrod-4.10.0 fsspec-0.8.5 prompt-toolkit-3.0.16\n"
          ],
          "name": "stdout"
        },
        {
          "output_type": "display_data",
          "data": {
            "application/vnd.colab-display-data+json": {
              "pip_warning": {
                "packages": [
                  "prompt_toolkit"
                ]
              }
            }
          },
          "metadata": {
            "tags": []
          }
        },
        {
          "output_type": "stream",
          "text": [
            "Collecting PyYAML\n",
            "\u001b[?25l  Downloading https://files.pythonhosted.org/packages/7a/5b/bc0b5ab38247bba158504a410112b6c03f153c652734ece1849749e5f518/PyYAML-5.4.1-cp36-cp36m-manylinux1_x86_64.whl (640kB)\n",
            "\r\u001b[K     |▌                               | 10kB 14.0MB/s eta 0:00:01\r\u001b[K     |█                               | 20kB 16.7MB/s eta 0:00:01\r\u001b[K     |█▌                              | 30kB 10.5MB/s eta 0:00:01\r\u001b[K     |██                              | 40kB 7.6MB/s eta 0:00:01\r\u001b[K     |██▋                             | 51kB 7.1MB/s eta 0:00:01\r\u001b[K     |███                             | 61kB 6.7MB/s eta 0:00:01\r\u001b[K     |███▋                            | 71kB 6.9MB/s eta 0:00:01\r\u001b[K     |████                            | 81kB 7.2MB/s eta 0:00:01\r\u001b[K     |████▋                           | 92kB 7.1MB/s eta 0:00:01\r\u001b[K     |█████▏                          | 102kB 6.4MB/s eta 0:00:01\r\u001b[K     |█████▋                          | 112kB 6.4MB/s eta 0:00:01\r\u001b[K     |██████▏                         | 122kB 6.4MB/s eta 0:00:01\r\u001b[K     |██████▋                         | 133kB 6.4MB/s eta 0:00:01\r\u001b[K     |███████▏                        | 143kB 6.4MB/s eta 0:00:01\r\u001b[K     |███████▊                        | 153kB 6.4MB/s eta 0:00:01\r\u001b[K     |████████▏                       | 163kB 6.4MB/s eta 0:00:01\r\u001b[K     |████████▊                       | 174kB 6.4MB/s eta 0:00:01\r\u001b[K     |█████████▏                      | 184kB 6.4MB/s eta 0:00:01\r\u001b[K     |█████████▊                      | 194kB 6.4MB/s eta 0:00:01\r\u001b[K     |██████████▎                     | 204kB 6.4MB/s eta 0:00:01\r\u001b[K     |██████████▊                     | 215kB 6.4MB/s eta 0:00:01\r\u001b[K     |███████████▎                    | 225kB 6.4MB/s eta 0:00:01\r\u001b[K     |███████████▊                    | 235kB 6.4MB/s eta 0:00:01\r\u001b[K     |████████████▎                   | 245kB 6.4MB/s eta 0:00:01\r\u001b[K     |████████████▉                   | 256kB 6.4MB/s eta 0:00:01\r\u001b[K     |█████████████▎                  | 266kB 6.4MB/s eta 0:00:01\r\u001b[K     |█████████████▉                  | 276kB 6.4MB/s eta 0:00:01\r\u001b[K     |██████████████▎                 | 286kB 6.4MB/s eta 0:00:01\r\u001b[K     |██████████████▉                 | 296kB 6.4MB/s eta 0:00:01\r\u001b[K     |███████████████▍                | 307kB 6.4MB/s eta 0:00:01\r\u001b[K     |███████████████▉                | 317kB 6.4MB/s eta 0:00:01\r\u001b[K     |████████████████▍               | 327kB 6.4MB/s eta 0:00:01\r\u001b[K     |████████████████▉               | 337kB 6.4MB/s eta 0:00:01\r\u001b[K     |█████████████████▍              | 348kB 6.4MB/s eta 0:00:01\r\u001b[K     |██████████████████              | 358kB 6.4MB/s eta 0:00:01\r\u001b[K     |██████████████████▍             | 368kB 6.4MB/s eta 0:00:01\r\u001b[K     |███████████████████             | 378kB 6.4MB/s eta 0:00:01\r\u001b[K     |███████████████████▍            | 389kB 6.4MB/s eta 0:00:01\r\u001b[K     |████████████████████            | 399kB 6.4MB/s eta 0:00:01\r\u001b[K     |████████████████████▌           | 409kB 6.4MB/s eta 0:00:01\r\u001b[K     |█████████████████████           | 419kB 6.4MB/s eta 0:00:01\r\u001b[K     |█████████████████████▌          | 430kB 6.4MB/s eta 0:00:01\r\u001b[K     |██████████████████████          | 440kB 6.4MB/s eta 0:00:01\r\u001b[K     |██████████████████████▌         | 450kB 6.4MB/s eta 0:00:01\r\u001b[K     |███████████████████████         | 460kB 6.4MB/s eta 0:00:01\r\u001b[K     |███████████████████████▌        | 471kB 6.4MB/s eta 0:00:01\r\u001b[K     |████████████████████████        | 481kB 6.4MB/s eta 0:00:01\r\u001b[K     |████████████████████████▌       | 491kB 6.4MB/s eta 0:00:01\r\u001b[K     |█████████████████████████       | 501kB 6.4MB/s eta 0:00:01\r\u001b[K     |█████████████████████████▋      | 512kB 6.4MB/s eta 0:00:01\r\u001b[K     |██████████████████████████      | 522kB 6.4MB/s eta 0:00:01\r\u001b[K     |██████████████████████████▋     | 532kB 6.4MB/s eta 0:00:01\r\u001b[K     |███████████████████████████     | 542kB 6.4MB/s eta 0:00:01\r\u001b[K     |███████████████████████████▋    | 552kB 6.4MB/s eta 0:00:01\r\u001b[K     |████████████████████████████▏   | 563kB 6.4MB/s eta 0:00:01\r\u001b[K     |████████████████████████████▋   | 573kB 6.4MB/s eta 0:00:01\r\u001b[K     |█████████████████████████████▏  | 583kB 6.4MB/s eta 0:00:01\r\u001b[K     |█████████████████████████████▋  | 593kB 6.4MB/s eta 0:00:01\r\u001b[K     |██████████████████████████████▏ | 604kB 6.4MB/s eta 0:00:01\r\u001b[K     |██████████████████████████████▊ | 614kB 6.4MB/s eta 0:00:01\r\u001b[K     |███████████████████████████████▏| 624kB 6.4MB/s eta 0:00:01\r\u001b[K     |███████████████████████████████▊| 634kB 6.4MB/s eta 0:00:01\r\u001b[K     |████████████████████████████████| 645kB 6.4MB/s \n",
            "\u001b[?25hInstalling collected packages: PyYAML\n",
            "  Found existing installation: PyYAML 3.13\n",
            "    Uninstalling PyYAML-3.13:\n",
            "      Successfully uninstalled PyYAML-3.13\n",
            "Successfully installed PyYAML-5.4.1\n"
          ],
          "name": "stdout"
        }
      ]
    },
    {
      "cell_type": "markdown",
      "metadata": {
        "id": "_G6cuQc1NSwB"
      },
      "source": [
        "Then we can import the libraries we need into the notebook."
      ]
    },
    {
      "cell_type": "code",
      "metadata": {
        "id": "hRgM9WQcxxtt"
      },
      "source": [
        "import nashpy as nash\n",
        "import numpy as np\n",
        "import matplotlib.pyplot as plt\n",
        "import axelrod as axl\n",
        "from axelrod import Game\n",
        "from typing import Tuple, Union\n",
        "from axelrod import Action\n",
        "from statistics import mean\n",
        "\n"
      ],
      "execution_count": null,
      "outputs": []
    },
    {
      "cell_type": "code",
      "metadata": {
        "colab": {
          "base_uri": "https://localhost:8080/",
          "height": 35
        },
        "id": "TC9Zw7JJ0x5C",
        "outputId": "9555aca9-cb90-41fd-fe47-c8ae1156772e"
      },
      "source": [
        "import yaml\r\n",
        "yaml.__version__"
      ],
      "execution_count": null,
      "outputs": [
        {
          "output_type": "execute_result",
          "data": {
            "application/vnd.google.colaboratory.intrinsic+json": {
              "type": "string"
            },
            "text/plain": [
              "'5.4.1'"
            ]
          },
          "metadata": {
            "tags": []
          },
          "execution_count": 3
        }
      ]
    },
    {
      "cell_type": "markdown",
      "metadata": {
        "id": "u8TvGU7LNa2W"
      },
      "source": [
        "# 1. Checking MSNE using Nashpy\r\n",
        "Although the MSNE was calculated manually in the assignment, we can verify that is is correct using Nashpy. Below we create a game with player A and B, and set the payoffs."
      ]
    },
    {
      "cell_type": "code",
      "metadata": {
        "colab": {
          "base_uri": "https://localhost:8080/"
        },
        "id": "dVb3-IIBxxtx",
        "outputId": "561f89a0-8cd9-4793-f1be-ffa4628e7f3d"
      },
      "source": [
        "A = np.array([[3,0],[1,1]]) # A is the row player\n",
        "B = np.array([[2,1],[0,1]]) # B is the column player\n",
        "game1 = nash.Game(A,B)\n",
        "game1"
      ],
      "execution_count": null,
      "outputs": [
        {
          "output_type": "execute_result",
          "data": {
            "text/plain": [
              "Bi matrix game with payoff matrices:\n",
              "\n",
              "Row player:\n",
              "[[3 0]\n",
              " [1 1]]\n",
              "\n",
              "Column player:\n",
              "[[2 1]\n",
              " [0 1]]"
            ]
          },
          "metadata": {
            "tags": []
          },
          "execution_count": 4
        }
      ]
    },
    {
      "cell_type": "markdown",
      "metadata": {
        "id": "0SgWHUvdN77L"
      },
      "source": [
        "Then we can calculate any equilibria."
      ]
    },
    {
      "cell_type": "code",
      "metadata": {
        "colab": {
          "base_uri": "https://localhost:8080/"
        },
        "id": "DLz-dYEzxxty",
        "outputId": "2de8b7d5-4b54-4e7f-d641-1bbf31d99e28"
      },
      "source": [
        "# Player A has strategies (Top, Bottom) and Player B has strategies (Left, Right)\n",
        "equilibria = game1.support_enumeration()\n",
        "for eq in equilibria:\n",
        "    print(eq)"
      ],
      "execution_count": null,
      "outputs": [
        {
          "output_type": "stream",
          "text": [
            "(array([1., 0.]), array([1., 0.]))\n",
            "(array([0., 1.]), array([0., 1.]))\n",
            "(array([0.5, 0.5]), array([0.33333333, 0.66666667]))\n"
          ],
          "name": "stdout"
        }
      ]
    },
    {
      "cell_type": "markdown",
      "metadata": {
        "id": "50ChLVsaxxty"
      },
      "source": [
        "The cell above prints out three equilibria. The first two are the Pure strategy NE and the last one is the MSNE. We can read each line as (player1 action ([prob top strategy, prob bottom strategy]), player 2 action([prob left strategy, prob right strategy])).\n",
        "\n",
        "* top: cooperate\n",
        "* bottom : defect\n",
        "* left: cooperate\n",
        "* right: defect\n",
        "\n",
        "*Results:*\n",
        "\n",
        "(array(1., 0.), array(1., 0.)) ---> top left: both cooperate\n",
        "\n",
        "(array(0., 1.), array(0., 1.)) ---> bottom right: both defect\n",
        "\n",
        "(array(0.5, 0.5), array(0.33, 0.67)) ---> Mixed strategy: Player 1 (UK) plays cooperate with probability 0.5, Player 2 (China) plays cooperate with probability 0.33"
      ]
    },
    {
      "cell_type": "markdown",
      "metadata": {
        "id": "Qy4s59kfxxtz"
      },
      "source": [
        "____________________________________________________________________________________________________"
      ]
    },
    {
      "cell_type": "markdown",
      "metadata": {
        "id": "BujUeIWP6THs"
      },
      "source": [
        "# Iterating with Axelrod\r\n",
        "* Axelrod is another Python library we can use for iterating the stag hunt\r\n",
        "* The library was designed for the iterated Prsinoner's dilemma, so we have to change some code to allow for asymmetric payoffs\r\n",
        "* We do that by creating a new class that inherits from the Game class (what we would have used normally for a PD)"
      ]
    },
    {
      "cell_type": "code",
      "metadata": {
        "id": "Hofz6dVbxxtz"
      },
      "source": [
        "C, D = Action.C, Action.D\n",
        "class AsymmetricGame(Game):\n",
        "    Score = Union[int, float]\n",
        "    # the line below adds r2, p2, s2, t2 as parameters for the Game class (otherwise both players would have the same RPST payoffs)\n",
        "    def __init__(self, r: Score = 3, s: Score = 0, t: Score = 5, p: Score = 1, r2: Score = 3, s2: Score = 0, t2: Score = 5, p2: Score = 1) -> None:\n",
        "        \"\"\"Create a new game object.\n",
        "        \n",
        "        Parameters\n",
        "        ----------\n",
        "        r: int or float\n",
        "            Score obtained by both players for mutual cooperation.\n",
        "        s: int or float\n",
        "            Score obtained by a player for cooperating against a defector.\n",
        "        t: int or float\n",
        "            Score obtained by a player for defecting against a cooperator.\n",
        "        p: int or float\n",
        "            Score obtained by both player for mutual defection.\n",
        "        \"\"\"\n",
        "        self.scores = {(C, C): (r, r2), (D, D): (p, p2), (C, D): (s, t2), (D, C): (t, s2)}\n",
        "\n",
        "\n",
        "    def RPST(self) -> Tuple[Score, Score, Score, Score]:\n",
        "        \"\"\"Returns game matrix values in Press and Dyson notation.\"\"\"\n",
        "        R = self.scores[(C, C)]\n",
        "        P = self.scores[(D, D)]\n",
        "        S = self.scores[(C, D)]\n",
        "        T = self.scores[(D, C)]\n",
        "        return R, P, S, T"
      ],
      "execution_count": null,
      "outputs": []
    },
    {
      "cell_type": "markdown",
      "metadata": {
        "id": "vaHqmTCC7CL-"
      },
      "source": [
        "Next we also add a strategy wrapper to customize the player's strategy for our MSNE. In the assignment we mentioned that China would play the first round using MSNE, so the strategy wrapper will alter any strategy (e.g. tit-for-tat) so that the first round will be played with MSNE.\r\n",
        "\r\n",
        "We also create a strategy wrapper for the UK's MSNE."
      ]
    },
    {
      "cell_type": "code",
      "metadata": {
        "id": "xd-VMJ4Qxxt0"
      },
      "source": [
        "# the UK's probability p of cooperate is 0.5 so the parameter prob is set to 0.5\n",
        "def strategy_wrapper_uk(player, opponent, proposed_action, prob=0.5,*args, **kwargs):\n",
        "    \"\"\"\n",
        "    Strategy wrapper functions should be of the following form.\n",
        "\n",
        "    Parameters\n",
        "    ----------\n",
        "    player: Player object or subclass (self)\n",
        "    opponent: Player object or subclass\n",
        "    proposed_action: an axelrod.Action, C or D\n",
        "        The proposed action by the wrapped strategy\n",
        "        proposed_action = Player.strategy(...)\n",
        "    args, kwargs:\n",
        "        Any additional arguments that you need.\n",
        "\n",
        "    Returns\n",
        "    -------\n",
        "    action: an axelrod.Action, C or D\n",
        "\n",
        "    \"\"\"\n",
        "    if len(player.history) == 0:\n",
        "        random = np.random.rand()\n",
        "        if random < prob:\n",
        "            return C\n",
        "        return D        \n",
        "    return proposed_action"
      ],
      "execution_count": null,
      "outputs": []
    },
    {
      "cell_type": "code",
      "metadata": {
        "id": "0wrGv6rxxxt0"
      },
      "source": [
        "# China's probability p of cooperate is 0.33 so the parameter prob is set to 0.33\n",
        "\n",
        "def strategy_wrapper_china(player, opponent, proposed_action, prob=0.33,*args, **kwargs):\n",
        "    \"\"\"\n",
        "    Strategy wrapper functions should be of the following form.\n",
        "\n",
        "    Parameters\n",
        "    ----------\n",
        "    player: Player object or subclass (self)\n",
        "    opponent: Player object or subclass\n",
        "    proposed_action: an axelrod.Action, C or D\n",
        "        The proposed action by the wrapped strategy\n",
        "        proposed_action = Player.strategy(...)\n",
        "    args, kwargs:\n",
        "        Any additional arguments that you need.\n",
        "\n",
        "    Returns\n",
        "    -------\n",
        "    action: an axelrod.Action, C or D\n",
        "\n",
        "    \"\"\"\n",
        "    if len(player.history) == 0:\n",
        "        random = np.random.rand()\n",
        "        if random < prob:\n",
        "            return C\n",
        "        return D        \n",
        "    return proposed_action"
      ],
      "execution_count": null,
      "outputs": []
    },
    {
      "cell_type": "markdown",
      "metadata": {
        "id": "L1JZxniqxxt0"
      },
      "source": [
        "_____________________________________________________________________"
      ]
    },
    {
      "cell_type": "markdown",
      "metadata": {
        "id": "u-Z2lqZxxxt1"
      },
      "source": [
        "# Define the game\r\n",
        "\r\n",
        "* We can now create our game and set the utilities for each strategy profile"
      ]
    },
    {
      "cell_type": "code",
      "metadata": {
        "colab": {
          "base_uri": "https://localhost:8080/"
        },
        "id": "ia6cAjKZxxt1",
        "outputId": "0f68ca24-570d-4461-d9c4-81935654026c"
      },
      "source": [
        "# creating the game\n",
        "foreign_policy = AsymmetricGame(r=3, p=1, s=0, t=1,r2=2, p2=1, s2=0, t2=1)\n",
        "print(\"Utilities: (C,c), (D,d), (C,d), (D,c): \", foreign_policy.RPST())\n"
      ],
      "execution_count": null,
      "outputs": [
        {
          "output_type": "stream",
          "text": [
            "Utilities: (C,c), (D,d), (C,d), (D,c):  ((3, 2), (1, 1), (0, 1), (1, 0))\n"
          ],
          "name": "stdout"
        }
      ]
    },
    {
      "cell_type": "markdown",
      "metadata": {
        "id": "R_5Q-erfxxt1"
      },
      "source": [
        "# Define players\r\n",
        "* Axelrod already has some pre-existing strategies that we can import\r\n",
        "* We can transform those strategies to tailor them according to our MSNE"
      ]
    },
    {
      "cell_type": "code",
      "metadata": {
        "id": "KEk5W3NYMPnr"
      },
      "source": [
        "from axelrod.strategy_transformers import *"
      ],
      "execution_count": null,
      "outputs": []
    },
    {
      "cell_type": "code",
      "metadata": {
        "id": "xEJKsnsnxxt1"
      },
      "source": [
        "# transformed strategies (each strategy is a class)\n",
        "# we need to make a new class for each transformed strategy\n",
        "\n",
        "TransformedClassUK = StrategyTransformerFactory(strategy_wrapper_uk, name_prefix=\"UK\")() \n",
        "\n",
        "TransformedClassChina = StrategyTransformerFactory(strategy_wrapper_china, name_prefix=\"China\")() \n",
        "\n",
        "# modifying the tit-for-tat strategy\n",
        "china_msne_tft = TransformedClassChina(axl.TitForTat) # will cooperate with probability 0.5 in first round only, then tit-for-tat\n",
        "uk_msne_tft = TransformedClassUK(axl.TitForTat) # will cooperate with probability 0.33 in first round only, then tit-for-tat"
      ],
      "execution_count": null,
      "outputs": []
    },
    {
      "cell_type": "code",
      "metadata": {
        "id": "mi4B-T9nxxt1"
      },
      "source": [
        "# other UK strategies (see table in assignment)\n",
        "\n",
        "# MSNE\n",
        "uk_msne = axl.Random(p=0.5)\n",
        "\n",
        "# C-TFT\n",
        "uk_coop_tft = axl.TitForTat()\n",
        "\n",
        "# D-TFT\n",
        "uk_def_tft = InitialTransformer([D])(axl.TitForTat)()\n",
        "\n",
        "#C\n",
        "uk_coop = axl.Cooperator()\n",
        "\n",
        "#D\n",
        "uk_def = axl.Defector()"
      ],
      "execution_count": null,
      "outputs": []
    },
    {
      "cell_type": "markdown",
      "metadata": {
        "id": "78TlmRa9xxt2"
      },
      "source": [
        "---\r\n",
        "# Playing the game"
      ]
    },
    {
      "cell_type": "code",
      "metadata": {
        "colab": {
          "base_uri": "https://localhost:8080/"
        },
        "id": "g_McKH3fxxt2",
        "outputId": "bc2c7c61-7bda-421a-f215-816830aef394"
      },
      "source": [
        "# test run: 50 rounds using our defined payoffs\n",
        "# UK always playes using MSNE, China plays with MSNE on first round then tit-for-tat\n",
        "\n",
        "players = [uk_msne, china_msne_tft()]\n",
        "\n",
        "match = axl.Match(players, 50, game=foreign_policy)\n",
        "match.play()\n",
        "match.scores()"
      ],
      "execution_count": null,
      "outputs": [
        {
          "output_type": "execute_result",
          "data": {
            "text/plain": [
              "[(1, 0),\n",
              " (0, 1),\n",
              " (3, 2),\n",
              " (1, 0),\n",
              " (0, 1),\n",
              " (1, 0),\n",
              " (1, 1),\n",
              " (1, 1),\n",
              " (0, 1),\n",
              " (3, 2),\n",
              " (3, 2),\n",
              " (3, 2),\n",
              " (3, 2),\n",
              " (1, 0),\n",
              " (1, 1),\n",
              " (1, 1),\n",
              " (1, 1),\n",
              " (1, 1),\n",
              " (0, 1),\n",
              " (1, 0),\n",
              " (0, 1),\n",
              " (3, 2),\n",
              " (3, 2),\n",
              " (3, 2),\n",
              " (1, 0),\n",
              " (1, 1),\n",
              " (1, 1),\n",
              " (0, 1),\n",
              " (1, 0),\n",
              " (0, 1),\n",
              " (1, 0),\n",
              " (0, 1),\n",
              " (1, 0),\n",
              " (1, 1),\n",
              " (0, 1),\n",
              " (3, 2),\n",
              " (1, 0),\n",
              " (0, 1),\n",
              " (1, 0),\n",
              " (1, 1),\n",
              " (1, 1),\n",
              " (1, 1),\n",
              " (0, 1),\n",
              " (3, 2),\n",
              " (1, 0),\n",
              " (0, 1),\n",
              " (1, 0),\n",
              " (1, 1),\n",
              " (0, 1),\n",
              " (1, 0)]"
            ]
          },
          "metadata": {
            "tags": []
          },
          "execution_count": 13
        }
      ]
    },
    {
      "cell_type": "markdown",
      "metadata": {
        "id": "_kayRg8D-DqL"
      },
      "source": [
        "Above we can see the scores for each player (UK, China) for each round"
      ]
    },
    {
      "cell_type": "markdown",
      "metadata": {
        "id": "ZB0xkmdi-KSI"
      },
      "source": [
        "Now we start comparing the UK strategies\r\n",
        "\r\n",
        "* each game will have 100 rounds, and the final score is the sum of the scores of each round\r\n",
        "* we then take the average of the final score for 100 repeated games to account for variability\r\n"
      ]
    },
    {
      "cell_type": "markdown",
      "metadata": {
        "id": "jhtAbQE0-m5l"
      },
      "source": [
        "## UK plays MSNE"
      ]
    },
    {
      "cell_type": "code",
      "metadata": {
        "colab": {
          "base_uri": "https://localhost:8080/"
        },
        "id": "ZMfnD98Wxxt2",
        "outputId": "2dd7bcc9-39bd-46ce-984d-e29ec6866393"
      },
      "source": [
        "# average of 100 games for game iterated 1-100 times\n",
        "# uk plays msne probability, china plays with msne prob then tit for tat\n",
        "\n",
        "from statistics import mean\n",
        "\n",
        "players = [uk_msne, china_msne_tft()]\n",
        "\n",
        "# we will append the results of each game to the lists below\n",
        "avg_self_coops = []\n",
        "avg_opp_coops = []\n",
        "avg_self_final_scores = []\n",
        "avg_opponent_final_scores = []\n",
        "\n",
        "for i in range(1,101):\n",
        "    self_coops = []\n",
        "    opp_coops = []\n",
        "    self_final_scores = []\n",
        "    opponent_final_scores = []\n",
        "    winner = []\n",
        "    for j in range(1,101):\n",
        "        \n",
        "        match = axl.Match(players, i, game=foreign_policy)\n",
        "        match.play()\n",
        "        self_final_scores.append(match.final_score()[0])\n",
        "        opponent_final_scores.append(match.final_score()[1])\n",
        "        self_coops.append(match.cooperation()[0])\n",
        "        opp_coops.append(match.cooperation()[1])\n",
        "        #winner.append(match.winner())\n",
        "\n",
        "    #finding the averages for 100 games\n",
        "    avg_self_final_scores.append(mean(self_final_scores))\n",
        "    avg_opponent_final_scores.append(mean(opponent_final_scores))\n",
        "    avg_self_coops.append(mean(self_coops))\n",
        "    avg_opp_coops.append(mean(opp_coops))\n",
        "\n",
        "\n",
        "# plot figure\n",
        "x=[x for x in range(1,101)]\n",
        "\n",
        "plt.figure(figsize=(20,5))\n",
        "plt.plot(x, avg_self_final_scores, label = \"UK final utility\")\n",
        "plt.plot(x, avg_opponent_final_scores, label = \"China final utility\")\n",
        "\n",
        "plt.xlabel(\"Number of rounds in game\")\n",
        "plt.ylabel(\"Average final utility (100 games)\")\n",
        "plt.legend()\n",
        "plt.show()\n",
        "\n",
        "# print stats\n",
        "for i in range(0,100):\n",
        "    print((i+1), \"avg # coops\", avg_self_coops[i], avg_opp_coops[i], \"avg final scores self, opp: \", avg_self_final_scores[i], avg_opponent_final_scores[i])"
      ],
      "execution_count": null,
      "outputs": [
        {
          "output_type": "display_data",
          "data": {
            "image/png": "[encoded data removed]",
            "text/plain": [
              "<Figure size 1440x360 with 1 Axes>"
            ]
          },
          "metadata": {
            "tags": [],
            "needs_background": "light"
          }
        },
        {
          "output_type": "stream",
          "text": [
            "1 avg # coops 0.55 0.34 avg final scores self, opp:  0.99 1.02\n",
            "2 avg # coops 1.05 0.81 avg final scores self, opp:  2.15 1.99\n",
            "3 avg # coops 1.48 1.23 avg final scores self, opp:  3.35 2.99\n",
            "4 avg # coops 1.88 1.67 avg final scores self, opp:  4.25 3.75\n",
            "5 avg # coops 2.47 2.48 avg final scores self, opp:  6.46 5.14\n",
            "6 avg # coops 3.26 3.15 avg final scores self, opp:  7.96 6.33\n",
            "7 avg # coops 3.4 3.28 avg final scores self, opp:  8.22 6.8\n",
            "8 avg # coops 3.98 3.8 avg final scores self, opp:  10.38 8.44\n",
            "9 avg # coops 4.4 4.24 avg final scores self, opp:  10.78 8.88\n",
            "10 avg # coops 4.87 4.76 avg final scores self, opp:  12.18 9.94\n",
            "11 avg # coops 5.41 5.17 avg final scores self, opp:  13.63 11.19\n",
            "12 avg # coops 5.74 5.6 avg final scores self, opp:  14.3 11.76\n",
            "13 avg # coops 6.48 6.3 avg final scores self, opp:  16.36 13.26\n",
            "14 avg # coops 7.26 6.94 avg final scores self, opp:  16.73 13.72\n",
            "15 avg # coops 7.49 7.36 avg final scores self, opp:  18.52 14.98\n",
            "16 avg # coops 7.93 7.8 avg final scores self, opp:  19.44 15.78\n",
            "17 avg # coops 8.18 8.06 avg final scores self, opp:  20.79 16.92\n",
            "18 avg # coops 9.26 9.07 avg final scores self, opp:  22.93 18.39\n",
            "19 avg # coops 9.36 9.11 avg final scores self, opp:  22.87 18.71\n",
            "20 avg # coops 10.22 10.09 avg final scores self, opp:  24.75 19.89\n",
            "21 avg # coops 10.72 10.6 avg final scores self, opp:  26.9 21.48\n",
            "22 avg # coops 11.02 10.84 avg final scores self, opp:  27.24 22\n",
            "23 avg # coops 11.46 11.22 avg final scores self, opp:  28.25 22.92\n",
            "24 avg # coops 12.17 12.09 avg final scores self, opp:  30.82 24.57\n",
            "25 avg # coops 12.06 11.86 avg final scores self, opp:  30.16 24.62\n",
            "26 avg # coops 12.73 12.56 avg final scores self, opp:  31.39 25.52\n",
            "27 avg # coops 13.43 13.21 avg final scores self, opp:  33.7 27.21\n",
            "28 avg # coops 14.06 14.03 avg final scores self, opp:  35.21 28.15\n",
            "29 avg # coops 14.25 14.05 avg final scores self, opp:  35.6 28.85\n",
            "30 avg # coops 15.14 14.89 avg final scores self, opp:  38.08 30.59\n",
            "31 avg # coops 15.46 15.36 avg final scores self, opp:  38.55 30.98\n",
            "32 avg # coops 15.49 15.31 avg final scores self, opp:  38.65 31.45\n",
            "33 avg # coops 16.59 16.37 avg final scores self, opp:  40.26 32.53\n",
            "34 avg # coops 17.3 17.12 avg final scores self, opp:  43.67 34.86\n",
            "35 avg # coops 17.65 17.33 avg final scores self, opp:  45.13 36.19\n",
            "36 avg # coops 18.25 18.12 avg final scores self, opp:  45.17 36.16\n",
            "37 avg # coops 19.03 18.85 avg final scores self, opp:  46.92 37.45\n",
            "38 avg # coops 18.67 18.63 avg final scores self, opp:  46.21 37.29\n",
            "39 avg # coops 19.1 18.9 avg final scores self, opp:  48.37 39.08\n",
            "40 avg # coops 19.99 19.74 avg final scores self, opp:  49.56 39.96\n",
            "41 avg # coops 20.27 20.07 avg final scores self, opp:  50.34 40.67\n",
            "42 avg # coops 21.46 21.29 avg final scores self, opp:  53.3 42.55\n",
            "43 avg # coops 21.45 21.2 avg final scores self, opp:  53.29 42.96\n",
            "44 avg # coops 21.8 21.66 avg final scores self, opp:  53.67 43.32\n",
            "45 avg # coops 22.55 22.36 avg final scores self, opp:  54.97 44.32\n",
            "46 avg # coops 23.7 23.56 avg final scores self, opp:  58.57 46.62\n",
            "47 avg # coops 23.54 23.44 avg final scores self, opp:  58.26 46.76\n",
            "48 avg # coops 24.03 23.85 avg final scores self, opp:  59.64 47.93\n",
            "49 avg # coops 24.59 24.48 avg final scores self, opp:  61.1 48.98\n",
            "50 avg # coops 24.92 24.74 avg final scores self, opp:  62.4 50.14\n",
            "51 avg # coops 25.25 25.01 avg final scores self, opp:  63.61 51.23\n",
            "52 avg # coops 26.34 26.24 avg final scores self, opp:  65.23 52.14\n",
            "53 avg # coops 26.21 26.03 avg final scores self, opp:  65.4 52.71\n",
            "54 avg # coops 26.99 26.8 avg final scores self, opp:  67.84 54.42\n",
            "55 avg # coops 27.05 26.97 avg final scores self, opp:  67.94 54.69\n",
            "56 avg # coops 28.46 28.42 avg final scores self, opp:  71.34 56.78\n",
            "57 avg # coops 28.32 28.13 avg final scores self, opp:  70.53 56.77\n",
            "58 avg # coops 29.2 28.97 avg final scores self, opp:  72.09 57.89\n",
            "59 avg # coops 29.88 29.72 avg final scores self, opp:  74.39 59.46\n",
            "60 avg # coops 30.34 30.11 avg final scores self, opp:  75.05 60.15\n",
            "61 avg # coops 30.25 29.95 avg final scores self, opp:  76.11 61.29\n",
            "62 avg # coops 31.38 31.17 avg final scores self, opp:  77.66 62.19\n",
            "63 avg # coops 31.22 31 avg final scores self, opp:  78.22 62.96\n",
            "64 avg # coops 32.21 31.91 avg final scores self, opp:  78.65 63.33\n",
            "65 avg # coops 33.31 33.15 avg final scores self, opp:  82.54 65.75\n",
            "66 avg # coops 33.2 33.03 avg final scores self, opp:  82.3 65.97\n",
            "67 avg # coops 33.45 33.2 avg final scores self, opp:  83.74 67.26\n",
            "68 avg # coops 33.78 33.61 avg final scores self, opp:  83.15 67.01\n",
            "69 avg # coops 34.95 34.76 avg final scores self, opp:  86.31 69.08\n",
            "70 avg # coops 35.29 35.09 avg final scores self, opp:  87.12 69.85\n",
            "71 avg # coops 36.26 36.08 avg final scores self, opp:  89.94 71.72\n",
            "72 avg # coops 36.36 36.08 avg final scores self, opp:  90.54 72.52\n",
            "73 avg # coops 36.41 36.12 avg final scores self, opp:  91.22 73.3\n",
            "74 avg # coops 37.22 36.84 avg final scores self, opp:  91.86 73.88\n",
            "75 avg # coops 37.72 37.55 avg final scores self, opp:  93.23 74.75\n",
            "76 avg # coops 38.64 38.51 avg final scores self, opp:  96.46 76.89\n",
            "77 avg # coops 38.09 37.91 avg final scores self, opp:  95.31 76.69\n",
            "78 avg # coops 39.27 39.08 avg final scores self, opp:  98.28 78.62\n",
            "79 avg # coops 39.05 38.86 avg final scores self, opp:  97.91 78.78\n",
            "80 avg # coops 39.98 39.88 avg final scores self, opp:  99.69 79.9\n",
            "81 avg # coops 40.15 39.95 avg final scores self, opp:  99.71 80.29\n",
            "82 avg # coops 40.91 40.8 avg final scores self, opp:  101.96 81.78\n",
            "83 avg # coops 41.46 41.25 avg final scores self, opp:  102.62 82.47\n",
            "84 avg # coops 42.18 42.03 avg final scores self, opp:  103.95 83.39\n",
            "85 avg # coops 42.39 42.22 avg final scores self, opp:  106.48 85.36\n",
            "86 avg # coops 43.87 43.58 avg final scores self, opp:  107.95 86.3\n",
            "87 avg # coops 43.99 43.69 avg final scores self, opp:  108.77 87.15\n",
            "88 avg # coops 43.56 43.34 avg final scores self, opp:  108.31 87.24\n",
            "89 avg # coops 43.94 43.7 avg final scores self, opp:  110.58 88.98\n",
            "90 avg # coops 44.53 44.37 avg final scores self, opp:  111.47 89.63\n",
            "91 avg # coops 46.4 46.25 avg final scores self, opp:  115.31 91.89\n",
            "92 avg # coops 46.21 46.03 avg final scores self, opp:  115.36 92.35\n",
            "93 avg # coops 46.6 46.42 avg final scores self, opp:  116.06 93.02\n",
            "94 avg # coops 47.11 46.87 avg final scores self, opp:  117.69 94.33\n",
            "95 avg # coops 47.63 47.46 avg final scores self, opp:  118.83 95.18\n",
            "96 avg # coops 48.27 48.13 avg final scores self, opp:  118.68 95.17\n",
            "97 avg # coops 48.82 48.65 avg final scores self, opp:  121.38 97.15\n",
            "98 avg # coops 49.36 49.14 avg final scores self, opp:  122.86 98.34\n",
            "99 avg # coops 49.82 49.63 avg final scores self, opp:  124.57 99.63\n",
            "100 avg # coops 49.62 49.44 avg final scores self, opp:  125.26 100.48\n"
          ],
          "name": "stdout"
        }
      ]
    },
    {
      "cell_type": "code",
      "metadata": {
        "id": "OenC4BFoRRtr"
      },
      "source": [
        "msne_scores = avg_self_final_scores"
      ],
      "execution_count": null,
      "outputs": []
    },
    {
      "cell_type": "code",
      "metadata": {
        "colab": {
          "base_uri": "https://localhost:8080/"
        },
        "id": "MObhZFMZ-2FR",
        "outputId": "8a585380-0348-47ed-8ce4-548b0ed2df90"
      },
      "source": [
        "print(\"UK, China average score for 100 rounds: \", avg_self_final_scores[-1], \",\", avg_opponent_final_scores[-1])"
      ],
      "execution_count": null,
      "outputs": [
        {
          "output_type": "stream",
          "text": [
            "UK, China average score for 100 rounds:  125.26 , 100.48\n"
          ],
          "name": "stdout"
        }
      ]
    },
    {
      "cell_type": "markdown",
      "metadata": {
        "id": "C16Eu-FS_k5B"
      },
      "source": [
        "---\r\n",
        "## UK plays MSNE-TFT\r\n",
        "\r\n",
        "For all strategies below we reuse the same code as above but with different player (strategies)"
      ]
    },
    {
      "cell_type": "code",
      "metadata": {
        "colab": {
          "base_uri": "https://localhost:8080/"
        },
        "id": "QNSq0TBexxt3",
        "outputId": "af6cbbd3-74f8-4b24-b7cf-07b8e54b2d47"
      },
      "source": [
        "# average of 100 games for game iterated 1-100 times\n",
        "# uk plays msne then tft, china plays with msne prob then tit for tat\n",
        "from statistics import mean\n",
        "\n",
        "players = [uk_msne_tft(), china_msne_tft()]\n",
        "\n",
        "avg_self_coops = []\n",
        "avg_opp_coops = []\n",
        "avg_self_final_scores = []\n",
        "avg_opponent_final_scores = []\n",
        "\n",
        "for i in range(1,101):\n",
        "    self_coops = []\n",
        "    opp_coops = []\n",
        "    self_final_scores = []\n",
        "    opponent_final_scores = []\n",
        "    winner = []\n",
        "    for j in range(1,101):\n",
        "        \n",
        "        match = axl.Match(players, i, game=foreign_policy)\n",
        "        match.play()\n",
        "        self_final_scores.append(match.final_score()[0])\n",
        "        opponent_final_scores.append(match.final_score()[1])\n",
        "        self_coops.append(match.cooperation()[0])\n",
        "        opp_coops.append(match.cooperation()[1])\n",
        "        #winner.append(match.winner())\n",
        "\n",
        "    avg_self_final_scores.append(mean(self_final_scores))\n",
        "    avg_opponent_final_scores.append(mean(opponent_final_scores))\n",
        "    avg_self_coops.append(mean(self_coops))\n",
        "    avg_opp_coops.append(mean(opp_coops))\n",
        "    \n",
        "    \n",
        "\n",
        "\n",
        "# plot figure\n",
        "x=[x for x in range(1,101)]\n",
        "\n",
        "plt.figure(figsize=(20,5))\n",
        "plt.plot(x, avg_self_final_scores, label = \"UK final utility\")\n",
        "plt.plot(x, avg_opponent_final_scores, label = \"China final utility\")\n",
        "\n",
        "plt.xlabel(\"Number of rounds in game\")\n",
        "plt.ylabel(\"Average final utility (100 games)\")\n",
        "plt.legend()\n",
        "plt.show()\n",
        "\n",
        "# print stats\n",
        "for i in range(0,100):\n",
        "    print((i+1), \"avg # coops\", avg_self_coops[i], avg_opp_coops[i], \"avg final scores self, opp: \", avg_self_final_scores[i], avg_opponent_final_scores[i])"
      ],
      "execution_count": null,
      "outputs": [
        {
          "output_type": "display_data",
          "data": {
            "image/png": "[encoded data removed]",
            "text/plain": [
              "<Figure size 1440x360 with 1 Axes>"
            ]
          },
          "metadata": {
            "tags": [],
            "needs_background": "light"
          }
        },
        {
          "output_type": "stream",
          "text": [
            "1 avg # coops 0.45 0.29 avg final scores self, opp:  0.82 0.89\n",
            "2 avg # coops 0.89 0.89 avg final scores self, opp:  2.07 1.75\n",
            "3 avg # coops 1.45 1.31 avg final scores self, opp:  3.35 2.89\n",
            "4 avg # coops 1.8 1.8 avg final scores self, opp:  4.48 3.72\n",
            "5 avg # coops 2.09 1.86 avg final scores self, opp:  5.46 4.84\n",
            "6 avg # coops 2.43 2.43 avg final scores self, opp:  6.81 5.73\n",
            "7 avg # coops 3.12 2.83 avg final scores self, opp:  7.87 6.83\n",
            "8 avg # coops 3.4 3.4 avg final scores self, opp:  8.68 7.32\n",
            "9 avg # coops 3.82 3.65 avg final scores self, opp:  10.58 8.95\n",
            "10 avg # coops 4.15 4.15 avg final scores self, opp:  10.95 9.25\n",
            "11 avg # coops 4.63 4.5 avg final scores self, opp:  12.64 10.68\n",
            "12 avg # coops 4.68 4.68 avg final scores self, opp:  12.36 10.68\n",
            "13 avg # coops 5.85 5.72 avg final scores self, opp:  16.12 13.26\n",
            "14 avg # coops 6.37 6.37 avg final scores self, opp:  15.19 12.67\n",
            "15 avg # coops 5.61 5.49 avg final scores self, opp:  16.14 14.01\n",
            "16 avg # coops 5.92 5.92 avg final scores self, opp:  14.4 12.96\n",
            "17 avg # coops 6.62 6.47 avg final scores self, opp:  16.5 14.61\n",
            "18 avg # coops 7.65 7.65 avg final scores self, opp:  20.07 16.83\n",
            "19 avg # coops 7.44 7.19 avg final scores self, opp:  20.68 17.89\n",
            "20 avg # coops 7.4 7.4 avg final scores self, opp:  21 18.2\n",
            "21 avg # coops 9.02 8.83 avg final scores self, opp:  23.95 20.15\n",
            "22 avg # coops 8.47 8.47 avg final scores self, opp:  22.11 19.25\n",
            "23 avg # coops 10.1 9.91 avg final scores self, opp:  22.56 19.53\n",
            "24 avg # coops 10.08 10.08 avg final scores self, opp:  29.76 24.48\n",
            "25 avg # coops 10.68 10.57 avg final scores self, opp:  28.57 23.93\n",
            "26 avg # coops 9.88 9.88 avg final scores self, opp:  28.6 24.44\n",
            "27 avg # coops 11.51 11.44 avg final scores self, opp:  32.5 26.9\n",
            "28 avg # coops 12.88 12.88 avg final scores self, opp:  31.92 26.32\n",
            "29 avg # coops 12.95 12.86 avg final scores self, opp:  35.19 28.9\n",
            "30 avg # coops 10.8 10.8 avg final scores self, opp:  30.9 27\n",
            "31 avg # coops 13.61 13.36 avg final scores self, opp:  33.2 28.18\n",
            "32 avg # coops 13.28 13.28 avg final scores self, opp:  37.92 31.52\n",
            "33 avg # coops 13.48 13.25 avg final scores self, opp:  34.37 29.65\n",
            "34 avg # coops 14.62 14.62 avg final scores self, opp:  34.68 29.58\n",
            "35 avg # coops 13.01 12.89 avg final scores self, opp:  34.59 30.51\n",
            "36 avg # coops 13.32 13.32 avg final scores self, opp:  33.48 29.88\n",
            "37 avg # coops 12.49 12.3 avg final scores self, opp:  37.83 33.58\n",
            "38 avg # coops 16.15 16.15 avg final scores self, opp:  40.09 34.01\n",
            "39 avg # coops 15.87 15.72 avg final scores self, opp:  39.51 34.2\n",
            "40 avg # coops 17.2 17.2 avg final scores self, opp:  45.6 38\n",
            "41 avg # coops 15.46 15.29 avg final scores self, opp:  40.3 35.55\n",
            "42 avg # coops 18.48 18.48 avg final scores self, opp:  47.46 39.48\n",
            "43 avg # coops 20.06 19.93 avg final scores self, opp:  51.32 41.99\n",
            "44 avg # coops 16.94 16.94 avg final scores self, opp:  49.5 42.02\n",
            "45 avg # coops 16.95 16.8 avg final scores self, opp:  44.25 39\n",
            "46 avg # coops 19.78 19.78 avg final scores self, opp:  48.3 40.94\n",
            "47 avg # coops 18.4 18.26 avg final scores self, opp:  48.34 41.9\n",
            "48 avg # coops 19.44 19.44 avg final scores self, opp:  50.16 42.96\n",
            "49 avg # coops 21.65 21.47 avg final scores self, opp:  59.69 49.09\n",
            "50 avg # coops 20 20 avg final scores self, opp:  51 44\n",
            "51 avg # coops 19.99 19.79 avg final scores self, opp:  52.43 45.49\n",
            "52 avg # coops 20.28 20.28 avg final scores self, opp:  47.32 42.12\n",
            "53 avg # coops 19.94 19.81 avg final scores self, opp:  52.14 45.91\n",
            "54 avg # coops 21.87 21.87 avg final scores self, opp:  53.19 46.17\n",
            "55 avg # coops 22.36 22.19 avg final scores self, opp:  59.04 50.41\n",
            "56 avg # coops 19.6 19.6 avg final scores self, opp:  53.2 47.6\n",
            "57 avg # coops 25.45 25.28 avg final scores self, opp:  65.75 54.52\n",
            "58 avg # coops 22.91 22.91 avg final scores self, opp:  61.19 52.49\n",
            "59 avg # coops 22.23 22.02 avg final scores self, opp:  61.55 53.5\n",
            "60 avg # coops 30.3 30.3 avg final scores self, opp:  71.1 57.3\n",
            "61 avg # coops 23.87 23.71 avg final scores self, opp:  64.58 55.59\n",
            "62 avg # coops 25.11 25.11 avg final scores self, opp:  64.79 55.49\n",
            "63 avg # coops 26.56 26.36 avg final scores self, opp:  64.79 55.54\n",
            "64 avg # coops 26.56 26.56 avg final scores self, opp:  66.24 56.64\n",
            "65 avg # coops 23.77 23.68 avg final scores self, opp:  70.48 60.82\n",
            "66 avg # coops 26.07 26.07 avg final scores self, opp:  63.69 55.77\n",
            "67 avg # coops 30.24 30.06 avg final scores self, opp:  74.95 62.4\n",
            "68 avg # coops 24.14 24.14 avg final scores self, opp:  70.38 61.54\n",
            "69 avg # coops 28.09 27.8 avg final scores self, opp:  67.82 59.14\n",
            "70 avg # coops 26.95 26.95 avg final scores self, opp:  74.55 64.05\n",
            "71 avg # coops 23.88 23.69 avg final scores self, opp:  64.16 58.67\n",
            "72 avg # coops 31.32 31.32 avg final scores self, opp:  77.4 65.16\n",
            "73 avg # coops 31.51 31.27 avg final scores self, opp:  76.53 65.09\n",
            "74 avg # coops 28.49 28.49 avg final scores self, opp:  74.37 64.75\n",
            "75 avg # coops 33.85 33.65 avg final scores self, opp:  81.65 68.35\n",
            "76 avg # coops 32.68 32.68 avg final scores self, opp:  88.92 73.72\n",
            "77 avg # coops 32.01 31.9 avg final scores self, opp:  79.64 68.2\n",
            "78 avg # coops 31.98 31.98 avg final scores self, opp:  76.44 66.3\n",
            "79 avg # coops 34.12 33.82 avg final scores self, opp:  80.43 68.88\n",
            "80 avg # coops 34.8 34.8 avg final scores self, opp:  88.4 74\n",
            "81 avg # coops 32.94 32.67 avg final scores self, opp:  91.8 77.49\n",
            "82 avg # coops 38.95 38.95 avg final scores self, opp:  94.71 77.49\n",
            "83 avg # coops 37.93 37.6 avg final scores self, opp:  77.44 66.98\n",
            "84 avg # coops 39.06 39.06 avg final scores self, opp:  97.86 80.22\n",
            "85 avg # coops 34.94 34.76 avg final scores self, opp:  80.66 70.64\n",
            "86 avg # coops 35.69 35.69 avg final scores self, opp:  89.01 76.11\n",
            "87 avg # coops 36.63 36.45 avg final scores self, opp:  86.91 74.91\n",
            "88 avg # coops 34.76 34.76 avg final scores self, opp:  92.84 79.64\n",
            "89 avg # coops 37.91 37.74 avg final scores self, opp:  91.14 77.96\n",
            "90 avg # coops 37.8 37.8 avg final scores self, opp:  103.5 86.4\n",
            "91 avg # coops 39.65 39.52 avg final scores self, opp:  108.68 89.7\n",
            "92 avg # coops 40.02 40.02 avg final scores self, opp:  104.42 86.94\n",
            "93 avg # coops 34.89 34.86 avg final scores self, opp:  108.33 91.62\n",
            "94 avg # coops 37.13 37.13 avg final scores self, opp:  85.07 75.67\n",
            "95 avg # coops 42.86 42.64 avg final scores self, opp:  103.44 86.56\n",
            "96 avg # coops 42.72 42.72 avg final scores self, opp:  116.64 95.52\n",
            "97 avg # coops 38.37 38.26 avg final scores self, opp:  105.19 89.78\n",
            "98 avg # coops 36.75 36.75 avg final scores self, opp:  111.23 94.57\n",
            "99 avg # coops 42.13 42.02 avg final scores self, opp:  107.36 90.64\n",
            "100 avg # coops 42 42 avg final scores self, opp:  106 90\n"
          ],
          "name": "stdout"
        }
      ]
    },
    {
      "cell_type": "code",
      "metadata": {
        "id": "TovN5sWnRUTi"
      },
      "source": [
        "msne_tft_scores = avg_self_final_scores"
      ],
      "execution_count": null,
      "outputs": []
    },
    {
      "cell_type": "code",
      "metadata": {
        "colab": {
          "base_uri": "https://localhost:8080/"
        },
        "id": "l0qxZTvm_4Q5",
        "outputId": "87649aae-85a3-44a6-e8a3-a4b9f38acf6b"
      },
      "source": [
        "print(\"UK, China average score for 100 rounds: \", avg_self_final_scores[-1], \",\", avg_opponent_final_scores[-1])"
      ],
      "execution_count": null,
      "outputs": [
        {
          "output_type": "stream",
          "text": [
            "UK, China average score for 100 rounds:  106 , 90\n"
          ],
          "name": "stdout"
        }
      ]
    },
    {
      "cell_type": "markdown",
      "metadata": {
        "id": "eVYAWmLe_8ZV"
      },
      "source": [
        "---\r\n",
        "## UK plays D-TFT"
      ]
    },
    {
      "cell_type": "code",
      "metadata": {
        "colab": {
          "base_uri": "https://localhost:8080/"
        },
        "id": "rLh_3CXIxxt4",
        "outputId": "340f6156-bc52-4f01-deec-d554052370e0"
      },
      "source": [
        "# average of 100 games for game iterated 1-100 times\n",
        "# uk plays defect then tft, china plays with msne prob then tit for tat\n",
        "\n",
        "players = [uk_def_tft, china_msne_tft()]\n",
        "\n",
        "avg_self_coops = []\n",
        "avg_opp_coops = []\n",
        "avg_self_final_scores = []\n",
        "avg_opponent_final_scores = []\n",
        "\n",
        "for i in range(1,101):\n",
        "    self_coops = []\n",
        "    opp_coops = []\n",
        "    self_final_scores = []\n",
        "    opponent_final_scores = []\n",
        "    winner = []\n",
        "    for j in range(1,101):\n",
        "        \n",
        "        match = axl.Match(players, i, game=foreign_policy)\n",
        "        match.play()\n",
        "        self_final_scores.append(match.final_score()[0])\n",
        "        opponent_final_scores.append(match.final_score()[1])\n",
        "        self_coops.append(match.cooperation()[0])\n",
        "        opp_coops.append(match.cooperation()[1])\n",
        "        #winner.append(match.winner())\n",
        "\n",
        "    avg_self_final_scores.append(mean(self_final_scores))\n",
        "    avg_opponent_final_scores.append(mean(opponent_final_scores))\n",
        "    avg_self_coops.append(mean(self_coops))\n",
        "    avg_opp_coops.append(mean(opp_coops))\n",
        "\n",
        "\n",
        "# plot figure\n",
        "x=[x for x in range(1,101)]\n",
        "\n",
        "plt.figure(figsize=(20,5))\n",
        "plt.plot(x, avg_self_final_scores, label = \"UK final utility\", alpha = 0.5)\n",
        "plt.plot(x, avg_opponent_final_scores, label = \"China final utility\", alpha = 0.5)\n",
        "\n",
        "plt.xlabel(\"Number of rounds in game\")\n",
        "plt.ylabel(\"Average final utility (100 games)\")\n",
        "plt.legend()\n",
        "plt.show()\n",
        "\n",
        "# print stats\n",
        "for i in range(0,100):\n",
        "    print((i+1), \"avg # coops\", avg_self_coops[i], avg_opp_coops[i], \"avg final scores self, opp: \", avg_self_final_scores[i], avg_opponent_final_scores[i])"
      ],
      "execution_count": null,
      "outputs": [
        {
          "output_type": "display_data",
          "data": {
            "image/png": "[encoded data removed]",
            "text/plain": [
              "<Figure size 1440x360 with 1 Axes>"
            ]
          },
          "metadata": {
            "tags": [],
            "needs_background": "light"
          }
        },
        {
          "output_type": "stream",
          "text": [
            "1 avg # coops 0 0.29 avg final scores self, opp:  1 0.71\n",
            "2 avg # coops 0.36 0.36 avg final scores self, opp:  1.64 1.64\n",
            "3 avg # coops 0.39 0.78 avg final scores self, opp:  2.61 2.22\n",
            "4 avg # coops 0.74 0.74 avg final scores self, opp:  3.26 3.26\n",
            "5 avg # coops 0.74 1.11 avg final scores self, opp:  4.26 3.89\n",
            "6 avg # coops 0.72 0.72 avg final scores self, opp:  5.28 5.28\n",
            "7 avg # coops 0.99 1.32 avg final scores self, opp:  6.01 5.68\n",
            "8 avg # coops 1.72 1.72 avg final scores self, opp:  6.28 6.28\n",
            "9 avg # coops 1.44 1.8 avg final scores self, opp:  7.56 7.2\n",
            "10 avg # coops 1.65 1.65 avg final scores self, opp:  8.35 8.35\n",
            "11 avg # coops 1.8 2.16 avg final scores self, opp:  9.2 8.84\n",
            "12 avg # coops 1.74 1.74 avg final scores self, opp:  10.26 10.26\n",
            "13 avg # coops 1.74 2.03 avg final scores self, opp:  11.26 10.97\n",
            "14 avg # coops 2.38 2.38 avg final scores self, opp:  11.62 11.62\n",
            "15 avg # coops 2.59 2.96 avg final scores self, opp:  12.41 12.04\n",
            "16 avg # coops 2.4 2.4 avg final scores self, opp:  13.6 13.6\n",
            "17 avg # coops 2.16 2.43 avg final scores self, opp:  14.84 14.57\n",
            "18 avg # coops 2.7 2.7 avg final scores self, opp:  15.3 15.3\n",
            "19 avg # coops 2.88 3.2 avg final scores self, opp:  16.12 15.8\n",
            "20 avg # coops 3.8 3.8 avg final scores self, opp:  16.2 16.2\n",
            "21 avg # coops 3.8 4.18 avg final scores self, opp:  17.2 16.82\n",
            "22 avg # coops 4.18 4.18 avg final scores self, opp:  17.82 17.82\n",
            "23 avg # coops 3.85 4.2 avg final scores self, opp:  19.15 18.8\n",
            "24 avg # coops 3.6 3.6 avg final scores self, opp:  20.4 20.4\n",
            "25 avg # coops 4.08 4.42 avg final scores self, opp:  20.92 20.58\n",
            "26 avg # coops 5.33 5.33 avg final scores self, opp:  20.67 20.67\n",
            "27 avg # coops 4.03 4.34 avg final scores self, opp:  22.97 22.66\n",
            "28 avg # coops 4.76 4.76 avg final scores self, opp:  23.24 23.24\n",
            "29 avg # coops 4.62 4.95 avg final scores self, opp:  24.38 24.05\n",
            "30 avg # coops 4.05 4.05 avg final scores self, opp:  25.95 25.95\n",
            "31 avg # coops 5.1 5.44 avg final scores self, opp:  25.9 25.56\n",
            "32 avg # coops 5.12 5.12 avg final scores self, opp:  26.88 26.88\n",
            "33 avg # coops 5.92 6.29 avg final scores self, opp:  27.08 26.71\n",
            "34 avg # coops 4.59 4.59 avg final scores self, opp:  29.41 29.41\n",
            "35 avg # coops 6.8 7.2 avg final scores self, opp:  28.2 27.8\n",
            "36 avg # coops 5.58 5.58 avg final scores self, opp:  30.42 30.42\n",
            "37 avg # coops 5.94 6.27 avg final scores self, opp:  31.06 30.73\n",
            "38 avg # coops 6.08 6.08 avg final scores self, opp:  31.92 31.92\n",
            "39 avg # coops 6.84 7.2 avg final scores self, opp:  32.16 31.8\n",
            "40 avg # coops 5.6 5.6 avg final scores self, opp:  34.4 34.4\n",
            "41 avg # coops 7.4 7.77 avg final scores self, opp:  33.6 33.23\n",
            "42 avg # coops 8.61 8.61 avg final scores self, opp:  33.39 33.39\n",
            "43 avg # coops 6.3 6.6 avg final scores self, opp:  36.7 36.4\n",
            "44 avg # coops 5.94 5.94 avg final scores self, opp:  38.06 38.06\n",
            "45 avg # coops 6.6 6.9 avg final scores self, opp:  38.4 38.1\n",
            "46 avg # coops 7.59 7.59 avg final scores self, opp:  38.41 38.41\n",
            "47 avg # coops 5.75 6 avg final scores self, opp:  41.25 41\n",
            "48 avg # coops 7.2 7.2 avg final scores self, opp:  40.8 40.8\n",
            "49 avg # coops 6.24 6.5 avg final scores self, opp:  42.76 42.5\n",
            "50 avg # coops 9.25 9.25 avg final scores self, opp:  40.75 40.75\n",
            "51 avg # coops 8.25 8.58 avg final scores self, opp:  42.75 42.42\n",
            "52 avg # coops 6.76 6.76 avg final scores self, opp:  45.24 45.24\n",
            "53 avg # coops 8.84 9.18 avg final scores self, opp:  44.16 43.82\n",
            "54 avg # coops 7.56 7.56 avg final scores self, opp:  46.44 46.44\n",
            "55 avg # coops 9.45 9.8 avg final scores self, opp:  45.55 45.2\n",
            "56 avg # coops 9.52 9.52 avg final scores self, opp:  46.48 46.48\n",
            "57 avg # coops 9.52 9.86 avg final scores self, opp:  47.48 47.14\n",
            "58 avg # coops 9.86 9.86 avg final scores self, opp:  48.14 48.14\n",
            "59 avg # coops 8.41 8.7 avg final scores self, opp:  50.59 50.3\n",
            "60 avg # coops 9.3 9.3 avg final scores self, opp:  50.7 50.7\n",
            "61 avg # coops 7.8 8.06 avg final scores self, opp:  53.2 52.94\n",
            "62 avg # coops 7.75 7.75 avg final scores self, opp:  54.25 54.25\n",
            "63 avg # coops 9.3 9.6 avg final scores self, opp:  53.7 53.4\n",
            "64 avg # coops 10.88 10.88 avg final scores self, opp:  53.12 53.12\n",
            "65 avg # coops 10.24 10.56 avg final scores self, opp:  54.76 54.44\n",
            "66 avg # coops 10.23 10.23 avg final scores self, opp:  55.77 55.77\n",
            "67 avg # coops 10.56 10.88 avg final scores self, opp:  56.44 56.12\n",
            "68 avg # coops 12.24 12.24 avg final scores self, opp:  55.76 55.76\n",
            "69 avg # coops 11.56 11.9 avg final scores self, opp:  57.44 57.1\n",
            "70 avg # coops 9.45 9.45 avg final scores self, opp:  60.55 60.55\n",
            "71 avg # coops 11.55 11.88 avg final scores self, opp:  59.45 59.12\n",
            "72 avg # coops 10.08 10.08 avg final scores self, opp:  61.92 61.92\n",
            "73 avg # coops 12.6 12.95 avg final scores self, opp:  60.4 60.05\n",
            "74 avg # coops 11.47 11.47 avg final scores self, opp:  62.53 62.53\n",
            "75 avg # coops 12.21 12.54 avg final scores self, opp:  62.79 62.46\n",
            "76 avg # coops 14.06 14.06 avg final scores self, opp:  61.94 61.94\n",
            "77 avg # coops 9.88 10.14 avg final scores self, opp:  67.12 66.86\n",
            "78 avg # coops 12.09 12.09 avg final scores self, opp:  65.91 65.91\n",
            "79 avg # coops 9.75 10 avg final scores self, opp:  69.25 69\n",
            "80 avg # coops 14 14 avg final scores self, opp:  66 66\n",
            "81 avg # coops 15.2 15.58 avg final scores self, opp:  65.8 65.42\n",
            "82 avg # coops 12.3 12.3 avg final scores self, opp:  69.7 69.7\n",
            "83 avg # coops 13.94 14.28 avg final scores self, opp:  69.06 68.72\n",
            "84 avg # coops 16.38 16.38 avg final scores self, opp:  67.62 67.62\n",
            "85 avg # coops 12.18 12.47 avg final scores self, opp:  72.82 72.53\n",
            "86 avg # coops 14.19 14.19 avg final scores self, opp:  71.81 71.81\n",
            "87 avg # coops 15.05 15.4 avg final scores self, opp:  71.95 71.6\n",
            "88 avg # coops 14.52 14.52 avg final scores self, opp:  73.48 73.48\n",
            "89 avg # coops 16.72 17.1 avg final scores self, opp:  72.28 71.9\n",
            "90 avg # coops 17.1 17.1 avg final scores self, opp:  72.9 72.9\n",
            "91 avg # coops 14.4 14.72 avg final scores self, opp:  76.6 76.28\n",
            "92 avg # coops 15.64 15.64 avg final scores self, opp:  76.36 76.36\n",
            "93 avg # coops 13.8 14.1 avg final scores self, opp:  79.2 78.9\n",
            "94 avg # coops 15.04 15.04 avg final scores self, opp:  78.96 78.96\n",
            "95 avg # coops 17.86 18.24 avg final scores self, opp:  77.14 76.76\n",
            "96 avg # coops 14.4 14.4 avg final scores self, opp:  81.6 81.6\n",
            "97 avg # coops 17.76 18.13 avg final scores self, opp:  79.24 78.87\n",
            "98 avg # coops 17.64 17.64 avg final scores self, opp:  80.36 80.36\n",
            "99 avg # coops 14.7 15 avg final scores self, opp:  84.3 84\n",
            "100 avg # coops 16 16 avg final scores self, opp:  84 84\n"
          ],
          "name": "stdout"
        }
      ]
    },
    {
      "cell_type": "code",
      "metadata": {
        "id": "iQzArgGERdrm"
      },
      "source": [
        "def_tft_scores = avg_self_final_scores"
      ],
      "execution_count": null,
      "outputs": []
    },
    {
      "cell_type": "code",
      "metadata": {
        "colab": {
          "base_uri": "https://localhost:8080/"
        },
        "id": "lGK0IdrPAa52",
        "outputId": "760218ac-e8fb-423a-be72-dd4d07de4a8e"
      },
      "source": [
        "print(\"UK, China average score for 100 rounds: \", avg_self_final_scores[-1], \",\", avg_opponent_final_scores[-1])"
      ],
      "execution_count": null,
      "outputs": [
        {
          "output_type": "stream",
          "text": [
            "UK, China average score for 100 rounds:  84 , 84\n"
          ],
          "name": "stdout"
        }
      ]
    },
    {
      "cell_type": "markdown",
      "metadata": {
        "id": "cZ64kqzuAnAH"
      },
      "source": [
        "---\r\n",
        "## UK plays C-TFT"
      ]
    },
    {
      "cell_type": "code",
      "metadata": {
        "colab": {
          "base_uri": "https://localhost:8080/"
        },
        "id": "UX1cYMOlxxt5",
        "outputId": "d9f8ff03-3329-45fd-d3b9-2ded265af490"
      },
      "source": [
        "# average of 100 games for game iterated 1-100 times\n",
        "# uk plays cooperate then tit for tat, china plays with msne prob then tit for tat\n",
        "\n",
        "players = [uk_coop_tft, china_msne_tft()]\n",
        "\n",
        "avg_self_coops = []\n",
        "avg_opp_coops = []\n",
        "avg_self_final_scores = []\n",
        "avg_opponent_final_scores = []\n",
        "\n",
        "for i in range(1,101):\n",
        "    self_coops = []\n",
        "    opp_coops = []\n",
        "    self_final_scores = []\n",
        "    opponent_final_scores = []\n",
        "    winner = []\n",
        "    for j in range(1,101):\n",
        "        \n",
        "        match = axl.Match(players, i, game=foreign_policy)\n",
        "        match.play()\n",
        "        self_final_scores.append(match.final_score()[0])\n",
        "        opponent_final_scores.append(match.final_score()[1])\n",
        "        self_coops.append(match.cooperation()[0])\n",
        "        opp_coops.append(match.cooperation()[1])\n",
        "        #winner.append(match.winner())\n",
        "\n",
        "    avg_self_final_scores.append(mean(self_final_scores))\n",
        "    avg_opponent_final_scores.append(mean(opponent_final_scores))\n",
        "    avg_self_coops.append(mean(self_coops))\n",
        "    avg_opp_coops.append(mean(opp_coops))\n",
        "\n",
        "\n",
        "# plot figure\n",
        "x=[x for x in range(1,101)]\n",
        "\n",
        "plt.figure(figsize=(20,5))\n",
        "plt.plot(x, avg_self_final_scores, label = \"UK final utility\")\n",
        "plt.plot(x, avg_opponent_final_scores, label = \"China final utility\")\n",
        "\n",
        "plt.xlabel(\"Number of rounds in game\")\n",
        "plt.ylabel(\"Average final utility (100 games)\")\n",
        "plt.legend()\n",
        "plt.show()\n",
        "\n",
        "# print stats\n",
        "for i in range(0,100):\n",
        "    print((i+1), \"avg # coops\", avg_self_coops[i], avg_opp_coops[i], \"avg final scores self, opp: \", avg_self_final_scores[i], avg_opponent_final_scores[i])"
      ],
      "execution_count": null,
      "outputs": [
        {
          "output_type": "display_data",
          "data": {
            "image/png": "[encoded data removed]",
            "text/plain": [
              "<Figure size 1440x360 with 1 Axes>"
            ]
          },
          "metadata": {
            "tags": [],
            "needs_background": "light"
          }
        },
        {
          "output_type": "stream",
          "text": [
            "1 avg # coops 1 0.34 avg final scores self, opp:  1.02 1.34\n",
            "2 avg # coops 1.31 1.31 avg final scores self, opp:  2.55 1.93\n",
            "3 avg # coops 2.28 1.56 avg final scores self, opp:  3.24 3.12\n",
            "4 avg # coops 2.76 2.76 avg final scores self, opp:  5.8 4.28\n",
            "5 avg # coops 3.7 3.05 avg final scores self, opp:  6.55 5.45\n",
            "6 avg # coops 3.99 3.99 avg final scores self, opp:  7.95 5.97\n",
            "7 avg # coops 5.11 4.48 avg final scores self, opp:  9.66 7.7\n",
            "8 avg # coops 5.56 5.56 avg final scores self, opp:  11.8 8.68\n",
            "9 avg # coops 6.44 5.8 avg final scores self, opp:  12.28 9.68\n",
            "10 avg # coops 6.55 6.55 avg final scores self, opp:  12.75 9.65\n",
            "11 avg # coops 7.55 6.86 avg final scores self, opp:  13.68 10.96\n",
            "12 avg # coops 7.44 7.44 avg final scores self, opp:  13.2 10.32\n",
            "13 avg # coops 9.52 8.94 avg final scores self, opp:  19.86 14.98\n",
            "14 avg # coops 9.1 9.1 avg final scores self, opp:  17.5 13.3\n",
            "15 avg # coops 10.38 9.72 avg final scores self, opp:  19.92 15.48\n",
            "16 avg # coops 10.48 10.48 avg final scores self, opp:  20.4 15.44\n",
            "17 avg # coops 11.64 10.97 avg final scores self, opp:  22.19 17.25\n",
            "18 avg # coops 11.88 11.88 avg final scores self, opp:  23.4 17.64\n",
            "19 avg # coops 12.97 12.3 avg final scores self, opp:  24.84 19.24\n",
            "20 avg # coops 13.5 13.5 avg final scores self, opp:  27.5 20.5\n",
            "21 avg # coops 14.1 13.41 avg final scores self, opp:  26.43 20.61\n",
            "22 avg # coops 14.63 14.63 avg final scores self, opp:  29.15 21.89\n",
            "23 avg # coops 15.63 14.96 avg final scores self, opp:  30.14 23.22\n",
            "24 avg # coops 15.36 15.36 avg final scores self, opp:  28.8 22.08\n",
            "25 avg # coops 16.96 16.29 avg final scores self, opp:  32.79 25.21\n",
            "26 avg # coops 17.68 17.68 avg final scores self, opp:  36.4 27.04\n",
            "27 avg # coops 18.42 17.76 avg final scores self, opp:  36.12 27.6\n",
            "28 avg # coops 18.62 18.62 avg final scores self, opp:  37.1 27.86\n",
            "29 avg # coops 20.32 19.7 avg final scores self, opp:  41.74 31.34\n",
            "30 avg # coops 19.65 19.65 avg final scores self, opp:  38.25 28.95\n",
            "31 avg # coops 21.1 20.44 avg final scores self, opp:  41.52 31.64\n",
            "32 avg # coops 21.6 21.6 avg final scores self, opp:  44 32.8\n",
            "33 avg # coops 21.8 21.1 avg final scores self, opp:  40.9 31.7\n",
            "34 avg # coops 21.42 21.42 avg final scores self, opp:  39.1 30.26\n",
            "35 avg # coops 23.61 22.94 avg final scores self, opp:  46.04 35.16\n",
            "36 avg # coops 23.22 23.22 avg final scores self, opp:  44.1 33.66\n",
            "37 avg # coops 26.2 25.6 avg final scores self, opp:  55.2 41\n",
            "38 avg # coops 26.6 26.6 avg final scores self, opp:  57 41.8\n",
            "39 avg # coops 25.7 25 avg final scores self, opp:  48.4 37.4\n",
            "40 avg # coops 26.2 26.2 avg final scores self, opp:  51 38.6\n",
            "41 avg # coops 27.6 26.93 avg final scores self, opp:  53.99 41.13\n",
            "42 avg # coops 29.61 29.61 avg final scores self, opp:  64.05 46.83\n",
            "43 avg # coops 30.4 29.8 avg final scores self, opp:  64.2 47.6\n",
            "44 avg # coops 29.7 29.7 avg final scores self, opp:  60.5 45.1\n",
            "45 avg # coops 30.92 30.28 avg final scores self, opp:  62.68 47.12\n",
            "46 avg # coops 32.2 32.2 avg final scores self, opp:  69 50.6\n",
            "47 avg # coops 29.98 29.24 avg final scores self, opp:  53.68 42.2\n",
            "48 avg # coops 33.36 33.36 avg final scores self, opp:  70.8 52.08\n",
            "49 avg # coops 32.68 32 avg final scores self, opp:  63.36 48.36\n",
            "50 avg # coops 32.75 32.75 avg final scores self, opp:  63.75 48.25\n",
            "51 avg # coops 33 32.28 avg final scores self, opp:  60.84 47.28\n",
            "52 avg # coops 35.62 35.62 avg final scores self, opp:  74.1 54.86\n",
            "53 avg # coops 35.06 34.37 avg final scores self, opp:  67.23 51.49\n",
            "54 avg # coops 34.56 34.56 avg final scores self, opp:  64.8 49.68\n",
            "55 avg # coops 37.18 36.52 avg final scores self, opp:  73.92 55.88\n",
            "56 avg # coops 36.12 36.12 avg final scores self, opp:  68.6 52.36\n",
            "57 avg # coops 38.8 38.15 avg final scores self, opp:  78.05 58.75\n",
            "58 avg # coops 39.73 39.73 avg final scores self, opp:  82.65 61.19\n",
            "59 avg # coops 39.28 38.6 avg final scores self, opp:  76.36 58.16\n",
            "60 avg # coops 42.6 42.6 avg final scores self, opp:  93 67.8\n",
            "61 avg # coops 39.7 38.99 avg final scores self, opp:  74.37 57.39\n",
            "62 avg # coops 41.54 41.54 avg final scores self, opp:  83.7 62.62\n",
            "63 avg # coops 39.75 39 avg final scores self, opp:  70.5 55.5\n",
            "64 avg # coops 44.48 44.48 avg final scores self, opp:  94.4 69.44\n",
            "65 avg # coops 44.52 43.88 avg final scores self, opp:  90.68 67.92\n",
            "66 avg # coops 45.87 45.87 avg final scores self, opp:  97.35 71.61\n",
            "67 avg # coops 46.21 45.58 avg final scores self, opp:  95.16 71\n",
            "68 avg # coops 45.22 45.22 avg final scores self, opp:  90.1 67.66\n",
            "69 avg # coops 43.84 43.1 avg final scores self, opp:  78.98 61.78\n",
            "70 avg # coops 47.6 47.6 avg final scores self, opp:  98 72.8\n",
            "71 avg # coops 47.55 46.88 avg final scores self, opp:  93.74 70.98\n",
            "72 avg # coops 49.68 49.68 avg final scores self, opp:  104.4 77.04\n",
            "73 avg # coops 50.68 50.06 avg final scores self, opp:  105.54 78.42\n",
            "74 avg # coops 50.69 50.69 avg final scores self, opp:  105.45 78.07\n",
            "75 avg # coops 47.99 47.26 avg final scores self, opp:  87.76 68.24\n",
            "76 avg # coops 50.92 50.92 avg final scores self, opp:  102.6 76.76\n",
            "77 avg # coops 51.54 50.87 avg final scores self, opp:  101.69 76.95\n",
            "78 avg # coops 50.31 50.31 avg final scores self, opp:  95.55 72.93\n",
            "79 avg # coops 54.04 53.4 avg final scores self, opp:  110.28 82.48\n",
            "80 avg # coops 55.6 55.6 avg final scores self, opp:  118 86.8\n",
            "81 avg # coops 52.2 51.48 avg final scores self, opp:  96.84 74.88\n",
            "82 avg # coops 54.94 54.94 avg final scores self, opp:  110.7 82.82\n",
            "83 avg # coops 54.71 54.02 avg final scores self, opp:  105.48 80.44\n",
            "84 avg # coops 56.28 56.28 avg final scores self, opp:  113.4 84.84\n",
            "85 avg # coops 55.6 54.9 avg final scores self, opp:  105.9 81.1\n",
            "86 avg # coops 56.33 56.33 avg final scores self, opp:  109.65 82.99\n",
            "87 avg # coops 62.06 61.48 avg final scores self, opp:  134.56 98.6\n",
            "88 avg # coops 57.2 57.2 avg final scores self, opp:  110 83.6\n",
            "89 avg # coops 58.2 57.5 avg final scores self, opp:  110.9 84.9\n",
            "90 avg # coops 55.8 55.8 avg final scores self, opp:  99 77.4\n",
            "91 avg # coops 60.85 60.18 avg final scores self, opp:  120.24 90.88\n",
            "92 avg # coops 59.34 59.34 avg final scores self, opp:  112.7 86.02\n",
            "93 avg # coops 64.94 64.33 avg final scores self, opp:  136.87 101.21\n",
            "94 avg # coops 62.51 62.51 avg final scores self, opp:  124.55 93.53\n",
            "95 avg # coops 63.98 63.32 avg final scores self, opp:  127.92 96.28\n",
            "96 avg # coops 61.92 61.92 avg final scores self, opp:  117.6 89.76\n",
            "97 avg # coops 65.8 65.15 avg final scores self, opp:  133.05 99.75\n",
            "98 avg # coops 64.19 64.19 avg final scores self, opp:  124.95 94.57\n",
            "99 avg # coops 68.13 67.5 avg final scores self, opp:  140.76 104.76\n",
            "100 avg # coops 65.5 65.5 avg final scores self, opp:  127.5 96.5\n"
          ],
          "name": "stdout"
        }
      ]
    },
    {
      "cell_type": "markdown",
      "metadata": {
        "id": "oN_V_99UNKeW"
      },
      "source": [
        "If the first round is D,c > C,d, > D,c... so payoff is always (0,1) or (1,0)\r\n",
        "We get a cycle of mismatches\r\n",
        "\r\n",
        "Seems like cooperate then tft is not optimal, better to defect then tft"
      ]
    },
    {
      "cell_type": "code",
      "metadata": {
        "id": "fA3qef_CRhDr"
      },
      "source": [
        "coop_tft_scores = avg_self_final_scores"
      ],
      "execution_count": null,
      "outputs": []
    },
    {
      "cell_type": "code",
      "metadata": {
        "colab": {
          "base_uri": "https://localhost:8080/"
        },
        "id": "PAvHsnpRBPAV",
        "outputId": "66733f3a-540d-4eef-ca12-4dbe6963fab2"
      },
      "source": [
        "print(\"UK, China average score for 100 rounds: \", avg_self_final_scores[-1], \",\", avg_opponent_final_scores[-1])"
      ],
      "execution_count": null,
      "outputs": [
        {
          "output_type": "stream",
          "text": [
            "UK, China average score for 100 rounds:  127.5 , 96.5\n"
          ],
          "name": "stdout"
        }
      ]
    },
    {
      "cell_type": "markdown",
      "metadata": {
        "id": "hx9dO4pBBQ0J"
      },
      "source": [
        "---\r\n",
        "## UK plays D"
      ]
    },
    {
      "cell_type": "code",
      "metadata": {
        "colab": {
          "base_uri": "https://localhost:8080/"
        },
        "id": "jH3k_NiIxxt6",
        "outputId": "78da3c20-bcfe-45df-d03b-fcf42788706b"
      },
      "source": [
        "# average of 100 games for game iterated 1-100 times\n",
        "# uk plays always defect, china plays with msne prob then tit for tat\n",
        "\n",
        "players = [uk_def, china_msne_tft()]\n",
        "\n",
        "avg_self_coops = []\n",
        "avg_opp_coops = []\n",
        "avg_self_final_scores = []\n",
        "avg_opponent_final_scores = []\n",
        "\n",
        "for i in range(1,101):\n",
        "    self_coops = []\n",
        "    opp_coops = []\n",
        "    self_final_scores = []\n",
        "    opponent_final_scores = []\n",
        "    winner = []\n",
        "    for j in range(1,101):\n",
        "        \n",
        "        match = axl.Match(players, i, game=foreign_policy)\n",
        "        match.play()\n",
        "        self_final_scores.append(match.final_score()[0])\n",
        "        opponent_final_scores.append(match.final_score()[1])\n",
        "        self_coops.append(match.cooperation()[0])\n",
        "        opp_coops.append(match.cooperation()[1])\n",
        "        #winner.append(match.winner())\n",
        "\n",
        "    avg_self_final_scores.append(mean(self_final_scores))\n",
        "    avg_opponent_final_scores.append(mean(opponent_final_scores))\n",
        "    avg_self_coops.append(mean(self_coops))\n",
        "    avg_opp_coops.append(mean(opp_coops))\n",
        "\n",
        "# plot figure\n",
        "x=[x for x in range(1,101)]\n",
        "\n",
        "plt.figure(figsize=(20,5))\n",
        "plt.plot(x, avg_self_final_scores, label = \"UK final utility\")\n",
        "plt.plot(x, avg_opponent_final_scores, label = \"China final utility\")\n",
        "\n",
        "plt.xlabel(\"Number of rounds in game\")\n",
        "plt.ylabel(\"Average final utility (100 games)\")\n",
        "plt.legend()\n",
        "plt.show()\n",
        "\n",
        "# print stats\n",
        "for i in range(0,100):\n",
        "    print((i+1), \"avg # coops\", avg_self_coops[i], avg_opp_coops[i], \"avg final scores self, opp: \", avg_self_final_scores[i], avg_opponent_final_scores[i])"
      ],
      "execution_count": null,
      "outputs": [
        {
          "output_type": "display_data",
          "data": {
            "image/png": "[encoded data removed]",
            "text/plain": [
              "<Figure size 1440x360 with 1 Axes>"
            ]
          },
          "metadata": {
            "tags": [],
            "needs_background": "light"
          }
        },
        {
          "output_type": "stream",
          "text": [
            "1 avg # coops 0 0.28 avg final scores self, opp:  1 0.72\n",
            "2 avg # coops 0 0.37 avg final scores self, opp:  2 1.63\n",
            "3 avg # coops 0 0.31 avg final scores self, opp:  3 2.69\n",
            "4 avg # coops 0 0.33 avg final scores self, opp:  4 3.67\n",
            "5 avg # coops 0 0.3 avg final scores self, opp:  5 4.7\n",
            "6 avg # coops 0 0.26 avg final scores self, opp:  6 5.74\n",
            "7 avg # coops 0 0.29 avg final scores self, opp:  7 6.71\n",
            "8 avg # coops 0 0.37 avg final scores self, opp:  8 7.63\n",
            "9 avg # coops 0 0.33 avg final scores self, opp:  9 8.67\n",
            "10 avg # coops 0 0.34 avg final scores self, opp:  10 9.66\n",
            "11 avg # coops 0 0.33 avg final scores self, opp:  11 10.67\n",
            "12 avg # coops 0 0.29 avg final scores self, opp:  12 11.71\n",
            "13 avg # coops 0 0.34 avg final scores self, opp:  13 12.66\n",
            "14 avg # coops 0 0.4 avg final scores self, opp:  14 13.6\n",
            "15 avg # coops 0 0.34 avg final scores self, opp:  15 14.66\n",
            "16 avg # coops 0 0.36 avg final scores self, opp:  16 15.64\n",
            "17 avg # coops 0 0.28 avg final scores self, opp:  17 16.72\n",
            "18 avg # coops 0 0.37 avg final scores self, opp:  18 17.63\n",
            "19 avg # coops 0 0.3 avg final scores self, opp:  19 18.7\n",
            "20 avg # coops 0 0.37 avg final scores self, opp:  20 19.63\n",
            "21 avg # coops 0 0.31 avg final scores self, opp:  21 20.69\n",
            "22 avg # coops 0 0.36 avg final scores self, opp:  22 21.64\n",
            "23 avg # coops 0 0.31 avg final scores self, opp:  23 22.69\n",
            "24 avg # coops 0 0.42 avg final scores self, opp:  24 23.58\n",
            "25 avg # coops 0 0.34 avg final scores self, opp:  25 24.66\n",
            "26 avg # coops 0 0.32 avg final scores self, opp:  26 25.68\n",
            "27 avg # coops 0 0.31 avg final scores self, opp:  27 26.69\n",
            "28 avg # coops 0 0.3 avg final scores self, opp:  28 27.7\n",
            "29 avg # coops 0 0.38 avg final scores self, opp:  29 28.62\n",
            "30 avg # coops 0 0.32 avg final scores self, opp:  30 29.68\n",
            "31 avg # coops 0 0.36 avg final scores self, opp:  31 30.64\n",
            "32 avg # coops 0 0.38 avg final scores self, opp:  32 31.62\n",
            "33 avg # coops 0 0.37 avg final scores self, opp:  33 32.63\n",
            "34 avg # coops 0 0.41 avg final scores self, opp:  34 33.59\n",
            "35 avg # coops 0 0.35 avg final scores self, opp:  35 34.65\n",
            "36 avg # coops 0 0.31 avg final scores self, opp:  36 35.69\n",
            "37 avg # coops 0 0.33 avg final scores self, opp:  37 36.67\n",
            "38 avg # coops 0 0.31 avg final scores self, opp:  38 37.69\n",
            "39 avg # coops 0 0.32 avg final scores self, opp:  39 38.68\n",
            "40 avg # coops 0 0.33 avg final scores self, opp:  40 39.67\n",
            "41 avg # coops 0 0.3 avg final scores self, opp:  41 40.7\n",
            "42 avg # coops 0 0.38 avg final scores self, opp:  42 41.62\n",
            "43 avg # coops 0 0.28 avg final scores self, opp:  43 42.72\n",
            "44 avg # coops 0 0.34 avg final scores self, opp:  44 43.66\n",
            "45 avg # coops 0 0.32 avg final scores self, opp:  45 44.68\n",
            "46 avg # coops 0 0.28 avg final scores self, opp:  46 45.72\n",
            "47 avg # coops 0 0.35 avg final scores self, opp:  47 46.65\n",
            "48 avg # coops 0 0.36 avg final scores self, opp:  48 47.64\n",
            "49 avg # coops 0 0.36 avg final scores self, opp:  49 48.64\n",
            "50 avg # coops 0 0.31 avg final scores self, opp:  50 49.69\n",
            "51 avg # coops 0 0.25 avg final scores self, opp:  51 50.75\n",
            "52 avg # coops 0 0.18 avg final scores self, opp:  52 51.82\n",
            "53 avg # coops 0 0.36 avg final scores self, opp:  53 52.64\n",
            "54 avg # coops 0 0.3 avg final scores self, opp:  54 53.7\n",
            "55 avg # coops 0 0.36 avg final scores self, opp:  55 54.64\n",
            "56 avg # coops 0 0.36 avg final scores self, opp:  56 55.64\n",
            "57 avg # coops 0 0.31 avg final scores self, opp:  57 56.69\n",
            "58 avg # coops 0 0.34 avg final scores self, opp:  58 57.66\n",
            "59 avg # coops 0 0.35 avg final scores self, opp:  59 58.65\n",
            "60 avg # coops 0 0.41 avg final scores self, opp:  60 59.59\n",
            "61 avg # coops 0 0.34 avg final scores self, opp:  61 60.66\n",
            "62 avg # coops 0 0.39 avg final scores self, opp:  62 61.61\n",
            "63 avg # coops 0 0.37 avg final scores self, opp:  63 62.63\n",
            "64 avg # coops 0 0.27 avg final scores self, opp:  64 63.73\n",
            "65 avg # coops 0 0.36 avg final scores self, opp:  65 64.64\n",
            "66 avg # coops 0 0.3 avg final scores self, opp:  66 65.7\n",
            "67 avg # coops 0 0.31 avg final scores self, opp:  67 66.69\n",
            "68 avg # coops 0 0.32 avg final scores self, opp:  68 67.68\n",
            "69 avg # coops 0 0.31 avg final scores self, opp:  69 68.69\n",
            "70 avg # coops 0 0.25 avg final scores self, opp:  70 69.75\n",
            "71 avg # coops 0 0.31 avg final scores self, opp:  71 70.69\n",
            "72 avg # coops 0 0.26 avg final scores self, opp:  72 71.74\n",
            "73 avg # coops 0 0.36 avg final scores self, opp:  73 72.64\n",
            "74 avg # coops 0 0.3 avg final scores self, opp:  74 73.7\n",
            "75 avg # coops 0 0.26 avg final scores self, opp:  75 74.74\n",
            "76 avg # coops 0 0.37 avg final scores self, opp:  76 75.63\n",
            "77 avg # coops 0 0.28 avg final scores self, opp:  77 76.72\n",
            "78 avg # coops 0 0.32 avg final scores self, opp:  78 77.68\n",
            "79 avg # coops 0 0.31 avg final scores self, opp:  79 78.69\n",
            "80 avg # coops 0 0.31 avg final scores self, opp:  80 79.69\n",
            "81 avg # coops 0 0.29 avg final scores self, opp:  81 80.71\n",
            "82 avg # coops 0 0.34 avg final scores self, opp:  82 81.66\n",
            "83 avg # coops 0 0.29 avg final scores self, opp:  83 82.71\n",
            "84 avg # coops 0 0.32 avg final scores self, opp:  84 83.68\n",
            "85 avg # coops 0 0.33 avg final scores self, opp:  85 84.67\n",
            "86 avg # coops 0 0.28 avg final scores self, opp:  86 85.72\n",
            "87 avg # coops 0 0.26 avg final scores self, opp:  87 86.74\n",
            "88 avg # coops 0 0.31 avg final scores self, opp:  88 87.69\n",
            "89 avg # coops 0 0.34 avg final scores self, opp:  89 88.66\n",
            "90 avg # coops 0 0.34 avg final scores self, opp:  90 89.66\n",
            "91 avg # coops 0 0.37 avg final scores self, opp:  91 90.63\n",
            "92 avg # coops 0 0.32 avg final scores self, opp:  92 91.68\n",
            "93 avg # coops 0 0.32 avg final scores self, opp:  93 92.68\n",
            "94 avg # coops 0 0.27 avg final scores self, opp:  94 93.73\n",
            "95 avg # coops 0 0.31 avg final scores self, opp:  95 94.69\n",
            "96 avg # coops 0 0.33 avg final scores self, opp:  96 95.67\n",
            "97 avg # coops 0 0.27 avg final scores self, opp:  97 96.73\n",
            "98 avg # coops 0 0.32 avg final scores self, opp:  98 97.68\n",
            "99 avg # coops 0 0.36 avg final scores self, opp:  99 98.64\n",
            "100 avg # coops 0 0.33 avg final scores self, opp:  100 99.67\n"
          ],
          "name": "stdout"
        }
      ]
    },
    {
      "cell_type": "code",
      "metadata": {
        "id": "Yo17XBSAP0ad"
      },
      "source": [
        "def_scores = avg_self_final_scores"
      ],
      "execution_count": null,
      "outputs": []
    },
    {
      "cell_type": "code",
      "metadata": {
        "colab": {
          "base_uri": "https://localhost:8080/"
        },
        "id": "E7MievNmBZf7",
        "outputId": "664c2a1e-b9dc-47b9-85ea-742dba026ace"
      },
      "source": [
        "print(\"UK, China average score for 100 rounds: \", avg_self_final_scores[-1], \",\", avg_opponent_final_scores[-1])"
      ],
      "execution_count": null,
      "outputs": [
        {
          "output_type": "stream",
          "text": [
            "UK, China average score for 100 rounds:  100 , 99.67\n"
          ],
          "name": "stdout"
        }
      ]
    },
    {
      "cell_type": "markdown",
      "metadata": {
        "id": "1U8XwbSHBndg"
      },
      "source": [
        "--- \r\n",
        "## UK plays C"
      ]
    },
    {
      "cell_type": "code",
      "metadata": {
        "colab": {
          "base_uri": "https://localhost:8080/"
        },
        "id": "g5YmjftvLHoR",
        "outputId": "d33b67b2-1182-46cf-c7f8-3ff882828b51"
      },
      "source": [
        "# average of 100 games for game iterated 1-100 times\r\n",
        "# uk plays always cooperate, china plays with msne prob then tit for tat\r\n",
        "\r\n",
        "players = [uk_coop, china_msne_tft()]\r\n",
        "\r\n",
        "avg_self_coops = []\r\n",
        "avg_opp_coops = []\r\n",
        "avg_self_final_scores = []\r\n",
        "avg_opponent_final_scores = []\r\n",
        "\r\n",
        "for i in range(1,101):\r\n",
        "    self_coops = []\r\n",
        "    opp_coops = []\r\n",
        "    self_final_scores = []\r\n",
        "    opponent_final_scores = []\r\n",
        "    winner = []\r\n",
        "    for j in range(1,101):\r\n",
        "        \r\n",
        "        match = axl.Match(players, i, game=foreign_policy)\r\n",
        "        match.play()\r\n",
        "        self_final_scores.append(match.final_score()[0])\r\n",
        "        opponent_final_scores.append(match.final_score()[1])\r\n",
        "        self_coops.append(match.cooperation()[0])\r\n",
        "        opp_coops.append(match.cooperation()[1])\r\n",
        "        #winner.append(match.winner())\r\n",
        "\r\n",
        "    avg_self_final_scores.append(mean(self_final_scores))\r\n",
        "    avg_opponent_final_scores.append(mean(opponent_final_scores))\r\n",
        "    avg_self_coops.append(mean(self_coops))\r\n",
        "    avg_opp_coops.append(mean(opp_coops))\r\n",
        "\r\n",
        "\r\n",
        "# plot figure\r\n",
        "x=[x for x in range(1,101)]\r\n",
        "\r\n",
        "plt.figure(figsize=(20,5))\r\n",
        "plt.plot(x, avg_self_final_scores, label = \"UK final utility\")\r\n",
        "plt.plot(x, avg_opponent_final_scores, label = \"China final utility\")\r\n",
        "\r\n",
        "plt.xlabel(\"Number of rounds in game\")\r\n",
        "plt.ylabel(\"Average final utility (100 games)\")\r\n",
        "plt.legend()\r\n",
        "plt.show()\r\n",
        "\r\n",
        "# print stats\r\n",
        "for i in range(0,100):\r\n",
        "    print((i+1), \"avg # coops\", avg_self_coops[i], avg_opp_coops[i], \"avg final scores self, opp: \", avg_self_final_scores[i], avg_opponent_final_scores[i])"
      ],
      "execution_count": null,
      "outputs": [
        {
          "output_type": "display_data",
          "data": {
            "image/png": "[encoded data removed]",
            "text/plain": [
              "<Figure size 1440x360 with 1 Axes>"
            ]
          },
          "metadata": {
            "tags": [],
            "needs_background": "light"
          }
        },
        {
          "output_type": "stream",
          "text": [
            "1 avg # coops 1 0.35 avg final scores self, opp:  1.05 1.35\n",
            "2 avg # coops 2 1.4 avg final scores self, opp:  4.2 3.4\n",
            "3 avg # coops 3 2.3 avg final scores self, opp:  6.9 5.3\n",
            "4 avg # coops 4 3.34 avg final scores self, opp:  10.02 7.34\n",
            "5 avg # coops 5 4.3 avg final scores self, opp:  12.9 9.3\n",
            "6 avg # coops 6 5.3 avg final scores self, opp:  15.9 11.3\n",
            "7 avg # coops 7 6.39 avg final scores self, opp:  19.17 13.39\n",
            "8 avg # coops 8 7.31 avg final scores self, opp:  21.93 15.31\n",
            "9 avg # coops 9 8.38 avg final scores self, opp:  25.14 17.38\n",
            "10 avg # coops 10 9.37 avg final scores self, opp:  28.11 19.37\n",
            "11 avg # coops 11 10.33 avg final scores self, opp:  30.99 21.33\n",
            "12 avg # coops 12 11.27 avg final scores self, opp:  33.81 23.27\n",
            "13 avg # coops 13 12.28 avg final scores self, opp:  36.84 25.28\n",
            "14 avg # coops 14 13.3 avg final scores self, opp:  39.9 27.3\n",
            "15 avg # coops 15 14.29 avg final scores self, opp:  42.87 29.29\n",
            "16 avg # coops 16 15.25 avg final scores self, opp:  45.75 31.25\n",
            "17 avg # coops 17 16.33 avg final scores self, opp:  48.99 33.33\n",
            "18 avg # coops 18 17.33 avg final scores self, opp:  51.99 35.33\n",
            "19 avg # coops 19 18.29 avg final scores self, opp:  54.87 37.29\n",
            "20 avg # coops 20 19.3 avg final scores self, opp:  57.9 39.3\n",
            "21 avg # coops 21 20.25 avg final scores self, opp:  60.75 41.25\n",
            "22 avg # coops 22 21.33 avg final scores self, opp:  63.99 43.33\n",
            "23 avg # coops 23 22.35 avg final scores self, opp:  67.05 45.35\n",
            "24 avg # coops 24 23.3 avg final scores self, opp:  69.9 47.3\n",
            "25 avg # coops 25 24.46 avg final scores self, opp:  73.38 49.46\n",
            "26 avg # coops 26 25.29 avg final scores self, opp:  75.87 51.29\n",
            "27 avg # coops 27 26.46 avg final scores self, opp:  79.38 53.46\n",
            "28 avg # coops 28 27.35 avg final scores self, opp:  82.05 55.35\n",
            "29 avg # coops 29 28.37 avg final scores self, opp:  85.11 57.37\n",
            "30 avg # coops 30 29.39 avg final scores self, opp:  88.17 59.39\n",
            "31 avg # coops 31 30.29 avg final scores self, opp:  90.87 61.29\n",
            "32 avg # coops 32 31.35 avg final scores self, opp:  94.05 63.35\n",
            "33 avg # coops 33 32.3 avg final scores self, opp:  96.9 65.3\n",
            "34 avg # coops 34 33.37 avg final scores self, opp:  100.11 67.37\n",
            "35 avg # coops 35 34.29 avg final scores self, opp:  102.87 69.29\n",
            "36 avg # coops 36 35.37 avg final scores self, opp:  106.11 71.37\n",
            "37 avg # coops 37 36.31 avg final scores self, opp:  108.93 73.31\n",
            "38 avg # coops 38 37.36 avg final scores self, opp:  112.08 75.36\n",
            "39 avg # coops 39 38.42 avg final scores self, opp:  115.26 77.42\n",
            "40 avg # coops 40 39.25 avg final scores self, opp:  117.75 79.25\n",
            "41 avg # coops 41 40.29 avg final scores self, opp:  120.87 81.29\n",
            "42 avg # coops 42 41.33 avg final scores self, opp:  123.99 83.33\n",
            "43 avg # coops 43 42.34 avg final scores self, opp:  127.02 85.34\n",
            "44 avg # coops 44 43.32 avg final scores self, opp:  129.96 87.32\n",
            "45 avg # coops 45 44.32 avg final scores self, opp:  132.96 89.32\n",
            "46 avg # coops 46 45.36 avg final scores self, opp:  136.08 91.36\n",
            "47 avg # coops 47 46.3 avg final scores self, opp:  138.9 93.3\n",
            "48 avg # coops 48 47.33 avg final scores self, opp:  141.99 95.33\n",
            "49 avg # coops 49 48.27 avg final scores self, opp:  144.81 97.27\n",
            "50 avg # coops 50 49.36 avg final scores self, opp:  148.08 99.36\n",
            "51 avg # coops 51 50.3 avg final scores self, opp:  150.9 101.3\n",
            "52 avg # coops 52 51.33 avg final scores self, opp:  153.99 103.33\n",
            "53 avg # coops 53 52.33 avg final scores self, opp:  156.99 105.33\n",
            "54 avg # coops 54 53.26 avg final scores self, opp:  159.78 107.26\n",
            "55 avg # coops 55 54.33 avg final scores self, opp:  162.99 109.33\n",
            "56 avg # coops 56 55.36 avg final scores self, opp:  166.08 111.36\n",
            "57 avg # coops 57 56.29 avg final scores self, opp:  168.87 113.29\n",
            "58 avg # coops 58 57.38 avg final scores self, opp:  172.14 115.38\n",
            "59 avg # coops 59 58.33 avg final scores self, opp:  174.99 117.33\n",
            "60 avg # coops 60 59.35 avg final scores self, opp:  178.05 119.35\n",
            "61 avg # coops 61 60.3 avg final scores self, opp:  180.9 121.3\n",
            "62 avg # coops 62 61.3 avg final scores self, opp:  183.9 123.3\n",
            "63 avg # coops 63 62.3 avg final scores self, opp:  186.9 125.3\n",
            "64 avg # coops 64 63.27 avg final scores self, opp:  189.81 127.27\n",
            "65 avg # coops 65 64.29 avg final scores self, opp:  192.87 129.29\n",
            "66 avg # coops 66 65.42 avg final scores self, opp:  196.26 131.42\n",
            "67 avg # coops 67 66.36 avg final scores self, opp:  199.08 133.36\n",
            "68 avg # coops 68 67.29 avg final scores self, opp:  201.87 135.29\n",
            "69 avg # coops 69 68.38 avg final scores self, opp:  205.14 137.38\n",
            "70 avg # coops 70 69.26 avg final scores self, opp:  207.78 139.26\n",
            "71 avg # coops 71 70.34 avg final scores self, opp:  211.02 141.34\n",
            "72 avg # coops 72 71.21 avg final scores self, opp:  213.63 143.21\n",
            "73 avg # coops 73 72.36 avg final scores self, opp:  217.08 145.36\n",
            "74 avg # coops 74 73.29 avg final scores self, opp:  219.87 147.29\n",
            "75 avg # coops 75 74.32 avg final scores self, opp:  222.96 149.32\n",
            "76 avg # coops 76 75.26 avg final scores self, opp:  225.78 151.26\n",
            "77 avg # coops 77 76.37 avg final scores self, opp:  229.11 153.37\n",
            "78 avg # coops 78 77.37 avg final scores self, opp:  232.11 155.37\n",
            "79 avg # coops 79 78.32 avg final scores self, opp:  234.96 157.32\n",
            "80 avg # coops 80 79.32 avg final scores self, opp:  237.96 159.32\n",
            "81 avg # coops 81 80.24 avg final scores self, opp:  240.72 161.24\n",
            "82 avg # coops 82 81.35 avg final scores self, opp:  244.05 163.35\n",
            "83 avg # coops 83 82.29 avg final scores self, opp:  246.87 165.29\n",
            "84 avg # coops 84 83.36 avg final scores self, opp:  250.08 167.36\n",
            "85 avg # coops 85 84.35 avg final scores self, opp:  253.05 169.35\n",
            "86 avg # coops 86 85.38 avg final scores self, opp:  256.14 171.38\n",
            "87 avg # coops 87 86.36 avg final scores self, opp:  259.08 173.36\n",
            "88 avg # coops 88 87.28 avg final scores self, opp:  261.84 175.28\n",
            "89 avg # coops 89 88.37 avg final scores self, opp:  265.11 177.37\n",
            "90 avg # coops 90 89.41 avg final scores self, opp:  268.23 179.41\n",
            "91 avg # coops 91 90.32 avg final scores self, opp:  270.96 181.32\n",
            "92 avg # coops 92 91.33 avg final scores self, opp:  273.99 183.33\n",
            "93 avg # coops 93 92.38 avg final scores self, opp:  277.14 185.38\n",
            "94 avg # coops 94 93.35 avg final scores self, opp:  280.05 187.35\n",
            "95 avg # coops 95 94.22 avg final scores self, opp:  282.66 189.22\n",
            "96 avg # coops 96 95.37 avg final scores self, opp:  286.11 191.37\n",
            "97 avg # coops 97 96.38 avg final scores self, opp:  289.14 193.38\n",
            "98 avg # coops 98 97.28 avg final scores self, opp:  291.84 195.28\n",
            "99 avg # coops 99 98.29 avg final scores self, opp:  294.87 197.29\n",
            "100 avg # coops 100 99.3 avg final scores self, opp:  297.9 199.3\n"
          ],
          "name": "stdout"
        }
      ]
    },
    {
      "cell_type": "code",
      "metadata": {
        "id": "kYPCoY9_Pn8I"
      },
      "source": [
        "coop_scores = avg_self_final_scores"
      ],
      "execution_count": null,
      "outputs": []
    },
    {
      "cell_type": "code",
      "metadata": {
        "colab": {
          "base_uri": "https://localhost:8080/"
        },
        "id": "20cNCcdABsvu",
        "outputId": "aa908d26-ae91-48c5-ef45-fbc76d13240e"
      },
      "source": [
        "print(\"UK, China average score for 100 rounds: \", avg_self_final_scores[-1], \",\", avg_opponent_final_scores[-1])"
      ],
      "execution_count": null,
      "outputs": [
        {
          "output_type": "stream",
          "text": [
            "UK, China average score for 100 rounds:  297.9 , 199.3\n"
          ],
          "name": "stdout"
        }
      ]
    },
    {
      "cell_type": "markdown",
      "metadata": {
        "id": "eyoqUDKK1NrB"
      },
      "source": [
        "\r\n",
        "---\r\n",
        "\r\n",
        "# Plotting UK payoffs\r\n"
      ]
    },
    {
      "cell_type": "code",
      "metadata": {
        "colab": {
          "base_uri": "https://localhost:8080/",
          "height": 236
        },
        "id": "3StkgXrxPh7D",
        "outputId": "e266f3ea-be2c-408a-88fb-e69c4f157f71"
      },
      "source": [
        "import matplotlib.pylab as pylab\r\n",
        "params = {'legend.fontsize': '9',\r\n",
        "          'figure.figsize': (6, 3),\r\n",
        "         'axes.labelsize': '9',\r\n",
        "         'axes.titlesize':'9',\r\n",
        "         'xtick.labelsize':'9',\r\n",
        "         'ytick.labelsize':'7'}\r\n",
        "pylab.rcParams.update(params)\r\n",
        "\r\n",
        "\r\n",
        "plt.plot(coop_scores, label = \"C\")\r\n",
        "plt.plot(def_scores, label = \"D\")\r\n",
        "plt.plot(coop_tft_scores, label= \"C-TFT\")\r\n",
        "plt.plot(def_tft_scores, label = \"D-TFT\")\r\n",
        "plt.plot(msne_scores, label = \"MSNE\")\r\n",
        "plt.plot(msne_tft_scores, label = \"MSNE-TFT\")\r\n",
        "\r\n",
        "plt.xlabel(\"Number of rounds per game\")\r\n",
        "plt.ylabel(\"Average final utility of 100 games\")\r\n",
        "plt.title(\"Figure 4: Average final utilities for the UK in the iterated Stag Hunt\")\r\n",
        "plt.legend()\r\n",
        "\r\n",
        "plt.savefig(\"uk_utils\")"
      ],
      "execution_count": null,
      "outputs": [
        {
          "output_type": "display_data",
          "data": {
            "image/png": "[encoded data removed]",
            "text/plain": [
              "<Figure size 432x216 with 1 Axes>"
            ]
          },
          "metadata": {
            "tags": [],
            "needs_background": "light"
          }
        }
      ]
    },
    {
      "cell_type": "code",
      "metadata": {
        "id": "xN-l-N52Q5qq"
      },
      "source": [
        ""
      ],
      "execution_count": null,
      "outputs": []
    }
  ]
}