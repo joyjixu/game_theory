{
  "nbformat": 4,
  "nbformat_minor": 0,
  "metadata": {
    "language_info": {
      "codemirror_mode": {
        "name": "ipython",
        "version": 3
      },
      "file_extension": ".py",
      "mimetype": "text/x-python",
      "name": "python",
      "nbconvert_exporter": "python",
      "pygments_lexer": "ipython3",
      "version": "3.7.4-final"
    },
    "orig_nbformat": 2,
    "kernelspec": {
      "name": "python3",
      "display_name": "Python 3",
      "language": "python"
    },
    "colab": {
      "name": "game_theory_assignment_1.ipynb",
      "provenance": [],
      "toc_visible": true,
      "include_colab_link": true
    }
  },
  "cells": [
    {
      "cell_type": "markdown",
      "metadata": {
        "id": "view-in-github",
        "colab_type": "text"
      },
      "source": [
        "<a href=\"https://colab.research.google.com/github/joyjixu/game_theory/blob/main/game_theory_assignment_1.ipynb\" target=\"_parent\"><img src=\"https://colab.research.google.com/assets/colab-badge.svg\" alt=\"Open In Colab\"/></a>"
      ]
    },
    {
      "cell_type": "markdown",
      "metadata": {
        "id": "0wBlyQDSMmAN"
      },
      "source": [
        "# BASC00017 Interdisciplinary Game Theory Assignment 1\r\n",
        "# Code appendix\r\n",
        "by Joy Xu\r\n",
        "\r\n",
        "---\r\n"
      ]
    },
    {
      "cell_type": "markdown",
      "metadata": {
        "id": "tEjPAEoDNJq3"
      },
      "source": [
        "First we install the necessary Python libraries and update dependencies:"
      ]
    },
    {
      "cell_type": "code",
      "metadata": {
        "colab": {
          "base_uri": "https://localhost:8080/",
          "height": 1000
        },
        "id": "ZXZ0j35YzTPw",
        "outputId": "54e5a139-02ec-4dd9-f98c-cedbcaa55f33"
      },
      "source": [
        "! pip install nashpy\r\n",
        "! pip install axelrod\r\n",
        "\r\n",
        "! pip install -U PyYAML"
      ],
      "execution_count": 1,
      "outputs": [
        {
          "output_type": "stream",
          "text": [
            "Collecting nashpy\n",
            "  Downloading https://files.pythonhosted.org/packages/ad/a2/5d36744511640db1869029d2ab324b55f6eaaa2a51f75a87408a7e8000f4/nashpy-0.0.19.tar.gz\n",
            "Requirement already satisfied: numpy>=1.12.1 in /usr/local/lib/python3.6/dist-packages (from nashpy) (1.19.5)\n",
            "Requirement already satisfied: scipy>=0.19.0 in /usr/local/lib/python3.6/dist-packages (from nashpy) (1.4.1)\n",
            "Building wheels for collected packages: nashpy\n",
            "  Building wheel for nashpy (setup.py) ... \u001b[?25l\u001b[?25hdone\n",
            "  Created wheel for nashpy: filename=nashpy-0.0.19-cp36-none-any.whl size=10814 sha256=27989356a035be0cedb296f7d2412126395f17b06a6c0050aaf6decc2124f876\n",
            "  Stored in directory: /root/.cache/pip/wheels/18/e9/56/2d04d01a6969d167f86d3afcb3d128c0b43d0d73ea471c835b\n",
            "Successfully built nashpy\n",
            "Installing collected packages: nashpy\n",
            "Successfully installed nashpy-0.0.19\n",
            "Collecting axelrod\n",
            "\u001b[?25l  Downloading https://files.pythonhosted.org/packages/58/e1/00d31360eae2cacf2c2fbaf4af822aaf22a9059b97b78a696db8e55569cb/Axelrod-4.10.0-py2.py3-none-any.whl (193kB)\n",
            "\u001b[K     |████████████████████████████████| 194kB 5.7MB/s \n",
            "\u001b[?25hRequirement already satisfied: dask>=2.9.2 in /usr/local/lib/python3.6/dist-packages (from axelrod) (2.12.0)\n",
            "Requirement already satisfied: pyyaml>=3.01 in /usr/local/lib/python3.6/dist-packages (from axelrod) (3.13)\n",
            "Requirement already satisfied: toolz>=0.8.2 in /usr/local/lib/python3.6/dist-packages (from axelrod) (0.11.1)\n",
            "Collecting prompt-toolkit>=3.0\n",
            "\u001b[?25l  Downloading https://files.pythonhosted.org/packages/a6/0b/c6de29441b29f8b54d5bbe29a8b223de6e400714ff50e85541bd4c783421/prompt_toolkit-3.0.16-py3-none-any.whl (366kB)\n",
            "\u001b[K     |████████████████████████████████| 368kB 32.9MB/s \n",
            "\u001b[?25hRequirement already satisfied: scipy>=1.3.3 in /usr/local/lib/python3.6/dist-packages (from axelrod) (1.4.1)\n",
            "Requirement already satisfied: tqdm>=4.39.0 in /usr/local/lib/python3.6/dist-packages (from axelrod) (4.41.1)\n",
            "Requirement already satisfied: matplotlib>=3.0.3 in /usr/local/lib/python3.6/dist-packages (from axelrod) (3.2.2)\n",
            "Requirement already satisfied: cloudpickle>=0.2.2 in /usr/local/lib/python3.6/dist-packages (from axelrod) (1.3.0)\n",
            "Requirement already satisfied: pandas>=1.0.0 in /usr/local/lib/python3.6/dist-packages (from axelrod) (1.1.5)\n",
            "Requirement already satisfied: numpy>=1.17.4 in /usr/local/lib/python3.6/dist-packages (from axelrod) (1.19.5)\n",
            "Collecting fsspec>=0.6.0\n",
            "\u001b[?25l  Downloading https://files.pythonhosted.org/packages/ec/80/72ac0982cc833945fada4b76c52f0f65435ba4d53bc9317d1c70b5f7e7d5/fsspec-0.8.5-py3-none-any.whl (98kB)\n",
            "\u001b[K     |████████████████████████████████| 102kB 9.0MB/s \n",
            "\u001b[?25hRequirement already satisfied: wcwidth in /usr/local/lib/python3.6/dist-packages (from prompt-toolkit>=3.0->axelrod) (0.2.5)\n",
            "Requirement already satisfied: python-dateutil>=2.1 in /usr/local/lib/python3.6/dist-packages (from matplotlib>=3.0.3->axelrod) (2.8.1)\n",
            "Requirement already satisfied: kiwisolver>=1.0.1 in /usr/local/lib/python3.6/dist-packages (from matplotlib>=3.0.3->axelrod) (1.3.1)\n",
            "Requirement already satisfied: cycler>=0.10 in /usr/local/lib/python3.6/dist-packages (from matplotlib>=3.0.3->axelrod) (0.10.0)\n",
            "Requirement already satisfied: pyparsing!=2.0.4,!=2.1.2,!=2.1.6,>=2.0.1 in /usr/local/lib/python3.6/dist-packages (from matplotlib>=3.0.3->axelrod) (2.4.7)\n",
            "Requirement already satisfied: pytz>=2017.2 in /usr/local/lib/python3.6/dist-packages (from pandas>=1.0.0->axelrod) (2018.9)\n",
            "Requirement already satisfied: six>=1.5 in /usr/local/lib/python3.6/dist-packages (from python-dateutil>=2.1->matplotlib>=3.0.3->axelrod) (1.15.0)\n",
            "\u001b[31mERROR: jupyter-console 5.2.0 has requirement prompt-toolkit<2.0.0,>=1.0.0, but you'll have prompt-toolkit 3.0.16 which is incompatible.\u001b[0m\n",
            "\u001b[31mERROR: ipython 5.5.0 has requirement prompt-toolkit<2.0.0,>=1.0.4, but you'll have prompt-toolkit 3.0.16 which is incompatible.\u001b[0m\n",
            "Installing collected packages: prompt-toolkit, fsspec, axelrod\n",
            "  Found existing installation: prompt-toolkit 1.0.18\n",
            "    Uninstalling prompt-toolkit-1.0.18:\n",
            "      Successfully uninstalled prompt-toolkit-1.0.18\n",
            "Successfully installed axelrod-4.10.0 fsspec-0.8.5 prompt-toolkit-3.0.16\n"
          ],
          "name": "stdout"
        },
        {
          "output_type": "display_data",
          "data": {
            "application/vnd.colab-display-data+json": {
              "pip_warning": {
                "packages": [
                  "prompt_toolkit"
                ]
              }
            }
          },
          "metadata": {
            "tags": []
          }
        },
        {
          "output_type": "stream",
          "text": [
            "Collecting PyYAML\n",
            "\u001b[?25l  Downloading https://files.pythonhosted.org/packages/7a/5b/bc0b5ab38247bba158504a410112b6c03f153c652734ece1849749e5f518/PyYAML-5.4.1-cp36-cp36m-manylinux1_x86_64.whl (640kB)\n",
            "\u001b[K     |████████████████████████████████| 645kB 5.6MB/s \n",
            "\u001b[?25hInstalling collected packages: PyYAML\n",
            "  Found existing installation: PyYAML 3.13\n",
            "    Uninstalling PyYAML-3.13:\n",
            "      Successfully uninstalled PyYAML-3.13\n",
            "Successfully installed PyYAML-5.4.1\n"
          ],
          "name": "stdout"
        }
      ]
    },
    {
      "cell_type": "markdown",
      "metadata": {
        "id": "_G6cuQc1NSwB"
      },
      "source": [
        "Then we can import the libraries we need into the notebook."
      ]
    },
    {
      "cell_type": "code",
      "metadata": {
        "id": "hRgM9WQcxxtt"
      },
      "source": [
        "import nashpy as nash\n",
        "import numpy as np\n",
        "import matplotlib.pyplot as plt\n",
        "import axelrod as axl\n",
        "from axelrod import Game\n",
        "from typing import Tuple, Union\n",
        "from axelrod import Action\n",
        "from statistics import mean\n",
        "\n"
      ],
      "execution_count": 2,
      "outputs": []
    },
    {
      "cell_type": "code",
      "metadata": {
        "colab": {
          "base_uri": "https://localhost:8080/",
          "height": 35
        },
        "id": "TC9Zw7JJ0x5C",
        "outputId": "3a2c2d96-a82b-4c2f-bda7-fc2a5ff97d90"
      },
      "source": [
        "import yaml\r\n",
        "yaml.__version__"
      ],
      "execution_count": 3,
      "outputs": [
        {
          "output_type": "execute_result",
          "data": {
            "application/vnd.google.colaboratory.intrinsic+json": {
              "type": "string"
            },
            "text/plain": [
              "'5.4.1'"
            ]
          },
          "metadata": {
            "tags": []
          },
          "execution_count": 3
        }
      ]
    },
    {
      "cell_type": "markdown",
      "metadata": {
        "id": "u8TvGU7LNa2W"
      },
      "source": [
        "# 1. Checking MSNE using Nashpy\r\n",
        "Although the MSNE was calculated manually in the assignment, we can verify that is is correct using Nashpy. Below we create a game with player A and B, and set the payoffs."
      ]
    },
    {
      "cell_type": "code",
      "metadata": {
        "colab": {
          "base_uri": "https://localhost:8080/"
        },
        "id": "dVb3-IIBxxtx",
        "outputId": "f5a4b2a1-582b-4201-e5a6-e5696689fba4"
      },
      "source": [
        "A = np.array([[3,0],[1,1]]) # A is the row player\n",
        "B = np.array([[2,1],[0,1]]) # B is the column player\n",
        "game1 = nash.Game(A,B)\n",
        "game1"
      ],
      "execution_count": 4,
      "outputs": [
        {
          "output_type": "execute_result",
          "data": {
            "text/plain": [
              "Bi matrix game with payoff matrices:\n",
              "\n",
              "Row player:\n",
              "[[3 0]\n",
              " [1 1]]\n",
              "\n",
              "Column player:\n",
              "[[2 1]\n",
              " [0 1]]"
            ]
          },
          "metadata": {
            "tags": []
          },
          "execution_count": 4
        }
      ]
    },
    {
      "cell_type": "markdown",
      "metadata": {
        "id": "0SgWHUvdN77L"
      },
      "source": [
        "Then we can calculate any equilibria."
      ]
    },
    {
      "cell_type": "code",
      "metadata": {
        "colab": {
          "base_uri": "https://localhost:8080/"
        },
        "id": "DLz-dYEzxxty",
        "outputId": "a743de52-a281-4876-bb7d-26c4728bc420"
      },
      "source": [
        "# Player A has strategies (Top, Bottom) and Player B has strategies (Left, Right)\n",
        "equilibria = game1.support_enumeration()\n",
        "for eq in equilibria:\n",
        "    print(eq)"
      ],
      "execution_count": 5,
      "outputs": [
        {
          "output_type": "stream",
          "text": [
            "(array([1., 0.]), array([1., 0.]))\n",
            "(array([0., 1.]), array([0., 1.]))\n",
            "(array([0.5, 0.5]), array([0.33333333, 0.66666667]))\n"
          ],
          "name": "stdout"
        }
      ]
    },
    {
      "cell_type": "markdown",
      "metadata": {
        "id": "50ChLVsaxxty"
      },
      "source": [
        "The cell above prints out three equilibria. The first two are the Pure strategy NE and the last one is the MSNE. We can read each line as (player1 action ([prob top strategy, prob bottom strategy]), player 2 action([prob left strategy, prob right strategy])).\n",
        "\n",
        "* top: cooperate\n",
        "* bottom : defect\n",
        "* left: cooperate\n",
        "* right: defect\n",
        "\n",
        "*Results:*\n",
        "\n",
        "(array(1., 0.), array(1., 0.)) ---> top left: both cooperate\n",
        "\n",
        "(array(0., 1.), array(0., 1.)) ---> bottom right: both defect\n",
        "\n",
        "(array(0.5, 0.5), array(0.33, 0.67)) ---> Mixed strategy: Player 1 (UK) plays cooperate with probability 0.5, Player 2 (China) plays cooperate with probability 0.33"
      ]
    },
    {
      "cell_type": "markdown",
      "metadata": {
        "id": "Qy4s59kfxxtz"
      },
      "source": [
        "____________________________________________________________________________________________________"
      ]
    },
    {
      "cell_type": "markdown",
      "metadata": {
        "id": "BujUeIWP6THs"
      },
      "source": [
        "# Iterating with Axelrod\r\n",
        "* Axelrod is another Python library we can use for iterating the stag hunt\r\n",
        "* The library was designed for the iterated Prsinoner's dilemma, so we have to change some code to allow for asymmetric payoffs\r\n",
        "* We do that by creating a new class that inherits from the Game class (what we would have used normally for a PD)"
      ]
    },
    {
      "cell_type": "code",
      "metadata": {
        "id": "Hofz6dVbxxtz"
      },
      "source": [
        "C, D = Action.C, Action.D\n",
        "class AsymmetricGame(Game):\n",
        "    Score = Union[int, float]\n",
        "    # the line below adds r2, p2, s2, t2 as parameters for the Game class (otherwise both players would have the same RPST payoffs)\n",
        "    def __init__(self, r: Score = 3, s: Score = 0, t: Score = 5, p: Score = 1, r2: Score = 3, s2: Score = 0, t2: Score = 5, p2: Score = 1) -> None:\n",
        "        \"\"\"Create a new game object.\n",
        "        \n",
        "        Parameters\n",
        "        ----------\n",
        "        r: int or float\n",
        "            Score obtained by both players for mutual cooperation.\n",
        "        s: int or float\n",
        "            Score obtained by a player for cooperating against a defector.\n",
        "        t: int or float\n",
        "            Score obtained by a player for defecting against a cooperator.\n",
        "        p: int or float\n",
        "            Score obtained by both player for mutual defection.\n",
        "        \"\"\"\n",
        "        self.scores = {(C, C): (r, r2), (D, D): (p, p2), (C, D): (s, t2), (D, C): (t, s2)}\n",
        "\n",
        "\n",
        "    def RPST(self) -> Tuple[Score, Score, Score, Score]:\n",
        "        \"\"\"Returns game matrix values in Press and Dyson notation.\"\"\"\n",
        "        R = self.scores[(C, C)]\n",
        "        P = self.scores[(D, D)]\n",
        "        S = self.scores[(C, D)]\n",
        "        T = self.scores[(D, C)]\n",
        "        return R, P, S, T"
      ],
      "execution_count": 6,
      "outputs": []
    },
    {
      "cell_type": "markdown",
      "metadata": {
        "id": "vaHqmTCC7CL-"
      },
      "source": [
        "Next we also add a strategy wrapper to customize the player's strategy for our MSNE. In the assignment we mentioned that China would play the first round using MSNE, so the strategy wrapper will alter any strategy (e.g. tit-for-tat) so that the first round will be played with MSNE.\r\n",
        "\r\n",
        "We also create a strategy wrapper for the UK's MSNE."
      ]
    },
    {
      "cell_type": "code",
      "metadata": {
        "id": "xd-VMJ4Qxxt0"
      },
      "source": [
        "# the UK's probability p of cooperate is 0.5 so the parameter prob is set to 0.5\n",
        "def strategy_wrapper_uk(player, opponent, proposed_action, prob=0.5,*args, **kwargs):\n",
        "    \"\"\"\n",
        "    Strategy wrapper functions should be of the following form.\n",
        "\n",
        "    Parameters\n",
        "    ----------\n",
        "    player: Player object or subclass (self)\n",
        "    opponent: Player object or subclass\n",
        "    proposed_action: an axelrod.Action, C or D\n",
        "        The proposed action by the wrapped strategy\n",
        "        proposed_action = Player.strategy(...)\n",
        "    args, kwargs:\n",
        "        Any additional arguments that you need.\n",
        "\n",
        "    Returns\n",
        "    -------\n",
        "    action: an axelrod.Action, C or D\n",
        "\n",
        "    \"\"\"\n",
        "    if len(player.history) == 0:\n",
        "        random = np.random.rand()\n",
        "        if random < prob:\n",
        "            return C\n",
        "        return D        \n",
        "    return proposed_action"
      ],
      "execution_count": 7,
      "outputs": []
    },
    {
      "cell_type": "code",
      "metadata": {
        "id": "0wrGv6rxxxt0"
      },
      "source": [
        "# China's probability p of cooperate is 0.33 so the parameter prob is set to 0.33\n",
        "\n",
        "def strategy_wrapper_china(player, opponent, proposed_action, prob=0.33,*args, **kwargs):\n",
        "    \"\"\"\n",
        "    Strategy wrapper functions should be of the following form.\n",
        "\n",
        "    Parameters\n",
        "    ----------\n",
        "    player: Player object or subclass (self)\n",
        "    opponent: Player object or subclass\n",
        "    proposed_action: an axelrod.Action, C or D\n",
        "        The proposed action by the wrapped strategy\n",
        "        proposed_action = Player.strategy(...)\n",
        "    args, kwargs:\n",
        "        Any additional arguments that you need.\n",
        "\n",
        "    Returns\n",
        "    -------\n",
        "    action: an axelrod.Action, C or D\n",
        "\n",
        "    \"\"\"\n",
        "    if len(player.history) == 0:\n",
        "        random = np.random.rand()\n",
        "        if random < prob:\n",
        "            return C\n",
        "        return D        \n",
        "    return proposed_action"
      ],
      "execution_count": 8,
      "outputs": []
    },
    {
      "cell_type": "markdown",
      "metadata": {
        "id": "L1JZxniqxxt0"
      },
      "source": [
        "_____________________________________________________________________"
      ]
    },
    {
      "cell_type": "markdown",
      "metadata": {
        "id": "u-Z2lqZxxxt1"
      },
      "source": [
        "# Define the game\r\n",
        "\r\n",
        "* We can now create our game and set the utilities for each strategy profile"
      ]
    },
    {
      "cell_type": "code",
      "metadata": {
        "colab": {
          "base_uri": "https://localhost:8080/"
        },
        "id": "ia6cAjKZxxt1",
        "outputId": "eda58b0e-4ba2-4fab-8009-32a60ee23e6c"
      },
      "source": [
        "# creating the game\n",
        "foreign_policy = AsymmetricGame(r=3, p=1, s=0, t=1,r2=2, p2=1, s2=0, t2=1)\n",
        "print(\"Utilities: (C,c), (D,d), (C,d), (D,c): \", foreign_policy.RPST())\n"
      ],
      "execution_count": 9,
      "outputs": [
        {
          "output_type": "stream",
          "text": [
            "Utilities: (C,c), (D,d), (C,d), (D,c):  ((3, 2), (1, 1), (0, 1), (1, 0))\n"
          ],
          "name": "stdout"
        }
      ]
    },
    {
      "cell_type": "markdown",
      "metadata": {
        "id": "R_5Q-erfxxt1"
      },
      "source": [
        "# Define players\r\n",
        "* Axelrod already has some pre-existing strategies that we can import\r\n",
        "* We can transform those strategies to tailor them according to our MSNE"
      ]
    },
    {
      "cell_type": "code",
      "metadata": {
        "id": "KEk5W3NYMPnr"
      },
      "source": [
        "from axelrod.strategy_transformers import *"
      ],
      "execution_count": 10,
      "outputs": []
    },
    {
      "cell_type": "code",
      "metadata": {
        "id": "xEJKsnsnxxt1"
      },
      "source": [
        "# transformed strategies (each strategy is a class)\n",
        "# we need to make a new class for each transformed strategy\n",
        "\n",
        "TransformedClassUK = StrategyTransformerFactory(strategy_wrapper_uk, name_prefix=\"UK\")() \n",
        "\n",
        "TransformedClassChina = StrategyTransformerFactory(strategy_wrapper_china, name_prefix=\"China\")() \n",
        "\n",
        "# modifying the tit-for-tat strategy\n",
        "china_msne_tft = TransformedClassChina(axl.TitForTat) # will cooperate with probability 0.5 in first round only, then tit-for-tat\n",
        "uk_msne_tft = TransformedClassUK(axl.TitForTat) # will cooperate with probability 0.33 in first round only, then tit-for-tat"
      ],
      "execution_count": 11,
      "outputs": []
    },
    {
      "cell_type": "code",
      "metadata": {
        "id": "mi4B-T9nxxt1"
      },
      "source": [
        "# other UK strategies (see table in assignment)\n",
        "\n",
        "# MSNE\n",
        "uk_msne = axl.Random(p=0.5)\n",
        "\n",
        "# C-TFT\n",
        "uk_coop_tft = axl.TitForTat()\n",
        "\n",
        "# D-TFT\n",
        "uk_def_tft = InitialTransformer([D])(axl.TitForTat)()\n",
        "\n",
        "#C\n",
        "uk_coop = axl.Cooperator()\n",
        "\n",
        "#D\n",
        "uk_def = axl.Defector()"
      ],
      "execution_count": 12,
      "outputs": []
    },
    {
      "cell_type": "markdown",
      "metadata": {
        "id": "78TlmRa9xxt2"
      },
      "source": [
        "---\r\n",
        "# Playing the game"
      ]
    },
    {
      "cell_type": "code",
      "metadata": {
        "colab": {
          "base_uri": "https://localhost:8080/"
        },
        "id": "g_McKH3fxxt2",
        "outputId": "ed914ffc-4f1a-4c53-8ce9-e6c49b452cde"
      },
      "source": [
        "# test run: 50 rounds using our defined payoffs\n",
        "# UK always playes using MSNE, China plays with MSNE on first round then tit-for-tat\n",
        "\n",
        "players = [uk_msne, china_msne_tft()]\n",
        "\n",
        "match = axl.Match(players, 50, game=foreign_policy)\n",
        "match.play()\n",
        "match.scores()"
      ],
      "execution_count": 13,
      "outputs": [
        {
          "output_type": "execute_result",
          "data": {
            "text/plain": [
              "[(0, 1),\n",
              " (1, 0),\n",
              " (0, 1),\n",
              " (3, 2),\n",
              " (3, 2),\n",
              " (3, 2),\n",
              " (1, 0),\n",
              " (1, 1),\n",
              " (1, 1),\n",
              " (1, 1),\n",
              " (1, 1),\n",
              " (0, 1),\n",
              " (3, 2),\n",
              " (3, 2),\n",
              " (3, 2),\n",
              " (1, 0),\n",
              " (0, 1),\n",
              " (1, 0),\n",
              " (0, 1),\n",
              " (3, 2),\n",
              " (3, 2),\n",
              " (1, 0),\n",
              " (1, 1),\n",
              " (0, 1),\n",
              " (3, 2),\n",
              " (3, 2),\n",
              " (1, 0),\n",
              " (1, 1),\n",
              " (1, 1),\n",
              " (0, 1),\n",
              " (3, 2),\n",
              " (1, 0),\n",
              " (0, 1),\n",
              " (3, 2),\n",
              " (3, 2),\n",
              " (3, 2),\n",
              " (3, 2),\n",
              " (3, 2),\n",
              " (3, 2),\n",
              " (3, 2),\n",
              " (3, 2),\n",
              " (3, 2),\n",
              " (3, 2),\n",
              " (3, 2),\n",
              " (1, 0),\n",
              " (1, 1),\n",
              " (1, 1),\n",
              " (1, 1),\n",
              " (1, 1),\n",
              " (0, 1)]"
            ]
          },
          "metadata": {
            "tags": []
          },
          "execution_count": 13
        }
      ]
    },
    {
      "cell_type": "markdown",
      "metadata": {
        "id": "_kayRg8D-DqL"
      },
      "source": [
        "Above we can see the scores for each player (UK, China) for each round"
      ]
    },
    {
      "cell_type": "markdown",
      "metadata": {
        "id": "ZB0xkmdi-KSI"
      },
      "source": [
        "Now we start comparing the UK strategies\r\n",
        "\r\n",
        "* each game will have 100 rounds, and the final score is the sum of the scores of each round\r\n",
        "* we then take the average of the final score for 100 repeated games to account for variability\r\n"
      ]
    },
    {
      "cell_type": "code",
      "metadata": {
        "id": "8xMXN0hNWKX_"
      },
      "source": [
        "# making a function to iterate the game\r\n",
        "from statistics import mean\r\n",
        "\r\n",
        "def iterate(n_rounds, players, noise=0.2):\r\n",
        "  avg_self_coops = []\r\n",
        "  avg_opp_coops = []\r\n",
        "  avg_self_final_scores = []\r\n",
        "  avg_opponent_final_scores = []\r\n",
        "\r\n",
        "  for i in range(1,n_rounds+1):\r\n",
        "      self_coops = []\r\n",
        "      opp_coops = []\r\n",
        "      self_final_scores = []\r\n",
        "      opponent_final_scores = []\r\n",
        "      winner = []\r\n",
        "      for j in range(1,101):\r\n",
        "          \r\n",
        "          match = axl.Match(players, i, game=foreign_policy, noise=noise)\r\n",
        "          match.play()\r\n",
        "          self_final_scores.append(match.final_score()[0])\r\n",
        "          opponent_final_scores.append(match.final_score()[1])\r\n",
        "          self_coops.append(match.cooperation()[0])\r\n",
        "          opp_coops.append(match.cooperation()[1])\r\n",
        "\r\n",
        "      #finding the averages for 100 games\r\n",
        "      avg_self_final_scores.append(mean(self_final_scores))\r\n",
        "      avg_opponent_final_scores.append(mean(opponent_final_scores))\r\n",
        "      avg_self_coops.append(mean(self_coops))\r\n",
        "      avg_opp_coops.append(mean(opp_coops))\r\n",
        "\r\n",
        "  return avg_self_coops, avg_opp_coops, avg_self_final_scores, avg_opponent_final_scores"
      ],
      "execution_count": 14,
      "outputs": []
    },
    {
      "cell_type": "code",
      "metadata": {
        "id": "UpOdj64jWYGP"
      },
      "source": [
        "# making a function to print stats\r\n",
        "def stats(n_rounds, avg_self_coops, avg_opp_coops, avg_self_final_scores, avg_opponent_final_scores):\r\n",
        "  x=[x for x in range(1,51)]\r\n",
        "\r\n",
        "  plt.figure(figsize=(20,5))\r\n",
        "  plt.plot(x, avg_self_final_scores, label = \"UK final utility\")\r\n",
        "  plt.plot(x, avg_opponent_final_scores, label = \"China final utility\")\r\n",
        "\r\n",
        "  plt.xlabel(\"Number of rounds in game\")\r\n",
        "  plt.ylabel(\"Average final utility (100 games)\")\r\n",
        "  plt.legend()\r\n",
        "  plt.show()\r\n",
        "\r\n",
        "  # print stats\r\n",
        "  for i in range(0,n_rounds):\r\n",
        "      print((i+1), \"avg # coops\", avg_self_coops[i], avg_opp_coops[i], \"avg final scores self, opp: \", avg_self_final_scores[i], avg_opponent_final_scores[i])"
      ],
      "execution_count": 15,
      "outputs": []
    },
    {
      "cell_type": "markdown",
      "metadata": {
        "id": "jhtAbQE0-m5l"
      },
      "source": [
        "## UK plays MSNE"
      ]
    },
    {
      "cell_type": "code",
      "metadata": {
        "colab": {
          "base_uri": "https://localhost:8080/",
          "height": 1000
        },
        "id": "ZMfnD98Wxxt2",
        "outputId": "62760bf6-e3f3-44bc-c0cb-19bd131ea9f6"
      },
      "source": [
        "# uk plays msne probability, china plays with msne prob then tit for tat\n",
        "\n",
        "\n",
        "players = [uk_msne, china_msne_tft()]\n",
        "\n",
        "\n",
        "# we will play games with one round, then two rounds,..., up to 50 rounds\n",
        "# final utility per game is sum of utility in all rounds\n",
        "\n",
        "avg_self_coops, avg_opp_coops, avg_self_final_scores, avg_opponent_final_scores = iterate(50, players)\n",
        "\n",
        "\n",
        "# plot figure\n",
        "stats(50, avg_self_coops, avg_opp_coops, avg_self_final_scores, avg_opponent_final_scores)"
      ],
      "execution_count": 16,
      "outputs": [
        {
          "output_type": "display_data",
          "data": {
            "image/png": "[encoded data removed]",
            "text/plain": [
              "<Figure size 1440x360 with 1 Axes>"
            ]
          },
          "metadata": {
            "tags": [],
            "needs_background": "light"
          }
        },
        {
          "output_type": "stream",
          "text": [
            "1 avg # coops 0.48 0.31 avg final scores self, opp:  1.06 1.05\n",
            "2 avg # coops 0.95 0.9 avg final scores self, opp:  2.28 1.92\n",
            "3 avg # coops 1.41 1.28 avg final scores self, opp:  3.54 3.02\n",
            "4 avg # coops 1.88 1.76 avg final scores self, opp:  4.58 3.88\n",
            "5 avg # coops 2.47 2.52 avg final scores self, opp:  6.19 4.92\n",
            "6 avg # coops 2.87 2.88 avg final scores self, opp:  7.33 5.92\n",
            "7 avg # coops 3.52 3.28 avg final scores self, opp:  8.22 6.88\n",
            "8 avg # coops 3.98 3.96 avg final scores self, opp:  9.75 7.86\n",
            "9 avg # coops 4.51 4.34 avg final scores self, opp:  11.39 9.26\n",
            "10 avg # coops 4.97 4.83 avg final scores self, opp:  11.93 9.77\n",
            "11 avg # coops 5.62 5.55 avg final scores self, opp:  13.75 11.03\n",
            "12 avg # coops 6 6.08 avg final scores self, opp:  15.42 12.2\n",
            "13 avg # coops 6.55 6.51 avg final scores self, opp:  16.11 12.93\n",
            "14 avg # coops 7.11 7.01 avg final scores self, opp:  17.24 13.89\n",
            "15 avg # coops 7.34 7.27 avg final scores self, opp:  18.22 14.77\n",
            "16 avg # coops 7.99 8.08 avg final scores self, opp:  19.92 15.86\n",
            "17 avg # coops 8.28 8.34 avg final scores self, opp:  20.93 16.8\n",
            "18 avg # coops 9.02 9.08 avg final scores self, opp:  22.81 18.14\n",
            "19 avg # coops 9.48 9.77 avg final scores self, opp:  24.46 19.19\n",
            "20 avg # coops 9.54 9.86 avg final scores self, opp:  24.74 19.66\n",
            "21 avg # coops 10.67 10.63 avg final scores self, opp:  26.02 20.83\n",
            "22 avg # coops 10.91 10.65 avg final scores self, opp:  26.57 21.67\n",
            "23 avg # coops 11.13 10.92 avg final scores self, opp:  27.41 22.44\n",
            "24 avg # coops 11.97 11.97 avg final scores self, opp:  30.03 24.03\n",
            "25 avg # coops 12.29 12.16 avg final scores self, opp:  31.01 25.04\n",
            "26 avg # coops 13.09 12.89 avg final scores self, opp:  32.68 26.29\n",
            "27 avg # coops 13.7 13.33 avg final scores self, opp:  33.13 26.89\n",
            "28 avg # coops 13.76 13.47 avg final scores self, opp:  34.16 27.81\n",
            "29 avg # coops 14.34 14.22 avg final scores self, opp:  36.08 29.06\n",
            "30 avg # coops 14.62 14.66 avg final scores self, opp:  37.04 29.78\n",
            "31 avg # coops 15.82 15.72 avg final scores self, opp:  39.63 31.58\n",
            "32 avg # coops 15.86 16.16 avg final scores self, opp:  40.2 31.88\n",
            "33 avg # coops 16.37 16.57 avg final scores self, opp:  41.23 32.83\n",
            "34 avg # coops 17.05 16.68 avg final scores self, opp:  42.21 34.16\n",
            "35 avg # coops 18.19 18.2 avg final scores self, opp:  44.95 35.56\n",
            "36 avg # coops 18.3 17.78 avg final scores self, opp:  44.73 36.24\n",
            "37 avg # coops 18.54 17.95 avg final scores self, opp:  45.82 37.29\n",
            "38 avg # coops 19.11 19.05 avg final scores self, opp:  47 37.69\n",
            "39 avg # coops 19.56 19.68 avg final scores self, opp:  48.33 38.58\n",
            "40 avg # coops 19.39 19.48 avg final scores self, opp:  48.12 38.86\n",
            "41 avg # coops 20.66 20.45 avg final scores self, opp:  50.97 40.97\n",
            "42 avg # coops 20.71 20.88 avg final scores self, opp:  52.79 42.12\n",
            "43 avg # coops 21.78 21.48 avg final scores self, opp:  53.2 42.84\n",
            "44 avg # coops 22.31 22.21 avg final scores self, opp:  55.56 44.37\n",
            "45 avg # coops 22.35 22.35 avg final scores self, opp:  55.77 44.73\n",
            "46 avg # coops 23.74 23.13 avg final scores self, opp:  57.36 46.27\n",
            "47 avg # coops 23.76 23.89 avg final scores self, opp:  58.67 46.73\n",
            "48 avg # coops 23.78 23.68 avg final scores self, opp:  60.28 48.36\n",
            "49 avg # coops 24.42 24.42 avg final scores self, opp:  61.21 49\n",
            "50 avg # coops 24.36 24.56 avg final scores self, opp:  60.74 48.84\n"
          ],
          "name": "stdout"
        }
      ]
    },
    {
      "cell_type": "code",
      "metadata": {
        "id": "OenC4BFoRRtr"
      },
      "source": [
        "msne_scores = avg_self_final_scores"
      ],
      "execution_count": 17,
      "outputs": []
    },
    {
      "cell_type": "code",
      "metadata": {
        "colab": {
          "base_uri": "https://localhost:8080/"
        },
        "id": "MObhZFMZ-2FR",
        "outputId": "ec96cd0c-862b-4ff5-d9e7-b6f9a12c737f"
      },
      "source": [
        "print(\"UK, China average score for 50 rounds: \", avg_self_final_scores[-1], \",\", avg_opponent_final_scores[-1])"
      ],
      "execution_count": 18,
      "outputs": [
        {
          "output_type": "stream",
          "text": [
            "UK, China average score for 50 rounds:  60.74 , 48.84\n"
          ],
          "name": "stdout"
        }
      ]
    },
    {
      "cell_type": "markdown",
      "metadata": {
        "id": "C16Eu-FS_k5B"
      },
      "source": [
        "---\r\n",
        "## UK plays MSNE-TFT\r\n",
        "\r\n",
        "For all strategies below we reuse the same code as above but with different player (strategies)"
      ]
    },
    {
      "cell_type": "code",
      "metadata": {
        "colab": {
          "base_uri": "https://localhost:8080/",
          "height": 1000
        },
        "id": "QNSq0TBexxt3",
        "outputId": "8cde8cc9-1e14-4ec6-a82d-bebed50c1d8c"
      },
      "source": [
        "# uk plays msne then tft, china plays with msne prob then tit for tat\n",
        "\n",
        "players = [uk_msne_tft(), china_msne_tft()]\n",
        "\n",
        "avg_self_coops, avg_opp_coops, avg_self_final_scores, avg_opponent_final_scores = iterate(50, players)\n",
        "\n",
        "\n",
        "# plot figure\n",
        "stats(50, avg_self_coops, avg_opp_coops, avg_self_final_scores, avg_opponent_final_scores)"
      ],
      "execution_count": 19,
      "outputs": [
        {
          "output_type": "display_data",
          "data": {
            "image/png": "[encoded data removed]",
            "text/plain": [
              "<Figure size 1440x360 with 1 Axes>"
            ]
          },
          "metadata": {
            "tags": [],
            "needs_background": "light"
          }
        },
        {
          "output_type": "stream",
          "text": [
            "1 avg # coops 0.45 0.52 avg final scores self, opp:  1.39 1.04\n",
            "2 avg # coops 1.04 0.92 avg final scores self, opp:  2.13 1.86\n",
            "3 avg # coops 1.46 1.32 avg final scores self, opp:  3.37 2.9\n",
            "4 avg # coops 1.75 1.78 avg final scores self, opp:  4.08 3.44\n",
            "5 avg # coops 2.45 2.36 avg final scores self, opp:  5.85 4.84\n",
            "6 avg # coops 2.78 2.79 avg final scores self, opp:  7.03 5.75\n",
            "7 avg # coops 3.23 2.96 avg final scores self, opp:  8.15 6.96\n",
            "8 avg # coops 3.8 3.66 avg final scores self, opp:  9.57 7.92\n",
            "9 avg # coops 3.98 4.09 avg final scores self, opp:  10.51 8.57\n",
            "10 avg # coops 4.77 4.82 avg final scores self, opp:  12.04 9.72\n",
            "11 avg # coops 5.44 5.26 avg final scores self, opp:  13.6 11.1\n",
            "12 avg # coops 5.83 5.84 avg final scores self, opp:  15.26 12.22\n",
            "13 avg # coops 6.74 6.55 avg final scores self, opp:  16.28 13.13\n",
            "14 avg # coops 6.8 6.78 avg final scores self, opp:  17.25 13.92\n",
            "15 avg # coops 7.82 7.72 avg final scores self, opp:  19.27 15.34\n",
            "16 avg # coops 8.68 8.48 avg final scores self, opp:  21.3 16.84\n",
            "17 avg # coops 8.97 8.68 avg final scores self, opp:  21.11 17.04\n",
            "18 avg # coops 8.84 8.73 avg final scores self, opp:  22.27 18.01\n",
            "19 avg # coops 9.06 9.19 avg final scores self, opp:  23.08 18.57\n",
            "20 avg # coops 9.44 9.72 avg final scores self, opp:  24.3 19.44\n",
            "21 avg # coops 10.13 10.09 avg final scores self, opp:  25.27 20.51\n",
            "22 avg # coops 10.8 10.88 avg final scores self, opp:  27.46 21.96\n",
            "23 avg # coops 11.61 11.29 avg final scores self, opp:  28.97 23.43\n",
            "24 avg # coops 12.16 12.1 avg final scores self, opp:  31.04 24.7\n",
            "25 avg # coops 12.44 12.45 avg final scores self, opp:  31.1 24.91\n",
            "26 avg # coops 13.39 12.83 avg final scores self, opp:  32.56 26.47\n",
            "27 avg # coops 13.33 13.07 avg final scores self, opp:  32.69 26.61\n",
            "28 avg # coops 14.01 14.31 avg final scores self, opp:  34.93 27.65\n",
            "29 avg # coops 13.76 13.84 avg final scores self, opp:  35.58 28.72\n",
            "30 avg # coops 15.06 15.26 avg final scores self, opp:  38.64 30.54\n",
            "31 avg # coops 15.69 15.84 avg final scores self, opp:  39.67 31.4\n",
            "32 avg # coops 15.88 15.85 avg final scores self, opp:  39.58 31.79\n",
            "33 avg # coops 15.59 15.86 avg final scores self, opp:  39.52 31.88\n",
            "34 avg # coops 16.7 16.51 avg final scores self, opp:  42.08 34.01\n",
            "35 avg # coops 17.36 17.65 avg final scores self, opp:  43.08 34.31\n",
            "36 avg # coops 16.97 16.96 avg final scores self, opp:  44.11 35.76\n",
            "37 avg # coops 18.57 18.77 avg final scores self, opp:  45.25 36.11\n",
            "38 avg # coops 18.52 18.55 avg final scores self, opp:  47.11 37.87\n",
            "39 avg # coops 19.12 19.08 avg final scores self, opp:  48.41 38.94\n",
            "40 avg # coops 18.81 19.04 avg final scores self, opp:  47.98 38.82\n",
            "41 avg # coops 20.81 20.83 avg final scores self, opp:  51.06 40.75\n",
            "42 avg # coops 20.6 20.17 avg final scores self, opp:  50.68 41.35\n",
            "43 avg # coops 20.74 20.46 avg final scores self, opp:  51 41.7\n",
            "44 avg # coops 22.21 22.35 avg final scores self, opp:  55.12 43.87\n",
            "45 avg # coops 21.84 21.62 avg final scores self, opp:  54.75 44.44\n",
            "46 avg # coops 23.16 23.93 avg final scores self, opp:  60.07 46.89\n",
            "47 avg # coops 23.25 23.12 avg final scores self, opp:  58.64 47.14\n",
            "48 avg # coops 23.09 22.92 avg final scores self, opp:  57.04 46.5\n",
            "49 avg # coops 23.84 23.87 avg final scores self, opp:  59.87 48.27\n",
            "50 avg # coops 24.15 24.2 avg final scores self, opp:  59.57 48.28\n"
          ],
          "name": "stdout"
        }
      ]
    },
    {
      "cell_type": "code",
      "metadata": {
        "id": "TovN5sWnRUTi"
      },
      "source": [
        "msne_tft_scores = avg_self_final_scores"
      ],
      "execution_count": 20,
      "outputs": []
    },
    {
      "cell_type": "code",
      "metadata": {
        "colab": {
          "base_uri": "https://localhost:8080/"
        },
        "id": "l0qxZTvm_4Q5",
        "outputId": "75063d26-4aaa-4d9d-c19e-204bb77d6275"
      },
      "source": [
        "print(\"UK, China average score for 50 rounds: \", avg_self_final_scores[-1], \",\", avg_opponent_final_scores[-1])"
      ],
      "execution_count": 21,
      "outputs": [
        {
          "output_type": "stream",
          "text": [
            "UK, China average score for 50 rounds:  59.57 , 48.28\n"
          ],
          "name": "stdout"
        }
      ]
    },
    {
      "cell_type": "markdown",
      "metadata": {
        "id": "eVYAWmLe_8ZV"
      },
      "source": [
        "---\r\n",
        "## UK plays D-TFT"
      ]
    },
    {
      "cell_type": "code",
      "metadata": {
        "colab": {
          "base_uri": "https://localhost:8080/",
          "height": 1000
        },
        "id": "rLh_3CXIxxt4",
        "outputId": "2cb8a129-da25-478c-e10b-b24fd67429d4"
      },
      "source": [
        "# uk plays defect then tft, china plays with msne prob then tit for tat\n",
        "\n",
        "players = [uk_def_tft, china_msne_tft()]\n",
        "\n",
        "avg_self_coops, avg_opp_coops, avg_self_final_scores, avg_opponent_final_scores = iterate(50, players)\n",
        "\n",
        "\n",
        "# plot figure\n",
        "stats(50, avg_self_coops, avg_opp_coops, avg_self_final_scores, avg_opponent_final_scores)"
      ],
      "execution_count": 22,
      "outputs": [
        {
          "output_type": "display_data",
          "data": {
            "image/png": "[encoded data removed]",
            "text/plain": [
              "<Figure size 1440x360 with 1 Axes>"
            ]
          },
          "metadata": {
            "tags": [],
            "needs_background": "light"
          }
        },
        {
          "output_type": "stream",
          "text": [
            "1 avg # coops 0.29 0.43 avg final scores self, opp:  1.1 0.83\n",
            "2 avg # coops 0.61 0.78 avg final scores self, opp:  2.26 1.8\n",
            "3 avg # coops 1.06 1.3 avg final scores self, opp:  3.44 2.7\n",
            "4 avg # coops 1.52 1.54 avg final scores self, opp:  4.22 3.62\n",
            "5 avg # coops 2.07 2.27 avg final scores self, opp:  5.93 4.73\n",
            "6 avg # coops 2.36 2.61 avg final scores self, opp:  6.79 5.49\n",
            "7 avg # coops 2.95 3.11 avg final scores self, opp:  8.64 6.95\n",
            "8 avg # coops 3.57 3.65 avg final scores self, opp:  8.78 7.25\n",
            "9 avg # coops 4 4.21 avg final scores self, opp:  10.46 8.43\n",
            "10 avg # coops 4.67 4.75 avg final scores self, opp:  12.26 9.87\n",
            "11 avg # coops 4.7 5 avg final scores self, opp:  13.2 10.6\n",
            "12 avg # coops 5.76 5.92 avg final scores self, opp:  14.49 11.58\n",
            "13 avg # coops 5.74 5.99 avg final scores self, opp:  15.09 12.23\n",
            "14 avg # coops 6.3 6.58 avg final scores self, opp:  16.07 13\n",
            "15 avg # coops 7.12 7.31 avg final scores self, opp:  18.56 14.81\n",
            "16 avg # coops 7.13 7.29 avg final scores self, opp:  18.74 15.29\n",
            "17 avg # coops 7.87 7.85 avg final scores self, opp:  19.9 16.33\n",
            "18 avg # coops 8.51 8.59 avg final scores self, opp:  21.61 17.49\n",
            "19 avg # coops 9.18 9.33 avg final scores self, opp:  22.48 18.11\n",
            "20 avg # coops 9.7 9.73 avg final scores self, opp:  24.16 19.51\n",
            "21 avg # coops 9.93 10 avg final scores self, opp:  25.02 20.3\n",
            "22 avg # coops 10.88 11.19 avg final scores self, opp:  27.71 21.87\n",
            "23 avg # coops 10.76 10.79 avg final scores self, opp:  27.54 22.41\n",
            "24 avg # coops 11.38 11.47 avg final scores self, opp:  28.43 23.07\n",
            "25 avg # coops 12.13 12.15 avg final scores self, opp:  30.84 24.83\n",
            "26 avg # coops 12.65 13 avg final scores self, opp:  32.79 25.96\n",
            "27 avg # coops 13.1 13.18 avg final scores self, opp:  34 27.22\n",
            "28 avg # coops 13.34 13.52 avg final scores self, opp:  32.99 26.7\n",
            "29 avg # coops 13.71 13.77 avg final scores self, opp:  35.06 28.41\n",
            "30 avg # coops 14.65 14.63 avg final scores self, opp:  36.38 29.39\n",
            "31 avg # coops 14.72 14.72 avg final scores self, opp:  37.43 30.38\n",
            "32 avg # coops 15.33 15.72 avg final scores self, opp:  39.68 31.62\n",
            "33 avg # coops 16.7 16.66 avg final scores self, opp:  42.31 33.68\n",
            "34 avg # coops 16.43 16.69 avg final scores self, opp:  42.2 33.73\n",
            "35 avg # coops 16.65 16.63 avg final scores self, opp:  42.26 34.31\n",
            "36 avg # coops 17.61 17.59 avg final scores self, opp:  43.77 35.33\n",
            "37 avg # coops 17.48 18.04 avg final scores self, opp:  46.25 36.78\n",
            "38 avg # coops 18.71 18.91 avg final scores self, opp:  46.56 37.27\n",
            "39 avg # coops 18.89 19.08 avg final scores self, opp:  48.13 38.6\n",
            "40 avg # coops 20.04 20.56 avg final scores self, opp:  51.28 40.32\n",
            "41 avg # coops 20.21 20.43 avg final scores self, opp:  51.27 40.89\n",
            "42 avg # coops 20.12 20.07 avg final scores self, opp:  50.2 40.81\n",
            "43 avg # coops 20.24 20.19 avg final scores self, opp:  52.31 42.51\n",
            "44 avg # coops 21.12 21.48 avg final scores self, opp:  52.85 42.5\n",
            "45 avg # coops 21.75 22.09 avg final scores self, opp:  57.24 45.57\n",
            "46 avg # coops 22.26 22.05 avg final scores self, opp:  56.92 46.07\n",
            "47 avg # coops 22 22.35 avg final scores self, opp:  56.86 45.89\n",
            "48 avg # coops 23.43 23.53 avg final scores self, opp:  58.68 47.21\n",
            "49 avg # coops 23.44 23.68 avg final scores self, opp:  60.33 48.5\n",
            "50 avg # coops 24.72 25.3 avg final scores self, opp:  62.63 49.6\n"
          ],
          "name": "stdout"
        }
      ]
    },
    {
      "cell_type": "code",
      "metadata": {
        "id": "iQzArgGERdrm"
      },
      "source": [
        "def_tft_scores = avg_self_final_scores"
      ],
      "execution_count": 23,
      "outputs": []
    },
    {
      "cell_type": "code",
      "metadata": {
        "colab": {
          "base_uri": "https://localhost:8080/"
        },
        "id": "lGK0IdrPAa52",
        "outputId": "67a5a95b-4beb-4bcd-8f6b-60185b95ba7c"
      },
      "source": [
        "print(\"UK, China average score for 50 rounds: \", avg_self_final_scores[-1], \",\", avg_opponent_final_scores[-1])"
      ],
      "execution_count": 24,
      "outputs": [
        {
          "output_type": "stream",
          "text": [
            "UK, China average score for 50 rounds:  62.63 , 49.6\n"
          ],
          "name": "stdout"
        }
      ]
    },
    {
      "cell_type": "markdown",
      "metadata": {
        "id": "cZ64kqzuAnAH"
      },
      "source": [
        "---\r\n",
        "## UK plays C-TFT"
      ]
    },
    {
      "cell_type": "code",
      "metadata": {
        "colab": {
          "base_uri": "https://localhost:8080/",
          "height": 1000
        },
        "id": "UX1cYMOlxxt5",
        "outputId": "54b95b59-4991-4f36-9a08-e82a0afbfe1b"
      },
      "source": [
        "# uk plays cooperate then tit for tat, china plays with msne prob then tit for tat\n",
        "\n",
        "players = [uk_coop_tft, china_msne_tft()]\n",
        "\n",
        "avg_self_coops, avg_opp_coops, avg_self_final_scores, avg_opponent_final_scores = iterate(50, players)\n",
        "\n",
        "\n",
        "# plot figure\n",
        "stats(50, avg_self_coops, avg_opp_coops, avg_self_final_scores, avg_opponent_final_scores)"
      ],
      "execution_count": 25,
      "outputs": [
        {
          "output_type": "display_data",
          "data": {
            "image/png": "[encoded data removed]",
            "text/plain": [
              "<Figure size 1440x360 with 1 Axes>"
            ]
          },
          "metadata": {
            "tags": [],
            "needs_background": "light"
          }
        },
        {
          "output_type": "stream",
          "text": [
            "1 avg # coops 0.8 0.4 avg final scores self, opp:  1.1 1.2\n",
            "2 avg # coops 1.15 1.05 avg final scores self, opp:  2.17 1.83\n",
            "3 avg # coops 1.82 1.46 avg final scores self, opp:  3.64 3.18\n",
            "4 avg # coops 2.38 2.17 avg final scores self, opp:  5.28 4.27\n",
            "5 avg # coops 2.76 2.45 avg final scores self, opp:  6.68 5.51\n",
            "6 avg # coops 3.07 2.67 avg final scores self, opp:  6.56 5.75\n",
            "7 avg # coops 3.83 3.53 avg final scores self, opp:  8.51 7.03\n",
            "8 avg # coops 4.46 4.28 avg final scores self, opp:  10.62 8.44\n",
            "9 avg # coops 4.85 4.55 avg final scores self, opp:  11.29 9.21\n",
            "10 avg # coops 5.5 5.17 avg final scores self, opp:  13.86 11.07\n",
            "11 avg # coops 5.78 5.59 avg final scores self, opp:  13.62 11.01\n",
            "12 avg # coops 5.75 5.64 avg final scores self, opp:  14.44 11.82\n",
            "13 avg # coops 7.12 6.79 avg final scores self, opp:  16.26 13.13\n",
            "14 avg # coops 6.92 6.71 avg final scores self, opp:  16.89 13.83\n",
            "15 avg # coops 7.88 7.72 avg final scores self, opp:  19.06 15.24\n",
            "16 avg # coops 8.67 8.47 avg final scores self, opp:  20.59 16.37\n",
            "17 avg # coops 8.76 8.52 avg final scores self, opp:  22.64 18.08\n",
            "18 avg # coops 9.93 9.62 avg final scores self, opp:  22.92 18.28\n",
            "19 avg # coops 10 9.94 avg final scores self, opp:  24.6 19.46\n",
            "20 avg # coops 10.65 10.12 avg final scores self, opp:  26.48 21.3\n",
            "21 avg # coops 10.43 10.12 avg final scores self, opp:  24.97 20.48\n",
            "22 avg # coops 11.49 11.24 avg final scores self, opp:  28.63 22.84\n",
            "23 avg # coops 12.34 12.37 avg final scores self, opp:  30.01 23.53\n",
            "24 avg # coops 12.09 11.86 avg final scores self, opp:  28.89 23.46\n",
            "25 avg # coops 12.56 12.66 avg final scores self, opp:  31.1 24.78\n",
            "26 avg # coops 13.26 12.88 avg final scores self, opp:  32.12 26.04\n",
            "27 avg # coops 14.4 14.04 avg final scores self, opp:  34.98 27.88\n",
            "28 avg # coops 14.93 14.77 avg final scores self, opp:  36.41 28.79\n",
            "29 avg # coops 15.07 14.9 avg final scores self, opp:  36.94 29.44\n",
            "30 avg # coops 15.31 15.06 avg final scores self, opp:  37.67 30.26\n",
            "31 avg # coops 16.06 15.85 avg final scores self, opp:  38.1 30.59\n",
            "32 avg # coops 16.53 16.64 avg final scores self, opp:  40.52 32.06\n",
            "33 avg # coops 16.58 16.23 avg final scores self, opp:  39.76 32.33\n",
            "34 avg # coops 16.48 16.13 avg final scores self, opp:  40.92 33.47\n",
            "35 avg # coops 18.18 17.82 avg final scores self, opp:  44.75 35.8\n",
            "36 avg # coops 18.56 18.22 avg final scores self, opp:  45.25 36.32\n",
            "37 avg # coops 18.7 18.32 avg final scores self, opp:  46.08 37.2\n",
            "38 avg # coops 18.77 18.55 avg final scores self, opp:  47.25 38.13\n",
            "39 avg # coops 20.17 20.1 avg final scores self, opp:  50.42 39.96\n",
            "40 avg # coops 20.76 20.48 avg final scores self, opp:  50.44 40.32\n",
            "41 avg # coops 19.92 19.87 avg final scores self, opp:  49.85 40.31\n",
            "42 avg # coops 21.38 21.28 avg final scores self, opp:  53.2 42.44\n",
            "43 avg # coops 21.08 20.79 avg final scores self, opp:  52.01 42.27\n",
            "44 avg # coops 22.16 21.56 avg final scores self, opp:  56.04 45.24\n",
            "45 avg # coops 23.15 23.03 avg final scores self, opp:  56.8 45.27\n",
            "46 avg # coops 23.65 22.85 avg final scores self, opp:  56.34 45.81\n",
            "47 avg # coops 23.92 23.45 avg final scores self, opp:  59.17 47.61\n",
            "48 avg # coops 24.62 24.96 avg final scores self, opp:  62.5 49.12\n",
            "49 avg # coops 25.09 24.73 avg final scores self, opp:  61.41 49.27\n",
            "50 avg # coops 25.79 25.1 avg final scores self, opp:  61.62 49.84\n"
          ],
          "name": "stdout"
        }
      ]
    },
    {
      "cell_type": "code",
      "metadata": {
        "id": "fA3qef_CRhDr"
      },
      "source": [
        "coop_tft_scores = avg_self_final_scores"
      ],
      "execution_count": 26,
      "outputs": []
    },
    {
      "cell_type": "code",
      "metadata": {
        "colab": {
          "base_uri": "https://localhost:8080/"
        },
        "id": "PAvHsnpRBPAV",
        "outputId": "2023567c-726b-4bc9-8026-1eb3a9940c59"
      },
      "source": [
        "print(\"UK, China average score for 50 rounds: \", avg_self_final_scores[-1], \",\", avg_opponent_final_scores[-1])"
      ],
      "execution_count": 27,
      "outputs": [
        {
          "output_type": "stream",
          "text": [
            "UK, China average score for 50 rounds:  61.62 , 49.84\n"
          ],
          "name": "stdout"
        }
      ]
    },
    {
      "cell_type": "markdown",
      "metadata": {
        "id": "hx9dO4pBBQ0J"
      },
      "source": [
        "---\r\n",
        "## UK plays D"
      ]
    },
    {
      "cell_type": "code",
      "metadata": {
        "colab": {
          "base_uri": "https://localhost:8080/",
          "height": 1000
        },
        "id": "jH3k_NiIxxt6",
        "outputId": "4603a315-113a-4e40-9a93-5cb15fb972f0"
      },
      "source": [
        "# uk plays always defect, china plays with msne prob then tit for tat\n",
        "\n",
        "players = [uk_def, china_msne_tft()]\n",
        "\n",
        "avg_self_coops, avg_opp_coops, avg_self_final_scores, avg_opponent_final_scores = iterate(50, players)\n",
        "\n",
        "\n",
        "# plot figure\n",
        "stats(50, avg_self_coops, avg_opp_coops, avg_self_final_scores, avg_opponent_final_scores)"
      ],
      "execution_count": 28,
      "outputs": [
        {
          "output_type": "display_data",
          "data": {
            "image/png": "[encoded data removed]",
            "text/plain": [
              "<Figure size 1440x360 with 1 Axes>"
            ]
          },
          "metadata": {
            "tags": [],
            "needs_background": "light"
          }
        },
        {
          "output_type": "stream",
          "text": [
            "1 avg # coops 0.27 0.35 avg final scores self, opp:  0.94 0.79\n",
            "2 avg # coops 0.43 0.69 avg final scores self, opp:  2.02 1.61\n",
            "3 avg # coops 0.59 0.97 avg final scores self, opp:  2.89 2.35\n",
            "4 avg # coops 0.87 1.35 avg final scores self, opp:  4.21 3.37\n",
            "5 avg # coops 1.05 1.69 avg final scores self, opp:  5.15 4.11\n",
            "6 avg # coops 1.3 2.11 avg final scores self, opp:  6.08 4.81\n",
            "7 avg # coops 1.34 2.23 avg final scores self, opp:  7.07 5.71\n",
            "8 avg # coops 1.55 2.68 avg final scores self, opp:  8.19 6.48\n",
            "9 avg # coops 1.82 2.95 avg final scores self, opp:  9.13 7.35\n",
            "10 avg # coops 1.88 3.33 avg final scores self, opp:  10.16 8.03\n",
            "11 avg # coops 2.19 3.8 avg final scores self, opp:  10.94 8.62\n",
            "12 avg # coops 2.29 4.07 avg final scores self, opp:  12.17 9.57\n",
            "13 avg # coops 2.54 4.21 avg final scores self, opp:  12.83 10.37\n",
            "14 avg # coops 2.75 4.3 avg final scores self, opp:  13.83 11.42\n",
            "15 avg # coops 3.22 4.93 avg final scores self, opp:  14.66 11.99\n",
            "16 avg # coops 3.31 4.84 avg final scores self, opp:  15.42 12.98\n",
            "17 avg # coops 3.48 5.63 avg final scores self, opp:  16.91 13.63\n",
            "18 avg # coops 3.54 6.29 avg final scores self, opp:  18.12 14.15\n",
            "19 avg # coops 3.69 5.8 avg final scores self, opp:  18.85 15.56\n",
            "20 avg # coops 4.15 6.72 avg final scores self, opp:  20.35 16.28\n",
            "21 avg # coops 4.41 7.13 avg final scores self, opp:  21.09 16.87\n",
            "22 avg # coops 4.23 6.98 avg final scores self, opp:  21.7 17.64\n",
            "23 avg # coops 4.67 7.6 avg final scores self, opp:  22.77 18.36\n",
            "24 avg # coops 4.9 8.19 avg final scores self, opp:  24.11 19.15\n",
            "25 avg # coops 4.84 8.1 avg final scores self, opp:  24.96 20.1\n",
            "26 avg # coops 5.56 8.6 avg final scores self, opp:  26.08 21.16\n",
            "27 avg # coops 5.29 8.51 avg final scores self, opp:  26.72 21.83\n",
            "28 avg # coops 5.67 9.03 avg final scores self, opp:  28.21 22.89\n",
            "29 avg # coops 5.91 9.3 avg final scores self, opp:  28.82 23.52\n",
            "30 avg # coops 6.06 9.51 avg final scores self, opp:  29.34 24.09\n",
            "31 avg # coops 6.06 10.17 avg final scores self, opp:  31.66 25.31\n",
            "32 avg # coops 6.83 10.61 avg final scores self, opp:  31.41 25.55\n",
            "33 avg # coops 6.64 10.92 avg final scores self, opp:  32.99 26.5\n",
            "34 avg # coops 6.91 11.14 avg final scores self, opp:  34.05 27.5\n",
            "35 avg # coops 6.76 11.38 avg final scores self, opp:  35.11 28.2\n",
            "36 avg # coops 6.99 11.45 avg final scores self, opp:  35.91 29.15\n",
            "37 avg # coops 7.44 11.55 avg final scores self, opp:  36.31 29.95\n",
            "38 avg # coops 7.65 12.43 avg final scores self, opp:  37.91 30.61\n",
            "39 avg # coops 8.34 12.99 avg final scores self, opp:  39.51 31.91\n",
            "40 avg # coops 8.22 13 avg final scores self, opp:  39.82 32.36\n",
            "41 avg # coops 8.05 13.03 avg final scores self, opp:  41.08 33.39\n",
            "42 avg # coops 8.37 13.8 avg final scores self, opp:  41.19 33.24\n",
            "43 avg # coops 8.69 13.67 avg final scores self, opp:  43.28 35.31\n",
            "44 avg # coops 9.3 14.34 avg final scores self, opp:  43.7 35.66\n",
            "45 avg # coops 8.74 14.01 avg final scores self, opp:  44.15 36.25\n",
            "46 avg # coops 9.19 14.78 avg final scores self, opp:  45.96 37.32\n",
            "47 avg # coops 9.64 15.47 avg final scores self, opp:  46.69 37.75\n",
            "48 avg # coops 9.17 15.45 avg final scores self, opp:  47.68 38.45\n",
            "49 avg # coops 9.57 15.77 avg final scores self, opp:  48.76 39.45\n",
            "50 avg # coops 9.49 15.97 avg final scores self, opp:  50.05 40.39\n"
          ],
          "name": "stdout"
        }
      ]
    },
    {
      "cell_type": "code",
      "metadata": {
        "id": "Yo17XBSAP0ad"
      },
      "source": [
        "def_scores = avg_self_final_scores"
      ],
      "execution_count": 29,
      "outputs": []
    },
    {
      "cell_type": "code",
      "metadata": {
        "colab": {
          "base_uri": "https://localhost:8080/"
        },
        "id": "E7MievNmBZf7",
        "outputId": "ba459c77-431c-482d-8813-3965208b8db9"
      },
      "source": [
        "print(\"UK, China average score for 50 rounds: \", avg_self_final_scores[-1], \",\", avg_opponent_final_scores[-1])"
      ],
      "execution_count": 30,
      "outputs": [
        {
          "output_type": "stream",
          "text": [
            "UK, China average score for 50 rounds:  50.05 , 40.39\n"
          ],
          "name": "stdout"
        }
      ]
    },
    {
      "cell_type": "markdown",
      "metadata": {
        "id": "1U8XwbSHBndg"
      },
      "source": [
        "--- \r\n",
        "## UK plays C"
      ]
    },
    {
      "cell_type": "code",
      "metadata": {
        "colab": {
          "base_uri": "https://localhost:8080/",
          "height": 1000
        },
        "id": "g5YmjftvLHoR",
        "outputId": "e9360a3a-6461-4d98-e3d8-8d63ffd7a2a6"
      },
      "source": [
        "# uk plays always cooperate, china plays with msne prob then tit for tat\r\n",
        "\r\n",
        "players = [uk_coop, china_msne_tft()]\r\n",
        "\r\n",
        "avg_self_coops, avg_opp_coops, avg_self_final_scores, avg_opponent_final_scores = iterate(50, players)\r\n",
        "\r\n",
        "\r\n",
        "# plot figure\r\n",
        "stats(50, avg_self_coops, avg_opp_coops, avg_self_final_scores, avg_opponent_final_scores)"
      ],
      "execution_count": 31,
      "outputs": [
        {
          "output_type": "display_data",
          "data": {
            "image/png": "[encoded data removed]",
            "text/plain": [
              "<Figure size 1440x360 with 1 Axes>"
            ]
          },
          "metadata": {
            "tags": [],
            "needs_background": "light"
          }
        },
        {
          "output_type": "stream",
          "text": [
            "1 avg # coops 0.74 0.35 avg final scores self, opp:  0.95 1.11\n",
            "2 avg # coops 1.64 1.16 avg final scores self, opp:  3.24 2.76\n",
            "3 avg # coops 2.28 1.91 avg final scores self, opp:  5.04 3.97\n",
            "4 avg # coops 3.13 2.47 avg final scores self, opp:  6.75 5.45\n",
            "5 avg # coops 4.15 3.27 avg final scores self, opp:  9.07 7.21\n",
            "6 avg # coops 4.73 3.81 avg final scores self, opp:  10.33 8.23\n",
            "7 avg # coops 5.71 4.65 avg final scores self, opp:  12.93 10.11\n",
            "8 avg # coops 6.36 5.12 avg final scores self, opp:  13.76 10.96\n",
            "9 avg # coops 7.36 5.84 avg final scores self, opp:  16.04 12.76\n",
            "10 avg # coops 7.92 6.57 avg final scores self, opp:  17.56 13.75\n",
            "11 avg # coops 8.83 7.53 avg final scores self, opp:  20.56 15.73\n",
            "12 avg # coops 9.62 7.73 avg final scores self, opp:  20.65 16.45\n",
            "13 avg # coops 10.45 8.66 avg final scores self, opp:  23.25 18.14\n",
            "14 avg # coops 11.05 9.04 avg final scores self, opp:  24.07 19.04\n",
            "15 avg # coops 11.83 9.8 avg final scores self, opp:  26.39 20.68\n",
            "16 avg # coops 12.96 10.67 avg final scores self, opp:  29.17 22.75\n",
            "17 avg # coops 13.3 11.12 avg final scores self, opp:  29.89 23.34\n",
            "18 avg # coops 14.36 11.61 avg final scores self, opp:  30.94 24.59\n",
            "19 avg # coops 15.06 12.69 avg final scores self, opp:  34.06 26.39\n",
            "20 avg # coops 15.92 13.49 avg final scores self, opp:  36.33 28.01\n",
            "21 avg # coops 16.73 14.19 avg final scores self, opp:  38.05 29.33\n",
            "22 avg # coops 17.66 14.65 avg final scores self, opp:  39.95 31.09\n",
            "23 avg # coops 18.72 15.37 avg final scores self, opp:  41.39 32.37\n",
            "24 avg # coops 19.18 16.08 avg final scores self, opp:  43.25 33.54\n",
            "25 avg # coops 20.08 16.58 avg final scores self, opp:  44.64 34.9\n",
            "26 avg # coops 21.12 17.69 avg final scores self, opp:  47.78 36.91\n",
            "27 avg # coops 21.82 18.07 avg final scores self, opp:  48.65 37.91\n",
            "28 avg # coops 22.4 18.81 avg final scores self, opp:  51.23 39.61\n",
            "29 avg # coops 23.61 19.65 avg final scores self, opp:  53.9 41.69\n",
            "30 avg # coops 23.83 19.71 avg final scores self, opp:  53.51 41.85\n",
            "31 avg # coops 25.13 21.04 avg final scores self, opp:  57.23 44.2\n",
            "32 avg # coops 25.58 21.5 avg final scores self, opp:  58.32 45.1\n",
            "33 avg # coops 25.95 21.69 avg final scores self, opp:  58.44 45.57\n",
            "34 avg # coops 26.98 22.83 avg final scores self, opp:  61.83 47.71\n",
            "35 avg # coops 27.77 23.48 avg final scores self, opp:  63.48 49.02\n",
            "36 avg # coops 28.55 24.09 avg final scores self, opp:  65.05 50.31\n",
            "37 avg # coops 29.78 25.15 avg final scores self, opp:  68.27 52.55\n",
            "38 avg # coops 30.27 25.78 avg final scores self, opp:  69.35 53.3\n",
            "39 avg # coops 31.32 26.11 avg final scores self, opp:  70.14 54.53\n",
            "40 avg # coops 31.91 26.69 avg final scores self, opp:  71.66 55.69\n",
            "41 avg # coops 32.99 28.07 avg final scores self, opp:  75.3 57.79\n",
            "42 avg # coops 33.04 27.57 avg final scores self, opp:  73.7 57.59\n",
            "43 avg # coops 33.96 28.71 avg final scores self, opp:  77.89 60.19\n",
            "44 avg # coops 35.4 29.68 avg final scores self, opp:  80.24 62.08\n",
            "45 avg # coops 36.01 30.14 avg final scores self, opp:  82.04 63.56\n",
            "46 avg # coops 36.14 30.17 avg final scores self, opp:  81.05 63.29\n",
            "47 avg # coops 37.34 31.37 avg final scores self, opp:  84 65.19\n",
            "48 avg # coops 38.5 32.49 avg final scores self, opp:  87.62 67.59\n",
            "49 avg # coops 39.36 33.37 avg final scores self, opp:  90.25 69.37\n",
            "50 avg # coops 40.03 33.67 avg final scores self, opp:  90.91 70.29\n"
          ],
          "name": "stdout"
        }
      ]
    },
    {
      "cell_type": "code",
      "metadata": {
        "id": "kYPCoY9_Pn8I"
      },
      "source": [
        "coop_scores = avg_self_final_scores"
      ],
      "execution_count": 32,
      "outputs": []
    },
    {
      "cell_type": "code",
      "metadata": {
        "colab": {
          "base_uri": "https://localhost:8080/"
        },
        "id": "20cNCcdABsvu",
        "outputId": "5b6d1718-4f01-46b6-afb4-637850f37994"
      },
      "source": [
        "print(\"UK, China average score for 50 rounds: \", avg_self_final_scores[-1], \",\", avg_opponent_final_scores[-1])"
      ],
      "execution_count": 33,
      "outputs": [
        {
          "output_type": "stream",
          "text": [
            "UK, China average score for 50 rounds:  90.91 , 70.29\n"
          ],
          "name": "stdout"
        }
      ]
    },
    {
      "cell_type": "markdown",
      "metadata": {
        "id": "eyoqUDKK1NrB"
      },
      "source": [
        "\r\n",
        "---\r\n",
        "\r\n",
        "# Plotting UK payoffs\r\n"
      ]
    },
    {
      "cell_type": "code",
      "metadata": {
        "id": "3StkgXrxPh7D"
      },
      "source": [
        "import matplotlib.pylab as pylab\r\n",
        "params = {'legend.fontsize': '9',\r\n",
        "          'figure.figsize': (6, 3),\r\n",
        "         'axes.labelsize': '9',\r\n",
        "         'axes.titlesize':'9',\r\n",
        "         'xtick.labelsize':'9',\r\n",
        "         'ytick.labelsize':'7'}\r\n",
        "pylab.rcParams.update(params)\r\n"
      ],
      "execution_count": 34,
      "outputs": []
    },
    {
      "cell_type": "code",
      "metadata": {
        "colab": {
          "base_uri": "https://localhost:8080/",
          "height": 236
        },
        "id": "TIwh9XroaTU_",
        "outputId": "46386bda-d734-4c70-9248-4c543ddbce0c"
      },
      "source": [
        "# creating x axis values (# rounds per game)\r\n",
        "x = [x for x in range(1,51)] \r\n",
        "\r\n",
        "# setting marker size on graph\r\n",
        "ms = 1\r\n",
        "\r\n",
        "# plot lines\r\n",
        "plt.plot(x, coop_scores, label = \"Coop\", markersize=ms, marker=\"o\", alpha=0.6)\r\n",
        "plt.plot(x, def_scores, label = \"Def\", markersize=ms, marker=\"o\", alpha=0.6)\r\n",
        "plt.plot(x, coop_tft_scores, label= \"C-TFT\", markersize=ms, marker=\"o\", alpha=0.6)\r\n",
        "plt.plot(x, def_tft_scores, label = \"D-TFT\", markersize=ms, marker=\"o\", alpha=0.6)\r\n",
        "plt.plot(x, msne_scores, label = \"MSNE\", markersize=ms, marker=\"o\", alpha=0.6)\r\n",
        "plt.plot(x, msne_tft_scores, label = \"MSNE-TFT\", markersize=ms, marker=\"o\", alpha=0.6)\r\n",
        "\r\n",
        "plt.xlabel(\"n (Number of rounds per game)\")\r\n",
        "plt.ylabel(\"Average final utility per game\")\r\n",
        "plt.title(\"Figure 4: Average final utilities per game of n rounds for different UK strategies\")\r\n",
        "plt.legend(title=\"UK strategy\")\r\n",
        "\r\n",
        "plt.savefig(\"uk_utils\")"
      ],
      "execution_count": 36,
      "outputs": [
        {
          "output_type": "display_data",
          "data": {
            "image/png": "[encoded data removed]",
            "text/plain": [
              "<Figure size 432x216 with 1 Axes>"
            ]
          },
          "metadata": {
            "tags": [],
            "needs_background": "light"
          }
        }
      ]
    },
    {
      "cell_type": "code",
      "metadata": {
        "id": "H7vPUieBbW-f"
      },
      "source": [
        ""
      ],
      "execution_count": 35,
      "outputs": []
    }
  ]
}