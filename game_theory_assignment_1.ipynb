{
  "nbformat": 4,
  "nbformat_minor": 0,
  "metadata": {
    "language_info": {
      "codemirror_mode": {
        "name": "ipython",
        "version": 3
      },
      "file_extension": ".py",
      "mimetype": "text/x-python",
      "name": "python",
      "nbconvert_exporter": "python",
      "pygments_lexer": "ipython3",
      "version": "3.7.4-final"
    },
    "orig_nbformat": 2,
    "kernelspec": {
      "name": "python3",
      "display_name": "Python 3",
      "language": "python"
    },
    "colab": {
      "name": "game_theory_assignment_1.ipynb",
      "provenance": [],
      "toc_visible": true,
      "include_colab_link": true
    }
  },
  "cells": [
    {
      "cell_type": "markdown",
      "metadata": {
        "id": "view-in-github",
        "colab_type": "text"
      },
      "source": [
        "<a href=\"https://colab.research.google.com/github/joyjixu/game_theory/blob/main/game_theory_assignment_1.ipynb\" target=\"_parent\"><img src=\"https://colab.research.google.com/assets/colab-badge.svg\" alt=\"Open In Colab\"/></a>"
      ]
    },
    {
      "cell_type": "markdown",
      "metadata": {
        "id": "0wBlyQDSMmAN"
      },
      "source": [
        "# BASC00017 Interdisciplinary Game Theory Assignment 1\r\n",
        "# Code appendix\r\n",
        "by Joy Xu\r\n",
        "\r\n",
        "---\r\n"
      ]
    },
    {
      "cell_type": "markdown",
      "metadata": {
        "id": "tEjPAEoDNJq3"
      },
      "source": [
        "First we install the necessary Python libraries and update dependencies:"
      ]
    },
    {
      "cell_type": "code",
      "metadata": {
        "colab": {
          "base_uri": "https://localhost:8080/",
          "height": 1000
        },
        "id": "ZXZ0j35YzTPw",
        "outputId": "fff2f367-66d1-4c94-89e6-2777ce447ce5"
      },
      "source": [
        "! pip install nashpy\r\n",
        "! pip install axelrod\r\n",
        "\r\n",
        "! pip install -U PyYAML"
      ],
      "execution_count": 3,
      "outputs": [
        {
          "output_type": "stream",
          "text": [
            "Collecting nashpy\n",
            "  Downloading https://files.pythonhosted.org/packages/ad/a2/5d36744511640db1869029d2ab324b55f6eaaa2a51f75a87408a7e8000f4/nashpy-0.0.19.tar.gz\n",
            "Requirement already satisfied: numpy>=1.12.1 in /usr/local/lib/python3.6/dist-packages (from nashpy) (1.19.5)\n",
            "Requirement already satisfied: scipy>=0.19.0 in /usr/local/lib/python3.6/dist-packages (from nashpy) (1.4.1)\n",
            "Building wheels for collected packages: nashpy\n",
            "  Building wheel for nashpy (setup.py) ... \u001b[?25l\u001b[?25hdone\n",
            "  Created wheel for nashpy: filename=nashpy-0.0.19-cp36-none-any.whl size=10814 sha256=1725a20542e5da0cda2b2a47dcc82e1d7f5de9a1b7b32dc938459d087dc04b4e\n",
            "  Stored in directory: /root/.cache/pip/wheels/18/e9/56/2d04d01a6969d167f86d3afcb3d128c0b43d0d73ea471c835b\n",
            "Successfully built nashpy\n",
            "Installing collected packages: nashpy\n",
            "Successfully installed nashpy-0.0.19\n",
            "Collecting axelrod\n",
            "\u001b[?25l  Downloading https://files.pythonhosted.org/packages/58/e1/00d31360eae2cacf2c2fbaf4af822aaf22a9059b97b78a696db8e55569cb/Axelrod-4.10.0-py2.py3-none-any.whl (193kB)\n",
            "\u001b[K     |████████████████████████████████| 194kB 4.3MB/s \n",
            "\u001b[?25hRequirement already satisfied: cloudpickle>=0.2.2 in /usr/local/lib/python3.6/dist-packages (from axelrod) (1.3.0)\n",
            "Collecting fsspec>=0.6.0\n",
            "\u001b[?25l  Downloading https://files.pythonhosted.org/packages/ec/80/72ac0982cc833945fada4b76c52f0f65435ba4d53bc9317d1c70b5f7e7d5/fsspec-0.8.5-py3-none-any.whl (98kB)\n",
            "\u001b[K     |████████████████████████████████| 102kB 4.7MB/s \n",
            "\u001b[?25hRequirement already satisfied: pandas>=1.0.0 in /usr/local/lib/python3.6/dist-packages (from axelrod) (1.1.5)\n",
            "Requirement already satisfied: scipy>=1.3.3 in /usr/local/lib/python3.6/dist-packages (from axelrod) (1.4.1)\n",
            "Requirement already satisfied: matplotlib>=3.0.3 in /usr/local/lib/python3.6/dist-packages (from axelrod) (3.2.2)\n",
            "Requirement already satisfied: dask>=2.9.2 in /usr/local/lib/python3.6/dist-packages (from axelrod) (2.12.0)\n",
            "Requirement already satisfied: pyyaml>=3.01 in /usr/local/lib/python3.6/dist-packages (from axelrod) (3.13)\n",
            "Requirement already satisfied: toolz>=0.8.2 in /usr/local/lib/python3.6/dist-packages (from axelrod) (0.11.1)\n",
            "Requirement already satisfied: tqdm>=4.39.0 in /usr/local/lib/python3.6/dist-packages (from axelrod) (4.41.1)\n",
            "Collecting prompt-toolkit>=3.0\n",
            "\u001b[?25l  Downloading https://files.pythonhosted.org/packages/a6/0b/c6de29441b29f8b54d5bbe29a8b223de6e400714ff50e85541bd4c783421/prompt_toolkit-3.0.16-py3-none-any.whl (366kB)\n",
            "\u001b[K     |████████████████████████████████| 368kB 6.0MB/s \n",
            "\u001b[?25hRequirement already satisfied: numpy>=1.17.4 in /usr/local/lib/python3.6/dist-packages (from axelrod) (1.19.5)\n",
            "Requirement already satisfied: pytz>=2017.2 in /usr/local/lib/python3.6/dist-packages (from pandas>=1.0.0->axelrod) (2018.9)\n",
            "Requirement already satisfied: python-dateutil>=2.7.3 in /usr/local/lib/python3.6/dist-packages (from pandas>=1.0.0->axelrod) (2.8.1)\n",
            "Requirement already satisfied: cycler>=0.10 in /usr/local/lib/python3.6/dist-packages (from matplotlib>=3.0.3->axelrod) (0.10.0)\n",
            "Requirement already satisfied: kiwisolver>=1.0.1 in /usr/local/lib/python3.6/dist-packages (from matplotlib>=3.0.3->axelrod) (1.3.1)\n",
            "Requirement already satisfied: pyparsing!=2.0.4,!=2.1.2,!=2.1.6,>=2.0.1 in /usr/local/lib/python3.6/dist-packages (from matplotlib>=3.0.3->axelrod) (2.4.7)\n",
            "Requirement already satisfied: wcwidth in /usr/local/lib/python3.6/dist-packages (from prompt-toolkit>=3.0->axelrod) (0.2.5)\n",
            "Requirement already satisfied: six>=1.5 in /usr/local/lib/python3.6/dist-packages (from python-dateutil>=2.7.3->pandas>=1.0.0->axelrod) (1.15.0)\n",
            "\u001b[31mERROR: jupyter-console 5.2.0 has requirement prompt-toolkit<2.0.0,>=1.0.0, but you'll have prompt-toolkit 3.0.16 which is incompatible.\u001b[0m\n",
            "\u001b[31mERROR: ipython 5.5.0 has requirement prompt-toolkit<2.0.0,>=1.0.4, but you'll have prompt-toolkit 3.0.16 which is incompatible.\u001b[0m\n",
            "Installing collected packages: fsspec, prompt-toolkit, axelrod\n",
            "  Found existing installation: prompt-toolkit 1.0.18\n",
            "    Uninstalling prompt-toolkit-1.0.18:\n",
            "      Successfully uninstalled prompt-toolkit-1.0.18\n",
            "Successfully installed axelrod-4.10.0 fsspec-0.8.5 prompt-toolkit-3.0.16\n"
          ],
          "name": "stdout"
        },
        {
          "output_type": "display_data",
          "data": {
            "application/vnd.colab-display-data+json": {
              "pip_warning": {
                "packages": [
                  "prompt_toolkit"
                ]
              }
            }
          },
          "metadata": {
            "tags": []
          }
        },
        {
          "output_type": "stream",
          "text": [
            "Collecting PyYAML\n",
            "\u001b[?25l  Downloading https://files.pythonhosted.org/packages/7a/5b/bc0b5ab38247bba158504a410112b6c03f153c652734ece1849749e5f518/PyYAML-5.4.1-cp36-cp36m-manylinux1_x86_64.whl (640kB)\n",
            "\u001b[K     |████████████████████████████████| 645kB 5.5MB/s \n",
            "\u001b[?25hInstalling collected packages: PyYAML\n",
            "  Found existing installation: PyYAML 3.13\n",
            "    Uninstalling PyYAML-3.13:\n",
            "      Successfully uninstalled PyYAML-3.13\n",
            "Successfully installed PyYAML-5.4.1\n"
          ],
          "name": "stdout"
        }
      ]
    },
    {
      "cell_type": "markdown",
      "metadata": {
        "id": "_G6cuQc1NSwB"
      },
      "source": [
        "Then we can import the libraries we need into the notebook."
      ]
    },
    {
      "cell_type": "code",
      "metadata": {
        "id": "hRgM9WQcxxtt"
      },
      "source": [
        "import nashpy as nash\n",
        "import numpy as np\n",
        "import matplotlib.pyplot as plt\n",
        "import axelrod as axl\n",
        "from axelrod import Game\n",
        "from typing import Tuple, Union\n",
        "from axelrod import Action\n",
        "from statistics import mean\n",
        "\n"
      ],
      "execution_count": 4,
      "outputs": []
    },
    {
      "cell_type": "code",
      "metadata": {
        "colab": {
          "base_uri": "https://localhost:8080/",
          "height": 35
        },
        "id": "TC9Zw7JJ0x5C",
        "outputId": "950b8efd-08b3-4dbd-d60a-a858789d4a92"
      },
      "source": [
        "import yaml\r\n",
        "yaml.__version__"
      ],
      "execution_count": 5,
      "outputs": [
        {
          "output_type": "execute_result",
          "data": {
            "application/vnd.google.colaboratory.intrinsic+json": {
              "type": "string"
            },
            "text/plain": [
              "'5.4.1'"
            ]
          },
          "metadata": {
            "tags": []
          },
          "execution_count": 5
        }
      ]
    },
    {
      "cell_type": "markdown",
      "metadata": {
        "id": "u8TvGU7LNa2W"
      },
      "source": [
        "# 1. Checking MSNE using Nashpy\r\n",
        "Although the MSNE was calculated manually in the assignment, we can verify that is is correct using Nashpy. Below we create a game with player A and B, and set the payoffs."
      ]
    },
    {
      "cell_type": "code",
      "metadata": {
        "colab": {
          "base_uri": "https://localhost:8080/"
        },
        "id": "dVb3-IIBxxtx",
        "outputId": "ce51196c-1cba-4755-d2cf-f8bd24743bb5"
      },
      "source": [
        "A = np.array([[3,0],[1,1]]) # A is the row player\n",
        "B = np.array([[2,1],[0,1]]) # B is the column player\n",
        "game1 = nash.Game(A,B)\n",
        "game1"
      ],
      "execution_count": 6,
      "outputs": [
        {
          "output_type": "execute_result",
          "data": {
            "text/plain": [
              "Bi matrix game with payoff matrices:\n",
              "\n",
              "Row player:\n",
              "[[3 0]\n",
              " [1 1]]\n",
              "\n",
              "Column player:\n",
              "[[2 1]\n",
              " [0 1]]"
            ]
          },
          "metadata": {
            "tags": []
          },
          "execution_count": 6
        }
      ]
    },
    {
      "cell_type": "markdown",
      "metadata": {
        "id": "0SgWHUvdN77L"
      },
      "source": [
        "Then we can calculate any equilibria."
      ]
    },
    {
      "cell_type": "code",
      "metadata": {
        "colab": {
          "base_uri": "https://localhost:8080/"
        },
        "id": "DLz-dYEzxxty",
        "outputId": "772b86cc-0874-41dc-a07f-22a67667f337"
      },
      "source": [
        "# Player A has strategies (Top, Bottom) and Player B has strategies (Left, Right)\n",
        "equilibria = game1.support_enumeration()\n",
        "for eq in equilibria:\n",
        "    print(eq)"
      ],
      "execution_count": 7,
      "outputs": [
        {
          "output_type": "stream",
          "text": [
            "(array([1., 0.]), array([1., 0.]))\n",
            "(array([0., 1.]), array([0., 1.]))\n",
            "(array([0.5, 0.5]), array([0.33333333, 0.66666667]))\n"
          ],
          "name": "stdout"
        }
      ]
    },
    {
      "cell_type": "markdown",
      "metadata": {
        "id": "50ChLVsaxxty"
      },
      "source": [
        "The cell above prints out three equilibria. The first two are the Pure strategy NE and the last one is the MSNE. We can read each line as (player1 action ([prob top strategy, prob bottom strategy]), player 2 action([prob left strategy, prob right strategy])).\n",
        "\n",
        "* top: cooperate\n",
        "* bottom : defect\n",
        "* left: cooperate\n",
        "* right: defect\n",
        "\n",
        "*Results:*\n",
        "\n",
        "(array(1., 0.), array(1., 0.)) ---> top left: both cooperate\n",
        "\n",
        "(array(0., 1.), array(0., 1.)) ---> bottom right: both defect\n",
        "\n",
        "(array(0.5, 0.5), array(0.33, 0.67)) ---> Mixed strategy: Player 1 (UK) plays cooperate with probability 0.5, Player 2 (China) plays cooperate with probability 0.33"
      ]
    },
    {
      "cell_type": "markdown",
      "metadata": {
        "id": "Qy4s59kfxxtz"
      },
      "source": [
        "____________________________________________________________________________________________________"
      ]
    },
    {
      "cell_type": "markdown",
      "metadata": {
        "id": "BujUeIWP6THs"
      },
      "source": [
        "# Iterating with Axelrod\r\n",
        "* Axelrod is another Python library we can use for iterating the stag hunt\r\n",
        "* The library was designed for the iterated Prsinoner's dilemma, so we have to change some code to allow for asymmetric payoffs\r\n",
        "* We do that by creating a new class that inherits from the Game class (what we would have used normally for a PD)"
      ]
    },
    {
      "cell_type": "code",
      "metadata": {
        "id": "Hofz6dVbxxtz"
      },
      "source": [
        "C, D = Action.C, Action.D\n",
        "class AsymmetricGame(Game):\n",
        "    Score = Union[int, float]\n",
        "    # the line below adds r2, p2, s2, t2 as parameters for the Game class (otherwise both players would have the same RPST payoffs)\n",
        "    def __init__(self, r: Score = 3, s: Score = 0, t: Score = 5, p: Score = 1, r2: Score = 3, s2: Score = 0, t2: Score = 5, p2: Score = 1) -> None:\n",
        "        \"\"\"Create a new game object.\n",
        "        \n",
        "        Parameters\n",
        "        ----------\n",
        "        r: int or float\n",
        "            Score obtained by both players for mutual cooperation.\n",
        "        s: int or float\n",
        "            Score obtained by a player for cooperating against a defector.\n",
        "        t: int or float\n",
        "            Score obtained by a player for defecting against a cooperator.\n",
        "        p: int or float\n",
        "            Score obtained by both player for mutual defection.\n",
        "        \"\"\"\n",
        "        self.scores = {(C, C): (r, r2), (D, D): (p, p2), (C, D): (s, t2), (D, C): (t, s2)}\n",
        "\n",
        "\n",
        "    def RPST(self) -> Tuple[Score, Score, Score, Score]:\n",
        "        \"\"\"Returns game matrix values in Press and Dyson notation.\"\"\"\n",
        "        R = self.scores[(C, C)]\n",
        "        P = self.scores[(D, D)]\n",
        "        S = self.scores[(C, D)]\n",
        "        T = self.scores[(D, C)]\n",
        "        return R, P, S, T"
      ],
      "execution_count": 8,
      "outputs": []
    },
    {
      "cell_type": "markdown",
      "metadata": {
        "id": "vaHqmTCC7CL-"
      },
      "source": [
        "Next we also add a strategy wrapper to customize the player's strategy for our MSNE. In the assignment we mentioned that China would play the first round using MSNE, so the strategy wrapper will alter any strategy (e.g. tit-for-tat) so that the first round will be played with MSNE.\r\n",
        "\r\n",
        "We also create a strategy wrapper for the UK's MSNE."
      ]
    },
    {
      "cell_type": "code",
      "metadata": {
        "id": "xd-VMJ4Qxxt0"
      },
      "source": [
        "# the UK's probability p of cooperate is 0.5 so the parameter prob is set to 0.5\n",
        "def strategy_wrapper_uk(player, opponent, proposed_action, prob=0.5,*args, **kwargs):\n",
        "    \"\"\"\n",
        "    Strategy wrapper functions should be of the following form.\n",
        "\n",
        "    Parameters\n",
        "    ----------\n",
        "    player: Player object or subclass (self)\n",
        "    opponent: Player object or subclass\n",
        "    proposed_action: an axelrod.Action, C or D\n",
        "        The proposed action by the wrapped strategy\n",
        "        proposed_action = Player.strategy(...)\n",
        "    args, kwargs:\n",
        "        Any additional arguments that you need.\n",
        "\n",
        "    Returns\n",
        "    -------\n",
        "    action: an axelrod.Action, C or D\n",
        "\n",
        "    \"\"\"\n",
        "    if len(player.history) == 0:\n",
        "        random = np.random.rand()\n",
        "        if random < prob:\n",
        "            return C\n",
        "        return D        \n",
        "    return proposed_action"
      ],
      "execution_count": 9,
      "outputs": []
    },
    {
      "cell_type": "code",
      "metadata": {
        "id": "0wrGv6rxxxt0"
      },
      "source": [
        "# China's probability p of cooperate is 0.33 so the parameter prob is set to 0.33\n",
        "\n",
        "def strategy_wrapper_china(player, opponent, proposed_action, prob=0.33,*args, **kwargs):\n",
        "    \"\"\"\n",
        "    Strategy wrapper functions should be of the following form.\n",
        "\n",
        "    Parameters\n",
        "    ----------\n",
        "    player: Player object or subclass (self)\n",
        "    opponent: Player object or subclass\n",
        "    proposed_action: an axelrod.Action, C or D\n",
        "        The proposed action by the wrapped strategy\n",
        "        proposed_action = Player.strategy(...)\n",
        "    args, kwargs:\n",
        "        Any additional arguments that you need.\n",
        "\n",
        "    Returns\n",
        "    -------\n",
        "    action: an axelrod.Action, C or D\n",
        "\n",
        "    \"\"\"\n",
        "    if len(player.history) == 0:\n",
        "        random = np.random.rand()\n",
        "        if random < prob:\n",
        "            return C\n",
        "        return D        \n",
        "    return proposed_action"
      ],
      "execution_count": 10,
      "outputs": []
    },
    {
      "cell_type": "markdown",
      "metadata": {
        "id": "L1JZxniqxxt0"
      },
      "source": [
        "_____________________________________________________________________"
      ]
    },
    {
      "cell_type": "markdown",
      "metadata": {
        "id": "u-Z2lqZxxxt1"
      },
      "source": [
        "# Define the game\r\n",
        "\r\n",
        "* We can now create our game and set the utilities for each strategy profile"
      ]
    },
    {
      "cell_type": "code",
      "metadata": {
        "colab": {
          "base_uri": "https://localhost:8080/"
        },
        "id": "ia6cAjKZxxt1",
        "outputId": "fcd1e712-a584-452f-f1cc-b773bec72a4c"
      },
      "source": [
        "# creating the game\n",
        "foreign_policy = AsymmetricGame(r=3, p=1, s=0, t=1,r2=2, p2=1, s2=0, t2=1)\n",
        "print(\"Utilities: (C,c), (D,d), (C,d), (D,c): \", foreign_policy.RPST())\n"
      ],
      "execution_count": 11,
      "outputs": [
        {
          "output_type": "stream",
          "text": [
            "Utilities: (C,c), (D,d), (C,d), (D,c):  ((3, 2), (1, 1), (0, 1), (1, 0))\n"
          ],
          "name": "stdout"
        }
      ]
    },
    {
      "cell_type": "markdown",
      "metadata": {
        "id": "R_5Q-erfxxt1"
      },
      "source": [
        "# Define players\r\n",
        "* Axelrod already has some pre-existing strategies that we can import\r\n",
        "* We can transform those strategies to tailor them according to our MSNE"
      ]
    },
    {
      "cell_type": "code",
      "metadata": {
        "id": "KEk5W3NYMPnr"
      },
      "source": [
        "from axelrod.strategy_transformers import *"
      ],
      "execution_count": 12,
      "outputs": []
    },
    {
      "cell_type": "code",
      "metadata": {
        "id": "xEJKsnsnxxt1"
      },
      "source": [
        "# transformed strategies (each strategy is a class)\n",
        "# we need to make a new class for each transformed strategy\n",
        "\n",
        "TransformedClassUK = StrategyTransformerFactory(strategy_wrapper_uk, name_prefix=\"UK\")() \n",
        "\n",
        "TransformedClassChina = StrategyTransformerFactory(strategy_wrapper_china, name_prefix=\"China\")() \n",
        "\n",
        "# modifying the tit-for-tat strategy\n",
        "china_msne_tft = TransformedClassChina(axl.TitForTat) # will cooperate with probability 0.5 in first round only, then tit-for-tat\n",
        "uk_msne_tft = TransformedClassUK(axl.TitForTat) # will cooperate with probability 0.33 in first round only, then tit-for-tat"
      ],
      "execution_count": 13,
      "outputs": []
    },
    {
      "cell_type": "code",
      "metadata": {
        "id": "mi4B-T9nxxt1"
      },
      "source": [
        "# other UK strategies (see table in assignment)\n",
        "\n",
        "# MSNE\n",
        "uk_msne = axl.Random(p=0.5)\n",
        "\n",
        "# C-TFT\n",
        "uk_coop_tft = axl.TitForTat()\n",
        "\n",
        "# D-TFT\n",
        "uk_def_tft = InitialTransformer([D])(axl.TitForTat)()\n",
        "\n",
        "#C\n",
        "uk_coop = axl.Cooperator()\n",
        "\n",
        "#D\n",
        "uk_def = axl.Defector()"
      ],
      "execution_count": 14,
      "outputs": []
    },
    {
      "cell_type": "markdown",
      "metadata": {
        "id": "78TlmRa9xxt2"
      },
      "source": [
        "---\r\n",
        "# Playing the game"
      ]
    },
    {
      "cell_type": "code",
      "metadata": {
        "colab": {
          "base_uri": "https://localhost:8080/"
        },
        "id": "g_McKH3fxxt2",
        "outputId": "b9a52924-6d6b-414d-a5da-5ea1fa417dcb"
      },
      "source": [
        "# test run: 50 rounds using our defined payoffs\n",
        "# UK always playes using MSNE, China plays with MSNE on first round then tit-for-tat\n",
        "\n",
        "players = [uk_msne, china_msne_tft()]\n",
        "\n",
        "match = axl.Match(players, 50, game=foreign_policy)\n",
        "match.play()\n",
        "match.scores()"
      ],
      "execution_count": 16,
      "outputs": [
        {
          "output_type": "execute_result",
          "data": {
            "text/plain": [
              "[(0, 1),\n",
              " (3, 2),\n",
              " (1, 0),\n",
              " (1, 1),\n",
              " (0, 1),\n",
              " (1, 0),\n",
              " (0, 1),\n",
              " (3, 2),\n",
              " (3, 2),\n",
              " (1, 0),\n",
              " (1, 1),\n",
              " (1, 1),\n",
              " (0, 1),\n",
              " (1, 0),\n",
              " (0, 1),\n",
              " (1, 0),\n",
              " (1, 1),\n",
              " (0, 1),\n",
              " (1, 0),\n",
              " (0, 1),\n",
              " (3, 2),\n",
              " (1, 0),\n",
              " (0, 1),\n",
              " (1, 0),\n",
              " (1, 1),\n",
              " (0, 1),\n",
              " (3, 2),\n",
              " (1, 0),\n",
              " (1, 1),\n",
              " (0, 1),\n",
              " (3, 2),\n",
              " (1, 0),\n",
              " (0, 1),\n",
              " (1, 0),\n",
              " (0, 1),\n",
              " (1, 0),\n",
              " (0, 1),\n",
              " (1, 0),\n",
              " (0, 1),\n",
              " (3, 2),\n",
              " (3, 2),\n",
              " (1, 0),\n",
              " (1, 1),\n",
              " (0, 1),\n",
              " (3, 2),\n",
              " (1, 0),\n",
              " (1, 1),\n",
              " (1, 1),\n",
              " (1, 1),\n",
              " (1, 1)]"
            ]
          },
          "metadata": {
            "tags": []
          },
          "execution_count": 16
        }
      ]
    },
    {
      "cell_type": "markdown",
      "metadata": {
        "id": "_kayRg8D-DqL"
      },
      "source": [
        "Above we can see the scores for each player (UK, China) for each round"
      ]
    },
    {
      "cell_type": "markdown",
      "metadata": {
        "id": "ZB0xkmdi-KSI"
      },
      "source": [
        "Now we start comparing the UK strategies\r\n",
        "\r\n",
        "* each game will have 100 rounds, and the final score is the sum of the scores of each round\r\n",
        "* we then take the average of the final score for 100 repeated games to account for variability\r\n"
      ]
    },
    {
      "cell_type": "code",
      "metadata": {
        "id": "8xMXN0hNWKX_"
      },
      "source": [
        "# making a function to iterate the game\r\n",
        "from statistics import mean\r\n",
        "\r\n",
        "def iterate(n_rounds, players, noise=0.2):\r\n",
        "  avg_self_coops = []\r\n",
        "  avg_opp_coops = []\r\n",
        "  avg_self_final_scores = []\r\n",
        "  avg_opponent_final_scores = []\r\n",
        "\r\n",
        "  for i in range(1,n_rounds+1):\r\n",
        "      self_coops = []\r\n",
        "      opp_coops = []\r\n",
        "      self_final_scores = []\r\n",
        "      opponent_final_scores = []\r\n",
        "      winner = []\r\n",
        "      for j in range(1,101):\r\n",
        "          \r\n",
        "          match = axl.Match(players, i, game=foreign_policy, noise=noise)\r\n",
        "          match.play()\r\n",
        "          self_final_scores.append(match.final_score()[0])\r\n",
        "          opponent_final_scores.append(match.final_score()[1])\r\n",
        "          self_coops.append(match.cooperation()[0])\r\n",
        "          opp_coops.append(match.cooperation()[1])\r\n",
        "\r\n",
        "      #finding the averages for 100 games\r\n",
        "      avg_self_final_scores.append(mean(self_final_scores))\r\n",
        "      avg_opponent_final_scores.append(mean(opponent_final_scores))\r\n",
        "      avg_self_coops.append(mean(self_coops))\r\n",
        "      avg_opp_coops.append(mean(opp_coops))\r\n",
        "\r\n",
        "  return avg_self_coops, avg_opp_coops, avg_self_final_scores, avg_opponent_final_scores"
      ],
      "execution_count": 59,
      "outputs": []
    },
    {
      "cell_type": "code",
      "metadata": {
        "id": "UpOdj64jWYGP"
      },
      "source": [
        "# making a function to print stats\r\n",
        "def stats(n_rounds, avg_self_coops, avg_opp_coops, avg_self_final_scores, avg_opponent_final_scores):\r\n",
        "  x=[x for x in range(1,51)]\r\n",
        "\r\n",
        "  plt.figure(figsize=(20,5))\r\n",
        "  plt.plot(x, avg_self_final_scores, label = \"UK final utility\")\r\n",
        "  plt.plot(x, avg_opponent_final_scores, label = \"China final utility\")\r\n",
        "\r\n",
        "  plt.xlabel(\"Number of rounds in game\")\r\n",
        "  plt.ylabel(\"Average final utility (100 games)\")\r\n",
        "  plt.legend()\r\n",
        "  plt.show()\r\n",
        "\r\n",
        "  # print stats\r\n",
        "  for i in range(0,n_rounds):\r\n",
        "      print((i+1), \"avg # coops\", avg_self_coops[i], avg_opp_coops[i], \"avg final scores self, opp: \", avg_self_final_scores[i], avg_opponent_final_scores[i])"
      ],
      "execution_count": 60,
      "outputs": []
    },
    {
      "cell_type": "markdown",
      "metadata": {
        "id": "jhtAbQE0-m5l"
      },
      "source": [
        "## UK plays MSNE"
      ]
    },
    {
      "cell_type": "code",
      "metadata": {
        "colab": {
          "base_uri": "https://localhost:8080/",
          "height": 1000
        },
        "id": "ZMfnD98Wxxt2",
        "outputId": "a4e337d1-8b73-4043-8466-48ecd5b1a819"
      },
      "source": [
        "# uk plays msne probability, china plays with msne prob then tit for tat\n",
        "\n",
        "\n",
        "players = [uk_msne, china_msne_tft()]\n",
        "\n",
        "\n",
        "# we will play games with one round, then two rounds,..., up to 50 rounds\n",
        "# final utility per game is sum of utility in all rounds\n",
        "\n",
        "avg_self_coops, avg_opp_coops, avg_self_final_scores, avg_opponent_final_scores = iterate(50, players)\n",
        "\n",
        "\n",
        "# plot figure\n",
        "stats(50, avg_self_coops, avg_opp_coops, avg_self_final_scores, avg_opponent_final_scores)"
      ],
      "execution_count": 61,
      "outputs": [
        {
          "output_type": "display_data",
          "data": {
            "image/png": "[encoded data removed]",
            "text/plain": [
              "<Figure size 1440x360 with 1 Axes>"
            ]
          },
          "metadata": {
            "tags": [],
            "needs_background": "light"
          }
        },
        {
          "output_type": "stream",
          "text": [
            "1 avg # coops 0.47 0.4 avg final scores self, opp:  1.13 1\n",
            "2 avg # coops 1.08 0.9 avg final scores self, opp:  2.51 2.16\n",
            "3 avg # coops 1.53 1.41 avg final scores self, opp:  3.66 3.05\n",
            "4 avg # coops 1.89 1.72 avg final scores self, opp:  4.6 3.94\n",
            "5 avg # coops 2.34 2.42 avg final scores self, opp:  5.81 4.68\n",
            "6 avg # coops 3.15 3.07 avg final scores self, opp:  7.83 6.25\n",
            "7 avg # coops 3.48 3.24 avg final scores self, opp:  8.35 6.98\n",
            "8 avg # coops 3.95 4.01 avg final scores self, opp:  10.05 7.99\n",
            "9 avg # coops 4.56 4.31 avg final scores self, opp:  10.92 9.01\n",
            "10 avg # coops 4.81 4.65 avg final scores self, opp:  11.7 9.69\n",
            "11 avg # coops 5.73 5.63 avg final scores self, opp:  14 11.19\n",
            "12 avg # coops 5.69 5.67 avg final scores self, opp:  14.56 11.83\n",
            "13 avg # coops 6.5 6.48 avg final scores self, opp:  15.86 12.76\n",
            "14 avg # coops 7.15 7.01 avg final scores self, opp:  17.53 14.11\n",
            "15 avg # coops 7.41 7.29 avg final scores self, opp:  18.45 14.95\n",
            "16 avg # coops 8.14 7.8 avg final scores self, opp:  19.44 15.92\n",
            "17 avg # coops 8.43 8.58 avg final scores self, opp:  21.26 16.88\n",
            "18 avg # coops 9.22 8.87 avg final scores self, opp:  22.64 18.37\n",
            "19 avg # coops 9.83 9.53 avg final scores self, opp:  24.02 19.37\n",
            "20 avg # coops 9.87 9.7 avg final scores self, opp:  24.23 19.7\n",
            "21 avg # coops 10.48 10.29 avg final scores self, opp:  25.97 21.01\n",
            "22 avg # coops 11.16 10.94 avg final scores self, opp:  27.34 22.06\n",
            "23 avg # coops 11.69 11.36 avg final scores self, opp:  28.71 23.24\n",
            "24 avg # coops 11.93 11.65 avg final scores self, opp:  28.75 23.47\n",
            "25 avg # coops 12.52 12.54 avg final scores self, opp:  31.95 25.44\n",
            "26 avg # coops 12.78 12.24 avg final scores self, opp:  31.28 25.8\n",
            "27 avg # coops 13.26 13.01 avg final scores self, opp:  32.4 26.43\n",
            "28 avg # coops 13.62 13.63 avg final scores self, opp:  33.91 27.39\n",
            "29 avg # coops 14.6 14.32 avg final scores self, opp:  36.48 29.4\n",
            "30 avg # coops 15.67 15.56 avg final scores self, opp:  38.93 30.84\n",
            "31 avg # coops 15.18 15.41 avg final scores self, opp:  38.11 30.45\n",
            "32 avg # coops 16.12 16.46 avg final scores self, opp:  40.3 31.82\n",
            "33 avg # coops 16.47 16.62 avg final scores self, opp:  42 33.36\n",
            "34 avg # coops 16.8 16.33 avg final scores self, opp:  41.38 33.79\n",
            "35 avg # coops 17.55 17.16 avg final scores self, opp:  42.47 34.52\n",
            "36 avg # coops 17.98 17.87 avg final scores self, opp:  44.72 35.93\n",
            "37 avg # coops 17.94 18.08 avg final scores self, opp:  45.07 36.26\n",
            "38 avg # coops 19.16 18.95 avg final scores self, opp:  47.01 37.83\n",
            "39 avg # coops 20.03 19.51 avg final scores self, opp:  49.78 40.03\n",
            "40 avg # coops 19.92 19.73 avg final scores self, opp:  49.33 39.77\n",
            "41 avg # coops 20.46 20.3 avg final scores self, opp:  51.08 41.06\n",
            "42 avg # coops 20.55 20.43 avg final scores self, opp:  52.56 42.31\n",
            "43 avg # coops 22.27 21.9 avg final scores self, opp:  54.9 43.88\n",
            "44 avg # coops 21.92 21.79 avg final scores self, opp:  54.87 44.07\n",
            "45 avg # coops 22.52 22.14 avg final scores self, opp:  55.24 44.7\n",
            "46 avg # coops 23.09 22.95 avg final scores self, opp:  57.53 46.13\n",
            "47 avg # coops 23.41 23.28 avg final scores self, opp:  58.6 47.06\n",
            "48 avg # coops 23.58 23.7 avg final scores self, opp:  59.43 47.64\n",
            "49 avg # coops 25.17 25.03 avg final scores self, opp:  62.68 49.87\n",
            "50 avg # coops 25.28 24.95 avg final scores self, opp:  63.15 50.67\n"
          ],
          "name": "stdout"
        }
      ]
    },
    {
      "cell_type": "code",
      "metadata": {
        "id": "OenC4BFoRRtr"
      },
      "source": [
        "msne_scores = avg_self_final_scores"
      ],
      "execution_count": 62,
      "outputs": []
    },
    {
      "cell_type": "code",
      "metadata": {
        "colab": {
          "base_uri": "https://localhost:8080/"
        },
        "id": "MObhZFMZ-2FR",
        "outputId": "cdf70f7b-0e32-4697-d8cb-912ade80d691"
      },
      "source": [
        "print(\"UK, China average score for 50 rounds: \", avg_self_final_scores[-1], \",\", avg_opponent_final_scores[-1])"
      ],
      "execution_count": 64,
      "outputs": [
        {
          "output_type": "stream",
          "text": [
            "UK, China average score for 50 rounds:  63.15 , 50.67\n"
          ],
          "name": "stdout"
        }
      ]
    },
    {
      "cell_type": "markdown",
      "metadata": {
        "id": "C16Eu-FS_k5B"
      },
      "source": [
        "---\r\n",
        "## UK plays MSNE-TFT\r\n",
        "\r\n",
        "For all strategies below we reuse the same code as above but with different player (strategies)"
      ]
    },
    {
      "cell_type": "code",
      "metadata": {
        "colab": {
          "base_uri": "https://localhost:8080/",
          "height": 1000
        },
        "id": "QNSq0TBexxt3",
        "outputId": "abaa60e1-f1db-41b1-f872-171161aa9982"
      },
      "source": [
        "# uk plays msne then tft, china plays with msne prob then tit for tat\n",
        "\n",
        "players = [uk_msne_tft(), china_msne_tft()]\n",
        "\n",
        "avg_self_coops, avg_opp_coops, avg_self_final_scores, avg_opponent_final_scores = iterate(50, players)\n",
        "\n",
        "\n",
        "# plot figure\n",
        "stats(50, avg_self_coops, avg_opp_coops, avg_self_final_scores, avg_opponent_final_scores)"
      ],
      "execution_count": 65,
      "outputs": [
        {
          "output_type": "display_data",
          "data": {
            "image/png": "[encoded data removed]",
            "text/plain": [
              "<Figure size 1440x360 with 1 Axes>"
            ]
          },
          "metadata": {
            "tags": [],
            "needs_background": "light"
          }
        },
        {
          "output_type": "stream",
          "text": [
            "1 avg # coops 0.55 0.34 avg final scores self, opp:  1.08 1.08\n",
            "2 avg # coops 0.96 0.87 avg final scores self, opp:  2.33 1.99\n",
            "3 avg # coops 1.48 1.47 avg final scores self, opp:  3.74 3.01\n",
            "4 avg # coops 2.01 1.9 avg final scores self, opp:  4.81 3.98\n",
            "5 avg # coops 2.36 2.35 avg final scores self, opp:  6.03 4.91\n",
            "6 avg # coops 2.9 2.9 avg final scores self, opp:  7.18 5.82\n",
            "7 avg # coops 3.15 3.01 avg final scores self, opp:  7.36 6.33\n",
            "8 avg # coops 3.92 3.68 avg final scores self, opp:  9.6 8\n",
            "9 avg # coops 4.36 4.09 avg final scores self, opp:  10.58 8.87\n",
            "10 avg # coops 4.63 4.62 avg final scores self, opp:  11.46 9.44\n",
            "11 avg # coops 5.07 4.87 avg final scores self, opp:  12.26 10.35\n",
            "12 avg # coops 6.04 5.8 avg final scores self, opp:  13.97 11.54\n",
            "13 avg # coops 6.92 7 avg final scores self, opp:  17.18 13.4\n",
            "14 avg # coops 7.1 7.28 avg final scores self, opp:  18.3 14.32\n",
            "15 avg # coops 7.69 7.67 avg final scores self, opp:  19.22 15.27\n",
            "16 avg # coops 8.16 8.16 avg final scores self, opp:  19.96 15.92\n",
            "17 avg # coops 8.39 8.09 avg final scores self, opp:  20.34 16.73\n",
            "18 avg # coops 8.82 8.83 avg final scores self, opp:  22.41 17.99\n",
            "19 avg # coops 9.6 9.12 avg final scores self, opp:  23.95 19.58\n",
            "20 avg # coops 9.97 10.02 avg final scores self, opp:  25 19.96\n",
            "21 avg # coops 10.3 10.39 avg final scores self, opp:  25.31 20.35\n",
            "22 avg # coops 10.93 10.72 avg final scores self, opp:  26.49 21.56\n",
            "23 avg # coops 11.48 11.57 avg final scores self, opp:  27.93 22.37\n",
            "24 avg # coops 12.1 12.17 avg final scores self, opp:  30.8 24.43\n",
            "25 avg # coops 12.22 12.26 avg final scores self, opp:  30.21 24.36\n",
            "26 avg # coops 12.93 12.89 avg final scores self, opp:  32.99 26.39\n",
            "27 avg # coops 13.21 13.45 avg final scores self, opp:  33.29 26.55\n",
            "28 avg # coops 13.99 14.15 avg final scores self, opp:  36.57 28.89\n",
            "29 avg # coops 14.53 14.56 avg final scores self, opp:  36.76 29.3\n",
            "30 avg # coops 15.65 15.79 avg final scores self, opp:  40.15 31.41\n",
            "31 avg # coops 16.17 15.98 avg final scores self, opp:  38.74 30.96\n",
            "32 avg # coops 15.91 16.05 avg final scores self, opp:  40.24 32.05\n",
            "33 avg # coops 16.53 15.9 avg final scores self, opp:  40.05 32.82\n",
            "34 avg # coops 17.09 16.26 avg final scores self, opp:  41.57 34.18\n",
            "35 avg # coops 18.41 18.04 avg final scores self, opp:  45.69 36.36\n",
            "36 avg # coops 17.49 17.23 avg final scores self, opp:  44.64 36.19\n",
            "37 avg # coops 18.58 18.2 avg final scores self, opp:  46.2 37.32\n",
            "38 avg # coops 17.88 17.69 avg final scores self, opp:  44.93 36.85\n",
            "39 avg # coops 19.21 19.29 avg final scores self, opp:  47.93 38.47\n",
            "40 avg # coops 20.02 19.74 avg final scores self, opp:  49.8 40.14\n",
            "41 avg # coops 20.29 19.68 avg final scores self, opp:  49.93 40.8\n",
            "42 avg # coops 20.4 20.34 avg final scores self, opp:  51.96 41.9\n",
            "43 avg # coops 21.47 21.68 avg final scores self, opp:  54.47 43.28\n",
            "44 avg # coops 21.5 21.6 avg final scores self, opp:  53.46 43.04\n",
            "45 avg # coops 22.39 22.34 avg final scores self, opp:  54.44 43.88\n",
            "46 avg # coops 23.09 23.16 avg final scores self, opp:  58.28 46.42\n",
            "47 avg # coops 23.55 23.31 avg final scores self, opp:  58.82 47.27\n",
            "48 avg # coops 23.45 23.82 avg final scores self, opp:  60.19 47.94\n",
            "49 avg # coops 23.91 24.16 avg final scores self, opp:  60.61 48.52\n",
            "50 avg # coops 24.74 24.96 avg final scores self, opp:  62.37 49.78\n"
          ],
          "name": "stdout"
        }
      ]
    },
    {
      "cell_type": "code",
      "metadata": {
        "id": "TovN5sWnRUTi"
      },
      "source": [
        "msne_tft_scores = avg_self_final_scores"
      ],
      "execution_count": 66,
      "outputs": []
    },
    {
      "cell_type": "code",
      "metadata": {
        "colab": {
          "base_uri": "https://localhost:8080/"
        },
        "id": "l0qxZTvm_4Q5",
        "outputId": "9d06fcdb-2b88-405e-a0c3-72e17b73a276"
      },
      "source": [
        "print(\"UK, China average score for 50 rounds: \", avg_self_final_scores[-1], \",\", avg_opponent_final_scores[-1])"
      ],
      "execution_count": 67,
      "outputs": [
        {
          "output_type": "stream",
          "text": [
            "UK, China average score for 50 rounds:  62.37 , 49.78\n"
          ],
          "name": "stdout"
        }
      ]
    },
    {
      "cell_type": "markdown",
      "metadata": {
        "id": "eVYAWmLe_8ZV"
      },
      "source": [
        "---\r\n",
        "## UK plays D-TFT"
      ]
    },
    {
      "cell_type": "code",
      "metadata": {
        "colab": {
          "base_uri": "https://localhost:8080/",
          "height": 1000
        },
        "id": "rLh_3CXIxxt4",
        "outputId": "3232920b-b600-4db8-e996-f2c87cdfc1d6"
      },
      "source": [
        "# uk plays defect then tft, china plays with msne prob then tit for tat\n",
        "\n",
        "players = [uk_def_tft, china_msne_tft()]\n",
        "\n",
        "avg_self_coops, avg_opp_coops, avg_self_final_scores, avg_opponent_final_scores = iterate(50, players)\n",
        "\n",
        "\n",
        "# plot figure\n",
        "stats(50, avg_self_coops, avg_opp_coops, avg_self_final_scores, avg_opponent_final_scores)"
      ],
      "execution_count": 68,
      "outputs": [
        {
          "output_type": "display_data",
          "data": {
            "image/png": "[encoded data removed]",
            "text/plain": [
              "<Figure size 1440x360 with 1 Axes>"
            ]
          },
          "metadata": {
            "tags": [],
            "needs_background": "light"
          }
        },
        {
          "output_type": "stream",
          "text": [
            "1 avg # coops 0.23 0.4 avg final scores self, opp:  0.95 0.72\n",
            "2 avg # coops 0.72 0.73 avg final scores self, opp:  2.03 1.77\n",
            "3 avg # coops 0.94 1.18 avg final scores self, opp:  3.14 2.54\n",
            "4 avg # coops 1.29 1.36 avg final scores self, opp:  4.3 3.7\n",
            "5 avg # coops 2.11 2.04 avg final scores self, opp:  5.56 4.74\n",
            "6 avg # coops 2.62 2.72 avg final scores self, opp:  6.89 5.62\n",
            "7 avg # coops 2.98 3.1 avg final scores self, opp:  8.34 6.78\n",
            "8 avg # coops 3.24 3.49 avg final scores self, opp:  9.23 7.49\n",
            "9 avg # coops 3.9 4.03 avg final scores self, opp:  10.59 8.63\n",
            "10 avg # coops 4.38 4.35 avg final scores self, opp:  11.32 9.45\n",
            "11 avg # coops 4.71 4.7 avg final scores self, opp:  12.89 10.7\n",
            "12 avg # coops 5.74 5.67 avg final scores self, opp:  15.14 12.25\n",
            "13 avg # coops 6.05 6.25 avg final scores self, opp:  15.89 12.71\n",
            "14 avg # coops 6.03 6.37 avg final scores self, opp:  16.7 13.45\n",
            "15 avg # coops 7.04 6.96 avg final scores self, opp:  17.74 14.56\n",
            "16 avg # coops 7.09 7.34 avg final scores self, opp:  18.6 15.12\n",
            "17 avg # coops 8 8.16 avg final scores self, opp:  20.4 16.44\n",
            "18 avg # coops 8.79 9.1 avg final scores self, opp:  22.95 18.06\n",
            "19 avg # coops 8.6 8.73 avg final scores self, opp:  21.62 17.75\n",
            "20 avg # coops 9.02 9.1 avg final scores self, opp:  23.25 19.08\n",
            "21 avg # coops 9.74 9.54 avg final scores self, opp:  24.67 20.4\n",
            "22 avg # coops 10.16 10.56 avg final scores self, opp:  26.75 21.38\n",
            "23 avg # coops 10.93 11.1 avg final scores self, opp:  28.6 22.92\n",
            "24 avg # coops 11.1 11.23 avg final scores self, opp:  28.65 23.27\n",
            "25 avg # coops 11.93 12.19 avg final scores self, opp:  29.87 24.01\n",
            "26 avg # coops 12.56 12.71 avg final scores self, opp:  32.28 25.85\n",
            "27 avg # coops 12.5 13.07 avg final scores self, opp:  32.11 25.67\n",
            "28 avg # coops 13.54 13.75 avg final scores self, opp:  34.8 27.81\n",
            "29 avg # coops 14.04 14.04 avg final scores self, opp:  35.6 28.72\n",
            "30 avg # coops 14.53 14.45 avg final scores self, opp:  36.14 29.33\n",
            "31 avg # coops 14.8 14.69 avg final scores self, opp:  37.47 30.49\n",
            "32 avg # coops 15.72 15.66 avg final scores self, opp:  39.2 31.62\n",
            "33 avg # coops 15.56 15.91 avg final scores self, opp:  41.02 32.81\n",
            "34 avg # coops 16.77 16.86 avg final scores self, opp:  41.98 33.64\n",
            "35 avg # coops 17.32 17.51 avg final scores self, opp:  44.56 35.41\n",
            "36 avg # coops 17.06 17.51 avg final scores self, opp:  44.26 35.37\n",
            "37 avg # coops 18.43 18.85 avg final scores self, opp:  47.16 37.21\n",
            "38 avg # coops 18.75 18.3 avg final scores self, opp:  45.32 37.08\n",
            "39 avg # coops 19.55 19.57 avg final scores self, opp:  48.52 38.81\n",
            "40 avg # coops 19.27 19.13 avg final scores self, opp:  48.18 39.17\n",
            "41 avg # coops 19.48 19.5 avg final scores self, opp:  49.6 40.22\n",
            "42 avg # coops 20.6 20.68 avg final scores self, opp:  51.67 41.5\n",
            "43 avg # coops 20.64 20.96 avg final scores self, opp:  51.25 41.3\n",
            "44 avg # coops 21.54 21.55 avg final scores self, opp:  53.78 43.33\n",
            "45 avg # coops 21.68 22.09 avg final scores self, opp:  55.39 44.29\n",
            "46 avg # coops 22.1 22.21 avg final scores self, opp:  56.09 45.25\n",
            "47 avg # coops 21.89 22.12 avg final scores self, opp:  56.43 45.76\n",
            "48 avg # coops 23.28 23.43 avg final scores self, opp:  58.86 47.33\n",
            "49 avg # coops 23.58 23.79 avg final scores self, opp:  60.13 48.35\n",
            "50 avg # coops 24.78 24.96 avg final scores self, opp:  63.02 50.24\n"
          ],
          "name": "stdout"
        }
      ]
    },
    {
      "cell_type": "code",
      "metadata": {
        "id": "iQzArgGERdrm"
      },
      "source": [
        "def_tft_scores = avg_self_final_scores"
      ],
      "execution_count": 69,
      "outputs": []
    },
    {
      "cell_type": "code",
      "metadata": {
        "colab": {
          "base_uri": "https://localhost:8080/"
        },
        "id": "lGK0IdrPAa52",
        "outputId": "adde3968-9cb5-4985-a83a-5d6746af3848"
      },
      "source": [
        "print(\"UK, China average score for 50 rounds: \", avg_self_final_scores[-1], \",\", avg_opponent_final_scores[-1])"
      ],
      "execution_count": 70,
      "outputs": [
        {
          "output_type": "stream",
          "text": [
            "UK, China average score for 50 rounds:  63.02 , 50.24\n"
          ],
          "name": "stdout"
        }
      ]
    },
    {
      "cell_type": "markdown",
      "metadata": {
        "id": "cZ64kqzuAnAH"
      },
      "source": [
        "---\r\n",
        "## UK plays C-TFT"
      ]
    },
    {
      "cell_type": "code",
      "metadata": {
        "colab": {
          "base_uri": "https://localhost:8080/",
          "height": 1000
        },
        "id": "UX1cYMOlxxt5",
        "outputId": "0878daf2-72ce-4116-b4d7-ff47d0fd0a3a"
      },
      "source": [
        "# uk plays cooperate then tit for tat, china plays with msne prob then tit for tat\n",
        "\n",
        "players = [uk_coop_tft, china_msne_tft()]\n",
        "\n",
        "avg_self_coops, avg_opp_coops, avg_self_final_scores, avg_opponent_final_scores = iterate(50, players)\n",
        "\n",
        "\n",
        "# plot figure\n",
        "stats(50, avg_self_coops, avg_opp_coops, avg_self_final_scores, avg_opponent_final_scores)"
      ],
      "execution_count": 71,
      "outputs": [
        {
          "output_type": "display_data",
          "data": {
            "image/png": "[encoded data removed]",
            "text/plain": [
              "<Figure size 1440x360 with 1 Axes>"
            ]
          },
          "metadata": {
            "tags": [],
            "needs_background": "light"
          }
        },
        {
          "output_type": "stream",
          "text": [
            "1 avg # coops 0.78 0.44 avg final scores self, opp:  1.27 1.26\n",
            "2 avg # coops 1.26 1.14 avg final scores self, opp:  2.84 2.26\n",
            "3 avg # coops 1.78 1.43 avg final scores self, opp:  3.62 3.17\n",
            "4 avg # coops 2.44 2.2 avg final scores self, opp:  5.37 4.34\n",
            "5 avg # coops 2.93 2.64 avg final scores self, opp:  6.24 5.14\n",
            "6 avg # coops 3.5 3.24 avg final scores self, opp:  7.69 6.22\n",
            "7 avg # coops 3.85 3.63 avg final scores self, opp:  8.73 7.09\n",
            "8 avg # coops 4.24 4.12 avg final scores self, opp:  10 8.04\n",
            "9 avg # coops 4.72 4.41 avg final scores self, opp:  11.39 9.33\n",
            "10 avg # coops 5.41 5.11 avg final scores self, opp:  12.48 10.15\n",
            "11 avg # coops 5.77 5.57 avg final scores self, opp:  14.02 11.29\n",
            "12 avg # coops 6.03 5.77 avg final scores self, opp:  15.48 12.57\n",
            "13 avg # coops 6.79 6.53 avg final scores self, opp:  16.23 13.15\n",
            "14 avg # coops 7.58 7.15 avg final scores self, opp:  17.67 14.35\n",
            "15 avg # coops 7.98 7.86 avg final scores self, opp:  19.32 15.34\n",
            "16 avg # coops 8.08 7.79 avg final scores self, opp:  19.98 16.25\n",
            "17 avg # coops 8.92 8.66 avg final scores self, opp:  21.85 17.52\n",
            "18 avg # coops 9.63 9.59 avg final scores self, opp:  22.77 18.01\n",
            "19 avg # coops 9.99 9.78 avg final scores self, opp:  24.43 19.5\n",
            "20 avg # coops 10.38 10.4 avg final scores self, opp:  25.7 20.32\n",
            "21 avg # coops 10.83 10.76 avg final scores self, opp:  26.28 20.98\n",
            "22 avg # coops 11.17 10.91 avg final scores self, opp:  26.82 21.75\n",
            "23 avg # coops 12.29 11.85 avg final scores self, opp:  29.43 23.63\n",
            "24 avg # coops 12.9 12.72 avg final scores self, opp:  31.8 25.08\n",
            "25 avg # coops 13.19 12.8 avg final scores self, opp:  31.19 25.12\n",
            "26 avg # coops 13.3 13.07 avg final scores self, opp:  32.47 26.11\n",
            "27 avg # coops 14.47 14.26 avg final scores self, opp:  35.63 28.14\n",
            "28 avg # coops 14.26 13.8 avg final scores self, opp:  34.26 27.88\n",
            "29 avg # coops 15.81 15.44 avg final scores self, opp:  38.15 30.2\n",
            "30 avg # coops 15.79 15.48 avg final scores self, opp:  37.73 30.2\n",
            "31 avg # coops 15.71 15.64 avg final scores self, opp:  39.71 31.64\n",
            "32 avg # coops 16.15 15.97 avg final scores self, opp:  40.24 32.29\n",
            "33 avg # coops 16.59 16.5 avg final scores self, opp:  40.56 32.6\n",
            "34 avg # coops 17.52 17.02 avg final scores self, opp:  43.33 34.88\n",
            "35 avg # coops 18.36 18 avg final scores self, opp:  45.14 36\n",
            "36 avg # coops 18.32 18.26 avg final scores self, opp:  46.12 36.7\n",
            "37 avg # coops 19.09 18.71 avg final scores self, opp:  48.39 38.61\n",
            "38 avg # coops 19.82 19.19 avg final scores self, opp:  49.59 39.75\n",
            "39 avg # coops 19.66 19.54 avg final scores self, opp:  50.12 39.98\n",
            "40 avg # coops 19.94 20.01 avg final scores self, opp:  49.1 39.35\n",
            "41 avg # coops 21.04 20.7 avg final scores self, opp:  51.34 41.22\n",
            "42 avg # coops 21.11 21.01 avg final scores self, opp:  52.12 41.81\n",
            "43 avg # coops 21.67 21.37 avg final scores self, opp:  53.61 43.15\n",
            "44 avg # coops 22.68 22.23 avg final scores self, opp:  54.56 43.93\n",
            "45 avg # coops 22.29 21.76 avg final scores self, opp:  54.39 44.36\n",
            "46 avg # coops 23.59 23.41 avg final scores self, opp:  59.01 46.99\n",
            "47 avg # coops 23.93 23.67 avg final scores self, opp:  59.19 47.41\n",
            "48 avg # coops 24.84 24.9 avg final scores self, opp:  61.5 48.66\n",
            "49 avg # coops 25.22 24.89 avg final scores self, opp:  61.94 49.55\n",
            "50 avg # coops 25.76 25.3 avg final scores self, opp:  63.57 50.92\n"
          ],
          "name": "stdout"
        }
      ]
    },
    {
      "cell_type": "code",
      "metadata": {
        "id": "fA3qef_CRhDr"
      },
      "source": [
        "coop_tft_scores = avg_self_final_scores"
      ],
      "execution_count": 72,
      "outputs": []
    },
    {
      "cell_type": "code",
      "metadata": {
        "colab": {
          "base_uri": "https://localhost:8080/"
        },
        "id": "PAvHsnpRBPAV",
        "outputId": "6cc9595a-6daf-41cc-8f03-f9e50cdaeabb"
      },
      "source": [
        "print(\"UK, China average score for 50 rounds: \", avg_self_final_scores[-1], \",\", avg_opponent_final_scores[-1])"
      ],
      "execution_count": 73,
      "outputs": [
        {
          "output_type": "stream",
          "text": [
            "UK, China average score for 50 rounds:  63.57 , 50.92\n"
          ],
          "name": "stdout"
        }
      ]
    },
    {
      "cell_type": "markdown",
      "metadata": {
        "id": "hx9dO4pBBQ0J"
      },
      "source": [
        "---\r\n",
        "## UK plays D"
      ]
    },
    {
      "cell_type": "code",
      "metadata": {
        "colab": {
          "base_uri": "https://localhost:8080/",
          "height": 1000
        },
        "id": "jH3k_NiIxxt6",
        "outputId": "4f243ebd-e670-4d24-cb82-a2e3a42dacac"
      },
      "source": [
        "# uk plays always defect, china plays with msne prob then tit for tat\n",
        "\n",
        "players = [uk_def, china_msne_tft()]\n",
        "\n",
        "avg_self_coops, avg_opp_coops, avg_self_final_scores, avg_opponent_final_scores = iterate(50, players)\n",
        "\n",
        "\n",
        "# plot figure\n",
        "stats(50, avg_self_coops, avg_opp_coops, avg_self_final_scores, avg_opponent_final_scores)"
      ],
      "execution_count": 74,
      "outputs": [
        {
          "output_type": "display_data",
          "data": {
            "image/png": "[encoded data removed]",
            "text/plain": [
              "<Figure size 1440x360 with 1 Axes>"
            ]
          },
          "metadata": {
            "tags": [],
            "needs_background": "light"
          }
        },
        {
          "output_type": "stream",
          "text": [
            "1 avg # coops 0.22 0.4 avg final scores self, opp:  0.99 0.74\n",
            "2 avg # coops 0.43 0.72 avg final scores self, opp:  2.02 1.58\n",
            "3 avg # coops 0.67 0.87 avg final scores self, opp:  3.08 2.63\n",
            "4 avg # coops 0.76 1.4 avg final scores self, opp:  3.99 3.1\n",
            "5 avg # coops 0.96 1.59 avg final scores self, opp:  5.15 4.15\n",
            "6 avg # coops 1.2 1.95 avg final scores self, opp:  6.06 4.89\n",
            "7 avg # coops 1.16 2.08 avg final scores self, opp:  6.86 5.6\n",
            "8 avg # coops 1.6 2.64 avg final scores self, opp:  8.11 6.5\n",
            "9 avg # coops 1.82 3.01 avg final scores self, opp:  9.1 7.27\n",
            "10 avg # coops 1.72 3.31 avg final scores self, opp:  10.05 7.87\n",
            "11 avg # coops 2.26 3.64 avg final scores self, opp:  10.9 8.8\n",
            "12 avg # coops 2.22 3.57 avg final scores self, opp:  11.7 9.71\n",
            "13 avg # coops 2.76 4.54 avg final scores self, opp:  13.24 10.46\n",
            "14 avg # coops 3.13 4.73 avg final scores self, opp:  14.35 11.59\n",
            "15 avg # coops 3.23 5.03 avg final scores self, opp:  14.95 12.09\n",
            "16 avg # coops 3.23 4.94 avg final scores self, opp:  15.62 12.96\n",
            "17 avg # coops 3.71 6.03 avg final scores self, opp:  17.4 13.71\n",
            "18 avg # coops 3.89 5.97 avg final scores self, opp:  18.07 14.67\n",
            "19 avg # coops 3.67 6.26 avg final scores self, opp:  18.87 15.1\n",
            "20 avg # coops 3.83 6.46 avg final scores self, opp:  19.83 15.98\n",
            "21 avg # coops 4.18 6.79 avg final scores self, opp:  20.48 16.65\n",
            "22 avg # coops 4.8 7.75 avg final scores self, opp:  22.54 17.81\n",
            "23 avg # coops 4.73 7.52 avg final scores self, opp:  22.44 18.26\n",
            "24 avg # coops 4.54 7.71 avg final scores self, opp:  24.02 19.33\n",
            "25 avg # coops 4.86 7.91 avg final scores self, opp:  24.85 20.23\n",
            "26 avg # coops 5.15 8.24 avg final scores self, opp:  25.17 20.64\n",
            "27 avg # coops 5.39 8.75 avg final scores self, opp:  27.07 21.89\n",
            "28 avg # coops 5.48 8.98 avg final scores self, opp:  27.56 22.38\n",
            "29 avg # coops 5.99 9.17 avg final scores self, opp:  29.1 23.89\n",
            "30 avg # coops 6.21 9.38 avg final scores self, opp:  29.31 24.3\n",
            "31 avg # coops 5.82 9.59 avg final scores self, opp:  30.97 25.27\n",
            "32 avg # coops 6.27 10.14 avg final scores self, opp:  31.94 26\n",
            "33 avg # coops 6.23 10.29 avg final scores self, opp:  33.16 26.97\n",
            "34 avg # coops 6.71 11.15 avg final scores self, opp:  34.25 27.49\n",
            "35 avg # coops 7.35 11.28 avg final scores self, opp:  34.61 28.36\n",
            "36 avg # coops 6.91 11.1 avg final scores self, opp:  35.03 28.86\n",
            "37 avg # coops 7.38 12.1 avg final scores self, opp:  37.27 30\n",
            "38 avg # coops 7.54 12.5 avg final scores self, opp:  37.9 30.46\n",
            "39 avg # coops 8.37 12.94 avg final scores self, opp:  38.7 31.44\n",
            "40 avg # coops 7.77 12.74 avg final scores self, opp:  39.58 32.16\n",
            "41 avg # coops 8.03 12.97 avg final scores self, opp:  40.44 33.01\n",
            "42 avg # coops 8.51 13.64 avg final scores self, opp:  42.82 34.58\n",
            "43 avg # coops 8.91 13.66 avg final scores self, opp:  42.82 35.16\n",
            "44 avg # coops 8.96 13.81 avg final scores self, opp:  43.23 35.65\n",
            "45 avg # coops 8.85 14.31 avg final scores self, opp:  45.12 36.67\n",
            "46 avg # coops 9.04 14.99 avg final scores self, opp:  45.99 37.03\n",
            "47 avg # coops 9.64 15.18 avg final scores self, opp:  47.2 38.38\n",
            "48 avg # coops 9.27 15.24 avg final scores self, opp:  47.7 38.74\n",
            "49 avg # coops 9.57 16.05 avg final scores self, opp:  49.15 39.43\n",
            "50 avg # coops 9.44 16.19 avg final scores self, opp:  49.41 39.71\n"
          ],
          "name": "stdout"
        }
      ]
    },
    {
      "cell_type": "code",
      "metadata": {
        "id": "Yo17XBSAP0ad"
      },
      "source": [
        "def_scores = avg_self_final_scores"
      ],
      "execution_count": 75,
      "outputs": []
    },
    {
      "cell_type": "code",
      "metadata": {
        "colab": {
          "base_uri": "https://localhost:8080/"
        },
        "id": "E7MievNmBZf7",
        "outputId": "0cb88057-9ade-4fe2-e669-81d0b36cce34"
      },
      "source": [
        "print(\"UK, China average score for 50 rounds: \", avg_self_final_scores[-1], \",\", avg_opponent_final_scores[-1])"
      ],
      "execution_count": 76,
      "outputs": [
        {
          "output_type": "stream",
          "text": [
            "UK, China average score for 50 rounds:  49.41 , 39.71\n"
          ],
          "name": "stdout"
        }
      ]
    },
    {
      "cell_type": "markdown",
      "metadata": {
        "id": "1U8XwbSHBndg"
      },
      "source": [
        "--- \r\n",
        "## UK plays C"
      ]
    },
    {
      "cell_type": "code",
      "metadata": {
        "colab": {
          "base_uri": "https://localhost:8080/",
          "height": 1000
        },
        "id": "g5YmjftvLHoR",
        "outputId": "29921715-e36b-4d2a-f7e9-1eac63bd5b10"
      },
      "source": [
        "# uk plays always cooperate, china plays with msne prob then tit for tat\r\n",
        "\r\n",
        "players = [uk_coop, china_msne_tft()]\r\n",
        "\r\n",
        "avg_self_coops, avg_opp_coops, avg_self_final_scores, avg_opponent_final_scores = iterate(50, players)\r\n",
        "\r\n",
        "\r\n",
        "# plot figure\r\n",
        "stats(50, avg_self_coops, avg_opp_coops, avg_self_final_scores, avg_opponent_final_scores)"
      ],
      "execution_count": 80,
      "outputs": [
        {
          "output_type": "display_data",
          "data": {
            "image/png": "[encoded data removed]",
            "text/plain": [
              "<Figure size 1440x360 with 1 Axes>"
            ]
          },
          "metadata": {
            "tags": [],
            "needs_background": "light"
          }
        },
        {
          "output_type": "stream",
          "text": [
            "1 avg # coops 0.79 0.31 avg final scores self, opp:  0.99 1.21\n",
            "2 avg # coops 1.4 0.97 avg final scores self, opp:  2.52 2.31\n",
            "3 avg # coops 2.26 1.74 avg final scores self, opp:  4.55 3.8\n",
            "4 avg # coops 3.28 2.35 avg final scores self, opp:  6.39 5.43\n",
            "5 avg # coops 3.94 3.12 avg final scores self, opp:  8.62 6.92\n",
            "6 avg # coops 4.69 3.73 avg final scores self, opp:  9.89 7.99\n",
            "7 avg # coops 5.64 4.32 avg final scores self, opp:  11.65 9.54\n",
            "8 avg # coops 6.34 5.18 avg final scores self, opp:  13.93 11\n",
            "9 avg # coops 7.05 5.88 avg final scores self, opp:  15.69 12.28\n",
            "10 avg # coops 8.12 6.41 avg final scores self, opp:  17.6 14.07\n",
            "11 avg # coops 8.96 7.38 avg final scores self, opp:  20.07 15.64\n",
            "12 avg # coops 9.45 7.86 avg final scores self, opp:  21.03 16.46\n",
            "13 avg # coops 10.2 8.42 avg final scores self, opp:  22.69 17.84\n",
            "14 avg # coops 11.22 9.13 avg final scores self, opp:  24.32 19.23\n",
            "15 avg # coops 11.89 9.93 avg final scores self, opp:  26.78 20.85\n",
            "16 avg # coops 12.62 10.41 avg final scores self, opp:  27.86 21.91\n",
            "17 avg # coops 13.58 11.28 avg final scores self, opp:  30.24 23.6\n",
            "18 avg # coops 14.22 11.98 avg final scores self, opp:  31.98 24.82\n",
            "19 avg # coops 15.02 12.46 avg final scores self, opp:  33.29 26.08\n",
            "20 avg # coops 16.11 13.38 avg final scores self, opp:  36.2 28.16\n",
            "21 avg # coops 17.02 14.15 avg final scores self, opp:  38.33 29.75\n",
            "22 avg # coops 17.48 14.56 avg final scores self, opp:  39.32 30.64\n",
            "23 avg # coops 18.68 15.75 avg final scores self, opp:  43.23 33.19\n",
            "24 avg # coops 19.16 16.22 avg final scores self, opp:  43.78 33.74\n",
            "25 avg # coops 19.98 16.87 avg final scores self, opp:  44.95 34.75\n",
            "26 avg # coops 20.99 17.26 avg final scores self, opp:  46.8 36.6\n",
            "27 avg # coops 21.92 18.32 avg final scores self, opp:  49.27 38.14\n",
            "28 avg # coops 22.62 19.09 avg final scores self, opp:  52.12 40.07\n",
            "29 avg # coops 23.37 20.09 avg final scores self, opp:  54.38 41.41\n",
            "30 avg # coops 24.34 20.48 avg final scores self, opp:  55.25 42.58\n",
            "31 avg # coops 24.79 20.82 avg final scores self, opp:  56.49 43.7\n",
            "32 avg # coops 25.43 21.16 avg final scores self, opp:  57.3 44.66\n",
            "33 avg # coops 26.61 22.45 avg final scores self, opp:  60.18 46.41\n",
            "34 avg # coops 26.93 22.45 avg final scores self, opp:  60.5 47.17\n",
            "35 avg # coops 27.67 23.44 avg final scores self, opp:  62.77 48.52\n",
            "36 avg # coops 28.88 24.15 avg final scores self, opp:  65.47 50.75\n",
            "37 avg # coops 29.49 24.59 avg final scores self, opp:  66.64 51.83\n",
            "38 avg # coops 30.35 25.34 avg final scores self, opp:  69.03 53.58\n",
            "39 avg # coops 31.29 26.03 avg final scores self, opp:  70.32 54.71\n",
            "40 avg # coops 31.76 27.18 avg final scores self, opp:  72.8 55.86\n",
            "41 avg # coops 32.89 27.84 avg final scores self, opp:  75.04 57.78\n",
            "42 avg # coops 33.55 28.33 avg final scores self, opp:  76.94 59.33\n",
            "43 avg # coops 34.65 29.62 avg final scores self, opp:  79.48 60.8\n",
            "44 avg # coops 34.81 29.26 avg final scores self, opp:  78.64 61.04\n",
            "45 avg # coops 35.38 30.28 avg final scores self, opp:  81.05 62.34\n",
            "46 avg # coops 36.22 30.96 avg final scores self, opp:  83.04 63.88\n",
            "47 avg # coops 37.23 31.58 avg final scores self, opp:  84.92 65.52\n",
            "48 avg # coops 38.45 32.07 avg final scores self, opp:  87.34 67.79\n",
            "49 avg # coops 39.18 33.1 avg final scores self, opp:  89.56 69.06\n",
            "50 avg # coops 39.96 33.77 avg final scores self, opp:  91.22 70.35\n"
          ],
          "name": "stdout"
        }
      ]
    },
    {
      "cell_type": "code",
      "metadata": {
        "id": "kYPCoY9_Pn8I"
      },
      "source": [
        "coop_scores = avg_self_final_scores"
      ],
      "execution_count": 81,
      "outputs": []
    },
    {
      "cell_type": "code",
      "metadata": {
        "colab": {
          "base_uri": "https://localhost:8080/"
        },
        "id": "20cNCcdABsvu",
        "outputId": "5c4c0e6c-eaa2-4964-c49f-7419d6372114"
      },
      "source": [
        "print(\"UK, China average score for 50 rounds: \", avg_self_final_scores[-1], \",\", avg_opponent_final_scores[-1])"
      ],
      "execution_count": 82,
      "outputs": [
        {
          "output_type": "stream",
          "text": [
            "UK, China average score for 50 rounds:  91.22 , 70.35\n"
          ],
          "name": "stdout"
        }
      ]
    },
    {
      "cell_type": "markdown",
      "metadata": {
        "id": "eyoqUDKK1NrB"
      },
      "source": [
        "\r\n",
        "---\r\n",
        "\r\n",
        "# Plotting UK payoffs\r\n"
      ]
    },
    {
      "cell_type": "code",
      "metadata": {
        "id": "3StkgXrxPh7D"
      },
      "source": [
        "import matplotlib.pylab as pylab\r\n",
        "params = {'legend.fontsize': '9',\r\n",
        "          'figure.figsize': (6, 3),\r\n",
        "         'axes.labelsize': '9',\r\n",
        "         'axes.titlesize':'9',\r\n",
        "         'xtick.labelsize':'9',\r\n",
        "         'ytick.labelsize':'7'}\r\n",
        "pylab.rcParams.update(params)\r\n"
      ],
      "execution_count": 106,
      "outputs": []
    },
    {
      "cell_type": "code",
      "metadata": {
        "colab": {
          "base_uri": "https://localhost:8080/",
          "height": 236
        },
        "id": "TIwh9XroaTU_",
        "outputId": "c9e86ef3-5a1c-4f01-8f06-72b4fadc7c2e"
      },
      "source": [
        "# creating x axis values (# rounds per game)\r\n",
        "x = [x for x in range(1,51)] \r\n",
        "\r\n",
        "# setting marker size on graph\r\n",
        "ms = 1\r\n",
        "\r\n",
        "# plot lines\r\n",
        "plt.plot(x, coop_scores, label = \"C\", markersize=ms, marker=\"o\", alpha=0.6)\r\n",
        "plt.plot(x, def_scores, label = \"D\", markersize=ms, marker=\"o\", alpha=0.6)\r\n",
        "plt.plot(x, coop_tft_scores, label= \"C-TFT\", markersize=ms, marker=\"o\", alpha=0.6)\r\n",
        "plt.plot(x, def_tft_scores, label = \"D-TFT\", markersize=ms, marker=\"o\", alpha=0.6)\r\n",
        "plt.plot(x, msne_scores, label = \"MSNE\", markersize=ms, marker=\"o\", alpha=0.6)\r\n",
        "plt.plot(x, msne_tft_scores, label = \"MSNE-TFT\", markersize=ms, marker=\"o\", alpha=0.6)\r\n",
        "\r\n",
        "plt.xlabel(\"n (Number of rounds per game)\")\r\n",
        "plt.ylabel(\"Average final utility per game\")\r\n",
        "plt.title(\"Figure 4: Average final utilities per game of n rounds for different UK strategies\")\r\n",
        "plt.legend(title=\"UK strategy\")\r\n",
        "\r\n",
        "plt.savefig(\"uk_utils\")"
      ],
      "execution_count": 105,
      "outputs": [
        {
          "output_type": "display_data",
          "data": {
            "image/png": "[encoded data removed]",
            "text/plain": [
              "<Figure size 432x216 with 1 Axes>"
            ]
          },
          "metadata": {
            "tags": [],
            "needs_background": "light"
          }
        }
      ]
    },
    {
      "cell_type": "code",
      "metadata": {
        "id": "H7vPUieBbW-f"
      },
      "source": [
        ""
      ],
      "execution_count": null,
      "outputs": []
    }
  ]
}