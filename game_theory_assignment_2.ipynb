{
  "nbformat": 4,
  "nbformat_minor": 0,
  "metadata": {
    "colab": {
      "name": "game_theory_assignment_2_v3",
      "provenance": [],
      "collapsed_sections": [],
      "authorship_tag": "ABX9TyOrDDYjoEzFD/rJE50LTU0s",
      "include_colab_link": true
    },
    "kernelspec": {
      "name": "python3",
      "display_name": "Python 3"
    }
  },
  "cells": [
    {
      "cell_type": "markdown",
      "metadata": {
        "id": "view-in-github",
        "colab_type": "text"
      },
      "source": [
        "<a href=\"https://colab.research.google.com/github/joyjixu/game_theory/blob/main/game_theory_assignment_2.ipynb\" target=\"_parent\"><img src=\"https://colab.research.google.com/assets/colab-badge.svg\" alt=\"Open In Colab\"/></a>"
      ]
    },
    {
      "cell_type": "code",
      "metadata": {
        "id": "vvOfhNJ4KExT"
      },
      "source": [
        "# Import the required modules\n",
        "import numpy as np\n",
        "import matplotlib.pyplot as plt\n",
        "from scipy.stats import norm\n",
        "import matplotlib.pyplot as plt\n",
        "import scipy.integrate as integrate\n",
        "import pandas as pd\n"
      ],
      "execution_count": 41,
      "outputs": []
    },
    {
      "cell_type": "markdown",
      "metadata": {
        "id": "r7RlxMQYg4QI"
      },
      "source": [
        "# Plotting F(v)"
      ]
    },
    {
      "cell_type": "code",
      "metadata": {
        "id": "82wytAMsgozO"
      },
      "source": [
        "# We have calculated mu = 32.821, sigma = 9.404"
      ],
      "execution_count": 42,
      "outputs": []
    },
    {
      "cell_type": "code",
      "metadata": {
        "colab": {
          "base_uri": "https://localhost:8080/",
          "height": 295
        },
        "id": "mmW4PjmAKnSX",
        "outputId": "2da79cfb-2eff-4c23-c8a1-d3037c304abd"
      },
      "source": [
        "fig, ax = plt.subplots()\n",
        "\n",
        "x = np.linspace(0,70,1000)\n",
        "ax.plot(x,norm.pdf(x, loc=32.821, scale=9.404),'r-', alpha=0.6, label='norm pdf')\n",
        "plt.xlabel(\"Valuation (min spent)\")\n",
        "plt.ylabel(\"Probability\")\n",
        "plt.title(\"Figure 1: Distribution of valuations (minutes spent on application)\")\n",
        "plt.savefig(\"valuations\", dpi=200)"
      ],
      "execution_count": 43,
      "outputs": [
        {
          "output_type": "display_data",
          "data": {
            "image/png": "[encoded data removed]",
            "text/plain": [
              "<Figure size 432x288 with 1 Axes>"
            ]
          },
          "metadata": {
            "tags": [],
            "needs_background": "light"
          }
        }
      ]
    },
    {
      "cell_type": "code",
      "metadata": {
        "colab": {
          "base_uri": "https://localhost:8080/"
        },
        "id": "6-C3gejwgImz",
        "outputId": "ba5ff756-933f-4f87-c332-7470f66e3ccb"
      },
      "source": [
        "distribution = norm(loc=32.821, scale=9.404)\n",
        "\n",
        "# example of F(60)\n",
        "print(\"F(60):\", distribution.cdf(60))\n",
        "\n",
        "#check if F(30) should be approx 38\n",
        "print(\"F(30):\", distribution.cdf(30))"
      ],
      "execution_count": 64,
      "outputs": [
        {
          "output_type": "stream",
          "text": [
            "F(60): 0.9980747289229638\n",
            "F(30): 0.38209668901972693\n"
          ],
          "name": "stdout"
        }
      ]
    },
    {
      "cell_type": "markdown",
      "metadata": {
        "id": "spt32n3NFyC4"
      },
      "source": [
        "# Cost Function"
      ]
    },
    {
      "cell_type": "code",
      "metadata": {
        "colab": {
          "base_uri": "https://localhost:8080/"
        },
        "id": "W6ntdj-pA53K",
        "outputId": "b740489a-dde7-46e5-b182-d17857c62c5c"
      },
      "source": [
        "# defining a function that takes bidder characteristics as input and returns cost\n",
        "def get_cost(applications, months_experience, hours_search, days, verbose=False):\n",
        "\n",
        "  hours_experience = 30.5*24*months_experience\n",
        "  time_searching = integrate.quad(lambda x: x*hours_search, 0, days)[0]\n",
        "  cost = np.sqrt((time_searching*applications)/hours_experience)\n",
        "\n",
        "  \n",
        "  if verbose==True:\n",
        "    print(\"applications: {}, months experience: {}, hours spent applying per day: {}, days applying: {}\".format(applications, months_experience, hours_search, days))\n",
        "    print(\"Cost indicator:\", cost)\n",
        "\n",
        "  if cost<0:\n",
        "    return 0\n",
        "\n",
        "  return cost\n",
        "\n",
        "\n",
        "# player j\n",
        "print(\"j:\", get_cost(100,4,1,5, verbose = True))\n",
        "# player i\n",
        "print(\"i:\", get_cost(200,1,2,10, verbose = True))"
      ],
      "execution_count": 45,
      "outputs": [
        {
          "output_type": "stream",
          "text": [
            "applications: 100, months experience: 4, hours spent applying per day: 1, days applying: 5\n",
            "Cost indicator: 0.6533854668616459\n",
            "j: 0.6533854668616459\n",
            "applications: 200, months experience: 1, hours spent applying per day: 2, days applying: 10\n",
            "Cost indicator: 5.227083734893167\n",
            "i: 5.227083734893167\n"
          ],
          "name": "stdout"
        }
      ]
    },
    {
      "cell_type": "markdown",
      "metadata": {
        "id": "FE8SYj3kHWyc"
      },
      "source": [
        "# Optimal Bid"
      ]
    },
    {
      "cell_type": "code",
      "metadata": {
        "id": "TSwEdIgNiIyc"
      },
      "source": [
        "# defining a function that takes bidder characteristics and value v as input, and returns optimal bid b*i, taking into account cost\n",
        "\n",
        "def get_bid(applications, months_experience, hours_search, days, v):\n",
        "  distribution = norm(loc=32.821, scale=9.404)\n",
        "  denominator = distribution.cdf(v)\n",
        "  numerator = integrate.quad(lambda x: distribution.cdf(x), 0, v)[0]\n",
        "  c=get_cost(applications, months_experience, hours_search, days)\n",
        "\n",
        "  bid = v -c -(numerator/denominator)\n",
        "\n",
        "  return bid"
      ],
      "execution_count": 46,
      "outputs": []
    },
    {
      "cell_type": "code",
      "metadata": {
        "id": "o5tOfCaKDQR6"
      },
      "source": [
        " # function that return the expected utility (in payoff matrix, this corresponds to omega 1, (bi,bj))\n",
        " def get_expected_util(applications, months_experience, hours_search, days, v):\n",
        "  \n",
        "  bid = get_bid(applications, months_experience, hours_search, days, v)\n",
        "\n",
        "  c = get_cost(applications, months_experience, hours_search, days)\n",
        "\n",
        "  distribution = norm(loc=32.821, scale=9.404)\n",
        "  F = (distribution.cdf(v))\n",
        "\n",
        "  expected_util = (v-bid-c)*F\n",
        "\n",
        "\n",
        "  return expected_util"
      ],
      "execution_count": 47,
      "outputs": []
    },
    {
      "cell_type": "code",
      "metadata": {
        "id": "HUD4rLAlXP1f"
      },
      "source": [
        "# function that return the actual utility (in payoff matrix, this corresponds the rest of the cells)\n",
        "# bid can be specified manually else it automatically calculates the optimal bidding strategy\n",
        "# if divide=True, then the utility will be divided by two (for the cases in the payoff matrix where the bids match)\n",
        "\n",
        "def get_actual_util(applications, months_experience, hours_search, days, v, bid=None, divide=False):\n",
        "  if bid is None:\n",
        "    bid = get_bid(applications, months_experience, hours_search, days, v)\n",
        "\n",
        "  c = get_cost(applications, months_experience, hours_search, days)\n",
        "  print(bid, c)\n",
        "  util = v-bid-c\n",
        "\n",
        "  if divide==True:\n",
        "    return util/2\n",
        "\n",
        "  return util"
      ],
      "execution_count": 48,
      "outputs": []
    },
    {
      "cell_type": "markdown",
      "metadata": {
        "id": "ZflK-Ce9Jerp"
      },
      "source": [
        "# Calculating numerical utility for matrices\n",
        "\n",
        "we know that v=60"
      ]
    },
    {
      "cell_type": "markdown",
      "metadata": {
        "id": "Zk3_bJLHKOWm"
      },
      "source": [
        "## Omega 1"
      ]
    },
    {
      "cell_type": "code",
      "metadata": {
        "colab": {
          "base_uri": "https://localhost:8080/"
        },
        "id": "g45t2GhHKbH0",
        "outputId": "bb1a94d5-4bcc-4422-cfec-1088c9083749"
      },
      "source": [
        "# calculate what B is\n",
        "B = get_bid(100,4,1,5,60)\n",
        "print(\"B:\",B)\n",
        "\n",
        "# calculate what b_i is\n",
        "b_i = get_bid(200,1,2,10,60)\n",
        "print(\"b_i:\",b_i)\n",
        "\n"
      ],
      "execution_count": 49,
      "outputs": [
        {
          "output_type": "stream",
          "text": [
            "B: 32.110480171439505\n",
            "b_i: 27.53678190340798\n"
          ],
          "name": "stdout"
        }
      ]
    },
    {
      "cell_type": "code",
      "metadata": {
        "id": "RxxcA23ZJhu-",
        "colab": {
          "base_uri": "https://localhost:8080/"
        },
        "outputId": "3c614ec0-077c-47dd-9bd4-3589cf1d1e30"
      },
      "source": [
        "# (bi,bj)\n",
        "# i and j get same utilities as same cost\n",
        "util = get_expected_util(200,1,2,10,60)\n",
        "\n",
        "print(\"player i:\", util)\n",
        "print(\"player j:\", util)\n",
        "\n",
        "top_left=str((util,util))"
      ],
      "execution_count": 50,
      "outputs": [
        {
          "output_type": "stream",
          "text": [
            "player i: 27.183697419961998\n",
            "player j: 27.183697419961998\n"
          ],
          "name": "stdout"
        }
      ]
    },
    {
      "cell_type": "code",
      "metadata": {
        "colab": {
          "base_uri": "https://localhost:8080/"
        },
        "id": "3H9aoDuoMeW9",
        "outputId": "df213181-3dfc-498d-e2a1-d2edbd9c9606"
      },
      "source": [
        "#(bi,B)\n",
        "\n",
        "util_i = 0\n",
        "util_j = get_actual_util(200,1,2,10,60, bid=B)\n",
        "\n",
        "print(\"player i:\", util_i)\n",
        "print(\"player j:\", util_j)\n",
        "\n",
        "top_right=str((util_i,util_j))"
      ],
      "execution_count": 51,
      "outputs": [
        {
          "output_type": "stream",
          "text": [
            "32.110480171439505 5.227083734893167\n",
            "player i: 0\n",
            "player j: 22.662436093667328\n"
          ],
          "name": "stdout"
        }
      ]
    },
    {
      "cell_type": "code",
      "metadata": {
        "colab": {
          "base_uri": "https://localhost:8080/"
        },
        "id": "DphpnytcSI_d",
        "outputId": "02a9b8f0-5003-49a3-a478-1e23d2fb6457"
      },
      "source": [
        "#(B,bi)\n",
        "\n",
        "util_i = get_actual_util(200,1,2,10,60, bid=B)\n",
        "util_j = 0\n",
        "\n",
        "print(\"player i:\", util_i)\n",
        "print(\"player j:\", util_j)\n",
        "\n",
        "bottom_left=str((util_i,util_j))"
      ],
      "execution_count": 52,
      "outputs": [
        {
          "output_type": "stream",
          "text": [
            "32.110480171439505 5.227083734893167\n",
            "player i: 22.662436093667328\n",
            "player j: 0\n"
          ],
          "name": "stdout"
        }
      ]
    },
    {
      "cell_type": "code",
      "metadata": {
        "colab": {
          "base_uri": "https://localhost:8080/"
        },
        "id": "jEUuZoWeR7rh",
        "outputId": "86ee5f45-cc25-462a-8e50-16b0e345dc67"
      },
      "source": [
        "#(B,B)\n",
        "\n",
        "util_i = get_actual_util(200,1,2,10,60, bid=B, divide=True)\n",
        "util_j = get_actual_util(200,1,2,10,60, bid=B, divide=True)\n",
        "\n",
        "print(\"player i:\", util_i)\n",
        "print(\"player j:\", util_j)\n",
        "\n",
        "bottom_right=str((util_i,util_j))"
      ],
      "execution_count": 53,
      "outputs": [
        {
          "output_type": "stream",
          "text": [
            "32.110480171439505 5.227083734893167\n",
            "32.110480171439505 5.227083734893167\n",
            "player i: 11.331218046833664\n",
            "player j: 11.331218046833664\n"
          ],
          "name": "stdout"
        }
      ]
    },
    {
      "cell_type": "code",
      "metadata": {
        "colab": {
          "base_uri": "https://localhost:8080/",
          "height": 111
        },
        "id": "g--qkzQ_fYFb",
        "outputId": "472c4f7f-19d2-4106-f5af-96508cfe1baf"
      },
      "source": [
        "matrix = np.array([[(top_left),(top_right)], [(bottom_left),(bottom_right)]])\n",
        "df = pd.DataFrame(matrix, columns=['bj','B'], index=['bi','B'])\n",
        "df"
      ],
      "execution_count": 54,
      "outputs": [
        {
          "output_type": "execute_result",
          "data": {
            "text/html": [
              "<div>\n",
              "<style scoped>\n",
              "    .dataframe tbody tr th:only-of-type {\n",
              "        vertical-align: middle;\n",
              "    }\n",
              "\n",
              "    .dataframe tbody tr th {\n",
              "        vertical-align: top;\n",
              "    }\n",
              "\n",
              "    .dataframe thead th {\n",
              "        text-align: right;\n",
              "    }\n",
              "</style>\n",
              "<table border=\"1\" class=\"dataframe\">\n",
              "  <thead>\n",
              "    <tr style=\"text-align: right;\">\n",
              "      <th></th>\n",
              "      <th>bj</th>\n",
              "      <th>B</th>\n",
              "    </tr>\n",
              "  </thead>\n",
              "  <tbody>\n",
              "    <tr>\n",
              "      <th>bi</th>\n",
              "      <td>(27.183697419961998, 27.183697419961998)</td>\n",
              "      <td>(0, 22.662436093667328)</td>\n",
              "    </tr>\n",
              "    <tr>\n",
              "      <th>B</th>\n",
              "      <td>(22.662436093667328, 0)</td>\n",
              "      <td>(11.331218046833664, 11.331218046833664)</td>\n",
              "    </tr>\n",
              "  </tbody>\n",
              "</table>\n",
              "</div>"
            ],
            "text/plain": [
              "                                          bj                                         B\n",
              "bi  (27.183697419961998, 27.183697419961998)                   (0, 22.662436093667328)\n",
              "B                    (22.662436093667328, 0)  (11.331218046833664, 11.331218046833664)"
            ]
          },
          "metadata": {
            "tags": []
          },
          "execution_count": 54
        }
      ]
    },
    {
      "cell_type": "markdown",
      "metadata": {
        "id": "C0e4TrubMXGj"
      },
      "source": [
        "The utilities were rounded to 2 decimal places\n"
      ]
    },
    {
      "cell_type": "code",
      "metadata": {
        "id": "fO45hVjcXCOb"
      },
      "source": [
        ""
      ],
      "execution_count": 54,
      "outputs": []
    },
    {
      "cell_type": "markdown",
      "metadata": {
        "id": "mrYV9N6lMlvf"
      },
      "source": [
        "## Omega 2"
      ]
    },
    {
      "cell_type": "code",
      "metadata": {
        "colab": {
          "base_uri": "https://localhost:8080/"
        },
        "id": "00vpfauCM5fA",
        "outputId": "4f003e7e-0081-4789-ba85-c0f5cb3ede11"
      },
      "source": [
        "#(bi,bi)\n",
        "util_i = get_actual_util(200,1,2,10,60, divide=True)\n",
        "util_j = get_actual_util(100,4,1,5,60, bid=b_i, divide=True)\n",
        "\n",
        "print(\"player i:\", util_i)\n",
        "print(\"player j:\", util_j)\n",
        "\n",
        "top_left=str((util_i,util_j))"
      ],
      "execution_count": 55,
      "outputs": [
        {
          "output_type": "stream",
          "text": [
            "27.53678190340798 5.227083734893167\n",
            "27.53678190340798 0.6533854668616459\n",
            "player i: 13.618067180849424\n",
            "player j: 15.904916314865185\n"
          ],
          "name": "stdout"
        }
      ]
    },
    {
      "cell_type": "code",
      "metadata": {
        "colab": {
          "base_uri": "https://localhost:8080/"
        },
        "id": "j4j4wkmyMnyN",
        "outputId": "11b38a10-94a5-40f5-a05f-1c13b0328ce5"
      },
      "source": [
        "#(bi,B)\n",
        "util_i = 0\n",
        "util_j = get_actual_util(100,4,1,5,60)\n",
        "\n",
        "print(\"player i:\", util_i)\n",
        "print(\"player j:\", util_j)\n",
        "\n",
        "top_right=str((util_i,util_j))"
      ],
      "execution_count": 56,
      "outputs": [
        {
          "output_type": "stream",
          "text": [
            "32.110480171439505 0.6533854668616459\n",
            "player i: 0\n",
            "player j: 27.23613436169885\n"
          ],
          "name": "stdout"
        }
      ]
    },
    {
      "cell_type": "code",
      "metadata": {
        "colab": {
          "base_uri": "https://localhost:8080/"
        },
        "id": "aPEDsYR6RUYS",
        "outputId": "50907147-f92d-4265-edde-e9fa745553ef"
      },
      "source": [
        "#(B,bi)\n",
        "util_i = get_actual_util(200,1,2,10,60, bid = B)\n",
        "util_j = 0\n",
        "\n",
        "print(\"player i:\", util_i)\n",
        "print(\"player j:\", util_j)\n",
        "\n",
        "bottom_left=str((util_i,util_j))"
      ],
      "execution_count": 57,
      "outputs": [
        {
          "output_type": "stream",
          "text": [
            "32.110480171439505 5.227083734893167\n",
            "player i: 22.662436093667328\n",
            "player j: 0\n"
          ],
          "name": "stdout"
        }
      ]
    },
    {
      "cell_type": "code",
      "metadata": {
        "colab": {
          "base_uri": "https://localhost:8080/"
        },
        "id": "kigouQDLRhhq",
        "outputId": "d82b0712-3588-4552-9f46-d36a1c164555"
      },
      "source": [
        "#(B,B)\n",
        "util_i = get_actual_util(200,1,2,10,60, bid=B, divide=True)\n",
        "util_j = get_actual_util(100,4,1,5,60, divide=True)\n",
        "\n",
        "print(\"player i:\", util_i)\n",
        "print(\"player j:\", util_j)\n",
        "\n",
        "bottom_right=str((util_i,util_j))"
      ],
      "execution_count": 58,
      "outputs": [
        {
          "output_type": "stream",
          "text": [
            "32.110480171439505 5.227083734893167\n",
            "32.110480171439505 0.6533854668616459\n",
            "player i: 11.331218046833664\n",
            "player j: 13.618067180849424\n"
          ],
          "name": "stdout"
        }
      ]
    },
    {
      "cell_type": "code",
      "metadata": {
        "id": "wbHwiIjPRnC5"
      },
      "source": [
        "matrix = np.array([[(top_left),(top_right)], [(bottom_left),(bottom_right)]])"
      ],
      "execution_count": 59,
      "outputs": []
    },
    {
      "cell_type": "code",
      "metadata": {
        "colab": {
          "base_uri": "https://localhost:8080/",
          "height": 111
        },
        "id": "PyUMMvN_TetL",
        "outputId": "7d430aa2-1b6d-4f05-e59f-239d94f38865"
      },
      "source": [
        "df = pd.DataFrame(matrix, columns=['bi','B'], index=['bi','B'])\n",
        "df"
      ],
      "execution_count": 60,
      "outputs": [
        {
          "output_type": "execute_result",
          "data": {
            "text/html": [
              "<div>\n",
              "<style scoped>\n",
              "    .dataframe tbody tr th:only-of-type {\n",
              "        vertical-align: middle;\n",
              "    }\n",
              "\n",
              "    .dataframe tbody tr th {\n",
              "        vertical-align: top;\n",
              "    }\n",
              "\n",
              "    .dataframe thead th {\n",
              "        text-align: right;\n",
              "    }\n",
              "</style>\n",
              "<table border=\"1\" class=\"dataframe\">\n",
              "  <thead>\n",
              "    <tr style=\"text-align: right;\">\n",
              "      <th></th>\n",
              "      <th>bi</th>\n",
              "      <th>B</th>\n",
              "    </tr>\n",
              "  </thead>\n",
              "  <tbody>\n",
              "    <tr>\n",
              "      <th>bi</th>\n",
              "      <td>(13.618067180849424, 15.904916314865185)</td>\n",
              "      <td>(0, 27.23613436169885)</td>\n",
              "    </tr>\n",
              "    <tr>\n",
              "      <th>B</th>\n",
              "      <td>(22.662436093667328, 0)</td>\n",
              "      <td>(11.331218046833664, 13.618067180849424)</td>\n",
              "    </tr>\n",
              "  </tbody>\n",
              "</table>\n",
              "</div>"
            ],
            "text/plain": [
              "                                          bi                                         B\n",
              "bi  (13.618067180849424, 15.904916314865185)                    (0, 27.23613436169885)\n",
              "B                    (22.662436093667328, 0)  (11.331218046833664, 13.618067180849424)"
            ]
          },
          "metadata": {
            "tags": []
          },
          "execution_count": 60
        }
      ]
    },
    {
      "cell_type": "code",
      "metadata": {
        "id": "XsHRGTk2U9C3"
      },
      "source": [
        ""
      ],
      "execution_count": 60,
      "outputs": []
    }
  ]
}